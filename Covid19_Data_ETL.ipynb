{
 "cells": [
  {
   "cell_type": "markdown",
   "metadata": {},
   "source": [
    "# Covid-19 (Coronavirus): Data Extract, Transform, Load (ETL) Notebook\n",
    "This notebook pulls data from various sources, performs data wrangling to get it into more usable formats, and exports to CSV for use in other notebooks, as well as for future reference.  \n",
    "\n",
    "Feeds into the Covid19_Analytics notebook."
   ]
  },
  {
   "cell_type": "markdown",
   "metadata": {},
   "source": [
    "## Data Sources\n",
    "\n",
    "### Primary Data Source: Johns Hopkins CSSE Data Repository \n",
    "- Link: https://github.com/CSSEGISandData/COVID-19  \n",
    "- **Live data:**\n",
    "    - Countries (cases, deaths, recoveries, active)\n",
    "    - US States (cases, deaths)\n",
    "    - US County (cases, deaths)\n",
    "- **Historic time series data:**\n",
    "    - Countries (cases, deaths, recoveries, active)\n",
    "    - US States (cases, deaths)\n",
    "    - US Counties (cases, deaths)\n",
    "\n",
    "### US State Testing and Hospitalizations: Covid Tracking Project \n",
    "- Link: https://covidtracking.com/data/ \n",
    "- **Live data:**\n",
    "    - US State testing and hospitalization, ICU stats\n",
    "- **Historic time series data:**\n",
    "    - US State testing and hospitalization, ICU stats"
   ]
  },
  {
   "cell_type": "markdown",
   "metadata": {},
   "source": [
    "## Import Libraries"
   ]
  },
  {
   "cell_type": "code",
   "execution_count": 1,
   "metadata": {},
   "outputs": [],
   "source": [
    "import pandas as pd\n",
    "import numpy as np\n",
    "from matplotlib import pyplot as plt\n",
    "from datetime import datetime\n",
    "import os"
   ]
  },
  {
   "cell_type": "markdown",
   "metadata": {},
   "source": [
    "## Get the Datasets"
   ]
  },
  {
   "cell_type": "markdown",
   "metadata": {},
   "source": [
    "### Dataset 1: John Hopkins"
   ]
  },
  {
   "cell_type": "markdown",
   "metadata": {},
   "source": [
    "Live data is stored in files named MM-DD-YYYY.csv, so get the current date for live data updates.  \n",
    "https://github.com/CSSEGISandData/COVID-19/tree/master/csse_covid_19_data/csse_covid_19_daily_reports"
   ]
  },
  {
   "cell_type": "markdown",
   "metadata": {},
   "source": [
    "#### 1A: Pull the Data from JH's github repo, immediately export as 'orig'"
   ]
  },
  {
   "cell_type": "code",
   "execution_count": 2,
   "metadata": {},
   "outputs": [
    {
     "data": {
      "text/plain": [
       "'11-24-2020'"
      ]
     },
     "execution_count": 2,
     "metadata": {},
     "output_type": "execute_result"
    }
   ],
   "source": [
    "# Create the filename to load based on today's date\n",
    "\n",
    "day = str(datetime.now().day) if datetime.now().day >= 10 else \"0\" + str(datetime.now().day)\n",
    "month = str(datetime.now().month) if datetime.now().month >= 10 else \"0\" + str(datetime.now().month)\n",
    "year = str(datetime.now().year)\n",
    "\n",
    "jh_live_date = month + \"-\" + day + \"-\" + year\n",
    "jh_live_date"
   ]
  },
  {
   "cell_type": "code",
   "execution_count": 3,
   "metadata": {},
   "outputs": [
    {
     "data": {
      "text/plain": [
       "'11-24-2020'"
      ]
     },
     "execution_count": 3,
     "metadata": {},
     "output_type": "execute_result"
    }
   ],
   "source": [
    "#  First try to pull today's data, but if it's not available yet, pull yesterday's data\n",
    "try:\n",
    "    fileURL = \"https://raw.githubusercontent.com/CSSEGISandData/COVID-19/master/csse_covid_19_data/csse_covid_19_daily_reports/\" + jh_live_date + \".csv\"\n",
    "    jh_live_global = pd.read_csv(fileURL)\n",
    "except:\n",
    "    day = str(datetime.now().day-1) if datetime.now().day-1 >= 10 else \"0\" + str(datetime.now().day-1)\n",
    "    jh_live_date = month + \"-\" + day + \"-\" + year\n",
    "    fileURL = \"https://raw.githubusercontent.com/CSSEGISandData/COVID-19/master/csse_covid_19_data/csse_covid_19_daily_reports/\" + jh_live_date + \".csv\"\n",
    "    jh_live_global = pd.read_csv(fileURL)\n",
    "    \n",
    "jh_live_date"
   ]
  },
  {
   "cell_type": "code",
   "execution_count": 4,
   "metadata": {},
   "outputs": [
    {
     "data": {
      "text/html": [
       "<div>\n",
       "<style scoped>\n",
       "    .dataframe tbody tr th:only-of-type {\n",
       "        vertical-align: middle;\n",
       "    }\n",
       "\n",
       "    .dataframe tbody tr th {\n",
       "        vertical-align: top;\n",
       "    }\n",
       "\n",
       "    .dataframe thead th {\n",
       "        text-align: right;\n",
       "    }\n",
       "</style>\n",
       "<table border=\"1\" class=\"dataframe\">\n",
       "  <thead>\n",
       "    <tr style=\"text-align: right;\">\n",
       "      <th></th>\n",
       "      <th>FIPS</th>\n",
       "      <th>Admin2</th>\n",
       "      <th>Province_State</th>\n",
       "      <th>Country_Region</th>\n",
       "      <th>Last_Update</th>\n",
       "      <th>Lat</th>\n",
       "      <th>Long_</th>\n",
       "      <th>Confirmed</th>\n",
       "      <th>Deaths</th>\n",
       "      <th>Recovered</th>\n",
       "      <th>Active</th>\n",
       "      <th>Combined_Key</th>\n",
       "      <th>Incident_Rate</th>\n",
       "      <th>Case_Fatality_Ratio</th>\n",
       "    </tr>\n",
       "  </thead>\n",
       "  <tbody>\n",
       "    <tr>\n",
       "      <th>0</th>\n",
       "      <td>NaN</td>\n",
       "      <td>NaN</td>\n",
       "      <td>NaN</td>\n",
       "      <td>Afghanistan</td>\n",
       "      <td>2020-11-25 05:27:20</td>\n",
       "      <td>33.93911</td>\n",
       "      <td>67.709953</td>\n",
       "      <td>45280</td>\n",
       "      <td>1712</td>\n",
       "      <td>36122</td>\n",
       "      <td>7446.0</td>\n",
       "      <td>Afghanistan</td>\n",
       "      <td>116.316285</td>\n",
       "      <td>3.780919</td>\n",
       "    </tr>\n",
       "    <tr>\n",
       "      <th>1</th>\n",
       "      <td>NaN</td>\n",
       "      <td>NaN</td>\n",
       "      <td>NaN</td>\n",
       "      <td>Albania</td>\n",
       "      <td>2020-11-25 05:27:20</td>\n",
       "      <td>41.15330</td>\n",
       "      <td>20.168300</td>\n",
       "      <td>34300</td>\n",
       "      <td>735</td>\n",
       "      <td>16666</td>\n",
       "      <td>16899.0</td>\n",
       "      <td>Albania</td>\n",
       "      <td>1191.882688</td>\n",
       "      <td>2.142857</td>\n",
       "    </tr>\n",
       "    <tr>\n",
       "      <th>2</th>\n",
       "      <td>NaN</td>\n",
       "      <td>NaN</td>\n",
       "      <td>NaN</td>\n",
       "      <td>Algeria</td>\n",
       "      <td>2020-11-25 05:27:20</td>\n",
       "      <td>28.03390</td>\n",
       "      <td>1.659600</td>\n",
       "      <td>77000</td>\n",
       "      <td>2309</td>\n",
       "      <td>50070</td>\n",
       "      <td>24621.0</td>\n",
       "      <td>Algeria</td>\n",
       "      <td>175.594455</td>\n",
       "      <td>2.998701</td>\n",
       "    </tr>\n",
       "    <tr>\n",
       "      <th>3</th>\n",
       "      <td>NaN</td>\n",
       "      <td>NaN</td>\n",
       "      <td>NaN</td>\n",
       "      <td>Andorra</td>\n",
       "      <td>2020-11-25 05:27:20</td>\n",
       "      <td>42.50630</td>\n",
       "      <td>1.521800</td>\n",
       "      <td>6351</td>\n",
       "      <td>76</td>\n",
       "      <td>5503</td>\n",
       "      <td>772.0</td>\n",
       "      <td>Andorra</td>\n",
       "      <td>8219.763153</td>\n",
       "      <td>1.196662</td>\n",
       "    </tr>\n",
       "    <tr>\n",
       "      <th>4</th>\n",
       "      <td>NaN</td>\n",
       "      <td>NaN</td>\n",
       "      <td>NaN</td>\n",
       "      <td>Angola</td>\n",
       "      <td>2020-11-25 05:27:20</td>\n",
       "      <td>-11.20270</td>\n",
       "      <td>17.873900</td>\n",
       "      <td>14742</td>\n",
       "      <td>338</td>\n",
       "      <td>7444</td>\n",
       "      <td>6960.0</td>\n",
       "      <td>Angola</td>\n",
       "      <td>44.854499</td>\n",
       "      <td>2.292769</td>\n",
       "    </tr>\n",
       "  </tbody>\n",
       "</table>\n",
       "</div>"
      ],
      "text/plain": [
       "   FIPS Admin2 Province_State Country_Region          Last_Update       Lat  \\\n",
       "0   NaN    NaN            NaN    Afghanistan  2020-11-25 05:27:20  33.93911   \n",
       "1   NaN    NaN            NaN        Albania  2020-11-25 05:27:20  41.15330   \n",
       "2   NaN    NaN            NaN        Algeria  2020-11-25 05:27:20  28.03390   \n",
       "3   NaN    NaN            NaN        Andorra  2020-11-25 05:27:20  42.50630   \n",
       "4   NaN    NaN            NaN         Angola  2020-11-25 05:27:20 -11.20270   \n",
       "\n",
       "       Long_  Confirmed  Deaths  Recovered   Active Combined_Key  \\\n",
       "0  67.709953      45280    1712      36122   7446.0  Afghanistan   \n",
       "1  20.168300      34300     735      16666  16899.0      Albania   \n",
       "2   1.659600      77000    2309      50070  24621.0      Algeria   \n",
       "3   1.521800       6351      76       5503    772.0      Andorra   \n",
       "4  17.873900      14742     338       7444   6960.0       Angola   \n",
       "\n",
       "   Incident_Rate  Case_Fatality_Ratio  \n",
       "0     116.316285             3.780919  \n",
       "1    1191.882688             2.142857  \n",
       "2     175.594455             2.998701  \n",
       "3    8219.763153             1.196662  \n",
       "4      44.854499             2.292769  "
      ]
     },
     "execution_count": 4,
     "metadata": {},
     "output_type": "execute_result"
    }
   ],
   "source": [
    "# Check out the first x rows to make sure the data loaded correctly\n",
    "jh_live_global.head()"
   ]
  },
  {
   "cell_type": "markdown",
   "metadata": {},
   "source": [
    "Now immediately export the original jh dataset before making any changes"
   ]
  },
  {
   "cell_type": "code",
   "execution_count": 5,
   "metadata": {},
   "outputs": [],
   "source": [
    "filename = os.path.join(os.getcwd(), 'Datasets/JH/orig/jh_live_global_orig.csv')\n",
    "jh_live_global.to_csv(filename, index=False)"
   ]
  },
  {
   "cell_type": "markdown",
   "metadata": {},
   "source": [
    "**Also pull the global historic time series data.  Note that it won't have live data from today until close to midnight PT.**"
   ]
  },
  {
   "cell_type": "code",
   "execution_count": 6,
   "metadata": {},
   "outputs": [
    {
     "data": {
      "text/html": [
       "<div>\n",
       "<style scoped>\n",
       "    .dataframe tbody tr th:only-of-type {\n",
       "        vertical-align: middle;\n",
       "    }\n",
       "\n",
       "    .dataframe tbody tr th {\n",
       "        vertical-align: top;\n",
       "    }\n",
       "\n",
       "    .dataframe thead th {\n",
       "        text-align: right;\n",
       "    }\n",
       "</style>\n",
       "<table border=\"1\" class=\"dataframe\">\n",
       "  <thead>\n",
       "    <tr style=\"text-align: right;\">\n",
       "      <th></th>\n",
       "      <th>Province/State</th>\n",
       "      <th>Country/Region</th>\n",
       "      <th>Lat</th>\n",
       "      <th>Long</th>\n",
       "      <th>1/22/20</th>\n",
       "      <th>1/23/20</th>\n",
       "      <th>1/24/20</th>\n",
       "      <th>1/25/20</th>\n",
       "      <th>1/26/20</th>\n",
       "      <th>1/27/20</th>\n",
       "      <th>...</th>\n",
       "      <th>11/14/20</th>\n",
       "      <th>11/15/20</th>\n",
       "      <th>11/16/20</th>\n",
       "      <th>11/17/20</th>\n",
       "      <th>11/18/20</th>\n",
       "      <th>11/19/20</th>\n",
       "      <th>11/20/20</th>\n",
       "      <th>11/21/20</th>\n",
       "      <th>11/22/20</th>\n",
       "      <th>11/23/20</th>\n",
       "    </tr>\n",
       "  </thead>\n",
       "  <tbody>\n",
       "    <tr>\n",
       "      <th>0</th>\n",
       "      <td>NaN</td>\n",
       "      <td>Afghanistan</td>\n",
       "      <td>33.93911</td>\n",
       "      <td>67.709953</td>\n",
       "      <td>0</td>\n",
       "      <td>0</td>\n",
       "      <td>0</td>\n",
       "      <td>0</td>\n",
       "      <td>0</td>\n",
       "      <td>0</td>\n",
       "      <td>...</td>\n",
       "      <td>43035</td>\n",
       "      <td>43240</td>\n",
       "      <td>43403</td>\n",
       "      <td>43628</td>\n",
       "      <td>43851</td>\n",
       "      <td>44228</td>\n",
       "      <td>44443</td>\n",
       "      <td>44503</td>\n",
       "      <td>44706</td>\n",
       "      <td>44988</td>\n",
       "    </tr>\n",
       "    <tr>\n",
       "      <th>1</th>\n",
       "      <td>NaN</td>\n",
       "      <td>Albania</td>\n",
       "      <td>41.15330</td>\n",
       "      <td>20.168300</td>\n",
       "      <td>0</td>\n",
       "      <td>0</td>\n",
       "      <td>0</td>\n",
       "      <td>0</td>\n",
       "      <td>0</td>\n",
       "      <td>0</td>\n",
       "      <td>...</td>\n",
       "      <td>27233</td>\n",
       "      <td>27830</td>\n",
       "      <td>28432</td>\n",
       "      <td>29126</td>\n",
       "      <td>29837</td>\n",
       "      <td>30623</td>\n",
       "      <td>31459</td>\n",
       "      <td>32196</td>\n",
       "      <td>32761</td>\n",
       "      <td>33556</td>\n",
       "    </tr>\n",
       "    <tr>\n",
       "      <th>2</th>\n",
       "      <td>NaN</td>\n",
       "      <td>Algeria</td>\n",
       "      <td>28.03390</td>\n",
       "      <td>1.659600</td>\n",
       "      <td>0</td>\n",
       "      <td>0</td>\n",
       "      <td>0</td>\n",
       "      <td>0</td>\n",
       "      <td>0</td>\n",
       "      <td>0</td>\n",
       "      <td>...</td>\n",
       "      <td>66819</td>\n",
       "      <td>67679</td>\n",
       "      <td>68589</td>\n",
       "      <td>69591</td>\n",
       "      <td>70629</td>\n",
       "      <td>71652</td>\n",
       "      <td>72755</td>\n",
       "      <td>73774</td>\n",
       "      <td>74862</td>\n",
       "      <td>75867</td>\n",
       "    </tr>\n",
       "  </tbody>\n",
       "</table>\n",
       "<p>3 rows × 311 columns</p>\n",
       "</div>"
      ],
      "text/plain": [
       "  Province/State Country/Region       Lat       Long  1/22/20  1/23/20  \\\n",
       "0            NaN    Afghanistan  33.93911  67.709953        0        0   \n",
       "1            NaN        Albania  41.15330  20.168300        0        0   \n",
       "2            NaN        Algeria  28.03390   1.659600        0        0   \n",
       "\n",
       "   1/24/20  1/25/20  1/26/20  1/27/20  ...  11/14/20  11/15/20  11/16/20  \\\n",
       "0        0        0        0        0  ...     43035     43240     43403   \n",
       "1        0        0        0        0  ...     27233     27830     28432   \n",
       "2        0        0        0        0  ...     66819     67679     68589   \n",
       "\n",
       "   11/17/20  11/18/20  11/19/20  11/20/20  11/21/20  11/22/20  11/23/20  \n",
       "0     43628     43851     44228     44443     44503     44706     44988  \n",
       "1     29126     29837     30623     31459     32196     32761     33556  \n",
       "2     69591     70629     71652     72755     73774     74862     75867  \n",
       "\n",
       "[3 rows x 311 columns]"
      ]
     },
     "execution_count": 6,
     "metadata": {},
     "output_type": "execute_result"
    }
   ],
   "source": [
    "jh_hist_global_cases = pd.read_csv('https://raw.githubusercontent.com/CSSEGISandData/COVID-19/master/csse_covid_19_data/csse_covid_19_time_series/time_series_covid19_confirmed_global.csv')\n",
    "jh_hist_global_cases.head(3)"
   ]
  },
  {
   "cell_type": "code",
   "execution_count": 7,
   "metadata": {},
   "outputs": [],
   "source": [
    "filename = os.path.join(os.getcwd(), 'Datasets/JH/orig/jh_hist_global_cases_orig.csv')\n",
    "jh_hist_global_cases.to_csv(filename, index=False)"
   ]
  },
  {
   "cell_type": "code",
   "execution_count": 8,
   "metadata": {},
   "outputs": [
    {
     "data": {
      "text/html": [
       "<div>\n",
       "<style scoped>\n",
       "    .dataframe tbody tr th:only-of-type {\n",
       "        vertical-align: middle;\n",
       "    }\n",
       "\n",
       "    .dataframe tbody tr th {\n",
       "        vertical-align: top;\n",
       "    }\n",
       "\n",
       "    .dataframe thead th {\n",
       "        text-align: right;\n",
       "    }\n",
       "</style>\n",
       "<table border=\"1\" class=\"dataframe\">\n",
       "  <thead>\n",
       "    <tr style=\"text-align: right;\">\n",
       "      <th></th>\n",
       "      <th>Province/State</th>\n",
       "      <th>Country/Region</th>\n",
       "      <th>Lat</th>\n",
       "      <th>Long</th>\n",
       "      <th>1/22/20</th>\n",
       "      <th>1/23/20</th>\n",
       "      <th>1/24/20</th>\n",
       "      <th>1/25/20</th>\n",
       "      <th>1/26/20</th>\n",
       "      <th>1/27/20</th>\n",
       "      <th>...</th>\n",
       "      <th>11/14/20</th>\n",
       "      <th>11/15/20</th>\n",
       "      <th>11/16/20</th>\n",
       "      <th>11/17/20</th>\n",
       "      <th>11/18/20</th>\n",
       "      <th>11/19/20</th>\n",
       "      <th>11/20/20</th>\n",
       "      <th>11/21/20</th>\n",
       "      <th>11/22/20</th>\n",
       "      <th>11/23/20</th>\n",
       "    </tr>\n",
       "  </thead>\n",
       "  <tbody>\n",
       "    <tr>\n",
       "      <th>0</th>\n",
       "      <td>NaN</td>\n",
       "      <td>Afghanistan</td>\n",
       "      <td>33.93911</td>\n",
       "      <td>67.709953</td>\n",
       "      <td>0</td>\n",
       "      <td>0</td>\n",
       "      <td>0</td>\n",
       "      <td>0</td>\n",
       "      <td>0</td>\n",
       "      <td>0</td>\n",
       "      <td>...</td>\n",
       "      <td>1605</td>\n",
       "      <td>1617</td>\n",
       "      <td>1626</td>\n",
       "      <td>1638</td>\n",
       "      <td>1645</td>\n",
       "      <td>1650</td>\n",
       "      <td>1661</td>\n",
       "      <td>1675</td>\n",
       "      <td>1687</td>\n",
       "      <td>1695</td>\n",
       "    </tr>\n",
       "    <tr>\n",
       "      <th>1</th>\n",
       "      <td>NaN</td>\n",
       "      <td>Albania</td>\n",
       "      <td>41.15330</td>\n",
       "      <td>20.168300</td>\n",
       "      <td>0</td>\n",
       "      <td>0</td>\n",
       "      <td>0</td>\n",
       "      <td>0</td>\n",
       "      <td>0</td>\n",
       "      <td>0</td>\n",
       "      <td>...</td>\n",
       "      <td>612</td>\n",
       "      <td>623</td>\n",
       "      <td>631</td>\n",
       "      <td>637</td>\n",
       "      <td>646</td>\n",
       "      <td>657</td>\n",
       "      <td>672</td>\n",
       "      <td>685</td>\n",
       "      <td>699</td>\n",
       "      <td>716</td>\n",
       "    </tr>\n",
       "    <tr>\n",
       "      <th>2</th>\n",
       "      <td>NaN</td>\n",
       "      <td>Algeria</td>\n",
       "      <td>28.03390</td>\n",
       "      <td>1.659600</td>\n",
       "      <td>0</td>\n",
       "      <td>0</td>\n",
       "      <td>0</td>\n",
       "      <td>0</td>\n",
       "      <td>0</td>\n",
       "      <td>0</td>\n",
       "      <td>...</td>\n",
       "      <td>2139</td>\n",
       "      <td>2154</td>\n",
       "      <td>2168</td>\n",
       "      <td>2186</td>\n",
       "      <td>2206</td>\n",
       "      <td>2224</td>\n",
       "      <td>2236</td>\n",
       "      <td>2255</td>\n",
       "      <td>2272</td>\n",
       "      <td>2294</td>\n",
       "    </tr>\n",
       "  </tbody>\n",
       "</table>\n",
       "<p>3 rows × 311 columns</p>\n",
       "</div>"
      ],
      "text/plain": [
       "  Province/State Country/Region       Lat       Long  1/22/20  1/23/20  \\\n",
       "0            NaN    Afghanistan  33.93911  67.709953        0        0   \n",
       "1            NaN        Albania  41.15330  20.168300        0        0   \n",
       "2            NaN        Algeria  28.03390   1.659600        0        0   \n",
       "\n",
       "   1/24/20  1/25/20  1/26/20  1/27/20  ...  11/14/20  11/15/20  11/16/20  \\\n",
       "0        0        0        0        0  ...      1605      1617      1626   \n",
       "1        0        0        0        0  ...       612       623       631   \n",
       "2        0        0        0        0  ...      2139      2154      2168   \n",
       "\n",
       "   11/17/20  11/18/20  11/19/20  11/20/20  11/21/20  11/22/20  11/23/20  \n",
       "0      1638      1645      1650      1661      1675      1687      1695  \n",
       "1       637       646       657       672       685       699       716  \n",
       "2      2186      2206      2224      2236      2255      2272      2294  \n",
       "\n",
       "[3 rows x 311 columns]"
      ]
     },
     "execution_count": 8,
     "metadata": {},
     "output_type": "execute_result"
    }
   ],
   "source": [
    "jh_hist_global_deaths = pd.read_csv('https://raw.githubusercontent.com/CSSEGISandData/COVID-19/master/csse_covid_19_data/csse_covid_19_time_series/time_series_covid19_deaths_global.csv')\n",
    "jh_hist_global_deaths.head(3)"
   ]
  },
  {
   "cell_type": "code",
   "execution_count": 9,
   "metadata": {},
   "outputs": [],
   "source": [
    "filename = os.path.join(os.getcwd(), 'Datasets/JH/orig/jh_hist_global_deaths_orig.csv')\n",
    "jh_hist_global_deaths.to_csv(filename, index=False)"
   ]
  },
  {
   "cell_type": "code",
   "execution_count": 10,
   "metadata": {},
   "outputs": [
    {
     "data": {
      "text/html": [
       "<div>\n",
       "<style scoped>\n",
       "    .dataframe tbody tr th:only-of-type {\n",
       "        vertical-align: middle;\n",
       "    }\n",
       "\n",
       "    .dataframe tbody tr th {\n",
       "        vertical-align: top;\n",
       "    }\n",
       "\n",
       "    .dataframe thead th {\n",
       "        text-align: right;\n",
       "    }\n",
       "</style>\n",
       "<table border=\"1\" class=\"dataframe\">\n",
       "  <thead>\n",
       "    <tr style=\"text-align: right;\">\n",
       "      <th></th>\n",
       "      <th>Province/State</th>\n",
       "      <th>Country/Region</th>\n",
       "      <th>Lat</th>\n",
       "      <th>Long</th>\n",
       "      <th>1/22/20</th>\n",
       "      <th>1/23/20</th>\n",
       "      <th>1/24/20</th>\n",
       "      <th>1/25/20</th>\n",
       "      <th>1/26/20</th>\n",
       "      <th>1/27/20</th>\n",
       "      <th>...</th>\n",
       "      <th>11/15/20</th>\n",
       "      <th>11/16/20</th>\n",
       "      <th>11/17/20</th>\n",
       "      <th>11/18/20</th>\n",
       "      <th>11/19/20</th>\n",
       "      <th>11/20/20</th>\n",
       "      <th>11/21/20</th>\n",
       "      <th>11/22/20</th>\n",
       "      <th>11/23/20</th>\n",
       "      <th>11/24/20</th>\n",
       "    </tr>\n",
       "  </thead>\n",
       "  <tbody>\n",
       "    <tr>\n",
       "      <th>0</th>\n",
       "      <td>NaN</td>\n",
       "      <td>Afghanistan</td>\n",
       "      <td>33.93911</td>\n",
       "      <td>67.709953</td>\n",
       "      <td>0</td>\n",
       "      <td>0</td>\n",
       "      <td>0</td>\n",
       "      <td>0</td>\n",
       "      <td>0</td>\n",
       "      <td>0</td>\n",
       "      <td>...</td>\n",
       "      <td>35092</td>\n",
       "      <td>35137</td>\n",
       "      <td>35160</td>\n",
       "      <td>35295</td>\n",
       "      <td>35350</td>\n",
       "      <td>35370</td>\n",
       "      <td>35422</td>\n",
       "      <td>35934</td>\n",
       "      <td>35976</td>\n",
       "      <td>36122</td>\n",
       "    </tr>\n",
       "    <tr>\n",
       "      <th>1</th>\n",
       "      <td>NaN</td>\n",
       "      <td>Albania</td>\n",
       "      <td>41.15330</td>\n",
       "      <td>20.168300</td>\n",
       "      <td>0</td>\n",
       "      <td>0</td>\n",
       "      <td>0</td>\n",
       "      <td>0</td>\n",
       "      <td>0</td>\n",
       "      <td>0</td>\n",
       "      <td>...</td>\n",
       "      <td>12889</td>\n",
       "      <td>13453</td>\n",
       "      <td>13804</td>\n",
       "      <td>14216</td>\n",
       "      <td>14565</td>\n",
       "      <td>15055</td>\n",
       "      <td>15469</td>\n",
       "      <td>15842</td>\n",
       "      <td>16230</td>\n",
       "      <td>16666</td>\n",
       "    </tr>\n",
       "    <tr>\n",
       "      <th>2</th>\n",
       "      <td>NaN</td>\n",
       "      <td>Algeria</td>\n",
       "      <td>28.03390</td>\n",
       "      <td>1.659600</td>\n",
       "      <td>0</td>\n",
       "      <td>0</td>\n",
       "      <td>0</td>\n",
       "      <td>0</td>\n",
       "      <td>0</td>\n",
       "      <td>0</td>\n",
       "      <td>...</td>\n",
       "      <td>44633</td>\n",
       "      <td>45148</td>\n",
       "      <td>45148</td>\n",
       "      <td>46326</td>\n",
       "      <td>46962</td>\n",
       "      <td>47581</td>\n",
       "      <td>48183</td>\n",
       "      <td>48794</td>\n",
       "      <td>49421</td>\n",
       "      <td>50070</td>\n",
       "    </tr>\n",
       "  </tbody>\n",
       "</table>\n",
       "<p>3 rows × 312 columns</p>\n",
       "</div>"
      ],
      "text/plain": [
       "  Province/State Country/Region       Lat       Long  1/22/20  1/23/20  \\\n",
       "0            NaN    Afghanistan  33.93911  67.709953        0        0   \n",
       "1            NaN        Albania  41.15330  20.168300        0        0   \n",
       "2            NaN        Algeria  28.03390   1.659600        0        0   \n",
       "\n",
       "   1/24/20  1/25/20  1/26/20  1/27/20  ...  11/15/20  11/16/20  11/17/20  \\\n",
       "0        0        0        0        0  ...     35092     35137     35160   \n",
       "1        0        0        0        0  ...     12889     13453     13804   \n",
       "2        0        0        0        0  ...     44633     45148     45148   \n",
       "\n",
       "   11/18/20  11/19/20  11/20/20  11/21/20  11/22/20  11/23/20  11/24/20  \n",
       "0     35295     35350     35370     35422     35934     35976     36122  \n",
       "1     14216     14565     15055     15469     15842     16230     16666  \n",
       "2     46326     46962     47581     48183     48794     49421     50070  \n",
       "\n",
       "[3 rows x 312 columns]"
      ]
     },
     "execution_count": 10,
     "metadata": {},
     "output_type": "execute_result"
    }
   ],
   "source": [
    "jh_hist_global_recovered = pd.read_csv('https://raw.githubusercontent.com/CSSEGISandData/COVID-19/master/csse_covid_19_data/csse_covid_19_time_series/time_series_covid19_recovered_global.csv')\n",
    "jh_hist_global_recovered.head(3)"
   ]
  },
  {
   "cell_type": "code",
   "execution_count": 11,
   "metadata": {},
   "outputs": [],
   "source": [
    "filename = os.path.join(os.getcwd(), 'Datasets/JH/orig/jh_hist_global_recovered_orig.csv')\n",
    "jh_hist_global_recovered.to_csv(filename, index=False)"
   ]
  },
  {
   "cell_type": "code",
   "execution_count": 12,
   "metadata": {},
   "outputs": [
    {
     "data": {
      "text/html": [
       "<div>\n",
       "<style scoped>\n",
       "    .dataframe tbody tr th:only-of-type {\n",
       "        vertical-align: middle;\n",
       "    }\n",
       "\n",
       "    .dataframe tbody tr th {\n",
       "        vertical-align: top;\n",
       "    }\n",
       "\n",
       "    .dataframe thead th {\n",
       "        text-align: right;\n",
       "    }\n",
       "</style>\n",
       "<table border=\"1\" class=\"dataframe\">\n",
       "  <thead>\n",
       "    <tr style=\"text-align: right;\">\n",
       "      <th></th>\n",
       "      <th>UID</th>\n",
       "      <th>iso2</th>\n",
       "      <th>iso3</th>\n",
       "      <th>code3</th>\n",
       "      <th>FIPS</th>\n",
       "      <th>Admin2</th>\n",
       "      <th>Province_State</th>\n",
       "      <th>Country_Region</th>\n",
       "      <th>Lat</th>\n",
       "      <th>Long_</th>\n",
       "      <th>...</th>\n",
       "      <th>11/15/20</th>\n",
       "      <th>11/16/20</th>\n",
       "      <th>11/17/20</th>\n",
       "      <th>11/18/20</th>\n",
       "      <th>11/19/20</th>\n",
       "      <th>11/20/20</th>\n",
       "      <th>11/21/20</th>\n",
       "      <th>11/22/20</th>\n",
       "      <th>11/23/20</th>\n",
       "      <th>11/24/20</th>\n",
       "    </tr>\n",
       "  </thead>\n",
       "  <tbody>\n",
       "    <tr>\n",
       "      <th>0</th>\n",
       "      <td>84001001</td>\n",
       "      <td>US</td>\n",
       "      <td>USA</td>\n",
       "      <td>840</td>\n",
       "      <td>1001.0</td>\n",
       "      <td>Autauga</td>\n",
       "      <td>Alabama</td>\n",
       "      <td>US</td>\n",
       "      <td>32.539527</td>\n",
       "      <td>-86.644082</td>\n",
       "      <td>...</td>\n",
       "      <td>2456</td>\n",
       "      <td>2481</td>\n",
       "      <td>2506</td>\n",
       "      <td>2529</td>\n",
       "      <td>2554</td>\n",
       "      <td>2580</td>\n",
       "      <td>2597</td>\n",
       "      <td>2617</td>\n",
       "      <td>2634</td>\n",
       "      <td>2661</td>\n",
       "    </tr>\n",
       "    <tr>\n",
       "      <th>1</th>\n",
       "      <td>84001003</td>\n",
       "      <td>US</td>\n",
       "      <td>USA</td>\n",
       "      <td>840</td>\n",
       "      <td>1003.0</td>\n",
       "      <td>Baldwin</td>\n",
       "      <td>Alabama</td>\n",
       "      <td>US</td>\n",
       "      <td>30.727750</td>\n",
       "      <td>-87.722071</td>\n",
       "      <td>...</td>\n",
       "      <td>7646</td>\n",
       "      <td>7696</td>\n",
       "      <td>7772</td>\n",
       "      <td>7849</td>\n",
       "      <td>7933</td>\n",
       "      <td>8038</td>\n",
       "      <td>8131</td>\n",
       "      <td>8199</td>\n",
       "      <td>8269</td>\n",
       "      <td>8376</td>\n",
       "    </tr>\n",
       "    <tr>\n",
       "      <th>2</th>\n",
       "      <td>84001005</td>\n",
       "      <td>US</td>\n",
       "      <td>USA</td>\n",
       "      <td>840</td>\n",
       "      <td>1005.0</td>\n",
       "      <td>Barbour</td>\n",
       "      <td>Alabama</td>\n",
       "      <td>US</td>\n",
       "      <td>31.868263</td>\n",
       "      <td>-85.387129</td>\n",
       "      <td>...</td>\n",
       "      <td>1128</td>\n",
       "      <td>1130</td>\n",
       "      <td>1134</td>\n",
       "      <td>1137</td>\n",
       "      <td>1145</td>\n",
       "      <td>1151</td>\n",
       "      <td>1157</td>\n",
       "      <td>1160</td>\n",
       "      <td>1161</td>\n",
       "      <td>1167</td>\n",
       "    </tr>\n",
       "  </tbody>\n",
       "</table>\n",
       "<p>3 rows × 319 columns</p>\n",
       "</div>"
      ],
      "text/plain": [
       "        UID iso2 iso3  code3    FIPS   Admin2 Province_State Country_Region  \\\n",
       "0  84001001   US  USA    840  1001.0  Autauga        Alabama             US   \n",
       "1  84001003   US  USA    840  1003.0  Baldwin        Alabama             US   \n",
       "2  84001005   US  USA    840  1005.0  Barbour        Alabama             US   \n",
       "\n",
       "         Lat      Long_  ... 11/15/20  11/16/20  11/17/20  11/18/20  11/19/20  \\\n",
       "0  32.539527 -86.644082  ...     2456      2481      2506      2529      2554   \n",
       "1  30.727750 -87.722071  ...     7646      7696      7772      7849      7933   \n",
       "2  31.868263 -85.387129  ...     1128      1130      1134      1137      1145   \n",
       "\n",
       "   11/20/20  11/21/20  11/22/20  11/23/20  11/24/20  \n",
       "0      2580      2597      2617      2634      2661  \n",
       "1      8038      8131      8199      8269      8376  \n",
       "2      1151      1157      1160      1161      1167  \n",
       "\n",
       "[3 rows x 319 columns]"
      ]
     },
     "execution_count": 12,
     "metadata": {},
     "output_type": "execute_result"
    }
   ],
   "source": [
    "jh_hist_uscounties_cases = pd.read_csv('https://raw.githubusercontent.com/CSSEGISandData/COVID-19/master/csse_covid_19_data/csse_covid_19_time_series/time_series_covid19_confirmed_US.csv')\n",
    "jh_hist_uscounties_cases.head(3)"
   ]
  },
  {
   "cell_type": "code",
   "execution_count": 13,
   "metadata": {},
   "outputs": [],
   "source": [
    "filename = os.path.join(os.getcwd(), 'Datasets/JH/orig/jh_hist_uscounties_cases_orig.csv')\n",
    "jh_hist_uscounties_cases.to_csv(filename, index=False)"
   ]
  },
  {
   "cell_type": "code",
   "execution_count": 14,
   "metadata": {},
   "outputs": [
    {
     "data": {
      "text/html": [
       "<div>\n",
       "<style scoped>\n",
       "    .dataframe tbody tr th:only-of-type {\n",
       "        vertical-align: middle;\n",
       "    }\n",
       "\n",
       "    .dataframe tbody tr th {\n",
       "        vertical-align: top;\n",
       "    }\n",
       "\n",
       "    .dataframe thead th {\n",
       "        text-align: right;\n",
       "    }\n",
       "</style>\n",
       "<table border=\"1\" class=\"dataframe\">\n",
       "  <thead>\n",
       "    <tr style=\"text-align: right;\">\n",
       "      <th></th>\n",
       "      <th>UID</th>\n",
       "      <th>iso2</th>\n",
       "      <th>iso3</th>\n",
       "      <th>code3</th>\n",
       "      <th>FIPS</th>\n",
       "      <th>Admin2</th>\n",
       "      <th>Province_State</th>\n",
       "      <th>Country_Region</th>\n",
       "      <th>Lat</th>\n",
       "      <th>Long_</th>\n",
       "      <th>...</th>\n",
       "      <th>11/14/20</th>\n",
       "      <th>11/15/20</th>\n",
       "      <th>11/16/20</th>\n",
       "      <th>11/17/20</th>\n",
       "      <th>11/18/20</th>\n",
       "      <th>11/19/20</th>\n",
       "      <th>11/20/20</th>\n",
       "      <th>11/21/20</th>\n",
       "      <th>11/22/20</th>\n",
       "      <th>11/23/20</th>\n",
       "    </tr>\n",
       "  </thead>\n",
       "  <tbody>\n",
       "    <tr>\n",
       "      <th>0</th>\n",
       "      <td>84001001</td>\n",
       "      <td>US</td>\n",
       "      <td>USA</td>\n",
       "      <td>840</td>\n",
       "      <td>1001.0</td>\n",
       "      <td>Autauga</td>\n",
       "      <td>Alabama</td>\n",
       "      <td>US</td>\n",
       "      <td>32.539527</td>\n",
       "      <td>-86.644082</td>\n",
       "      <td>...</td>\n",
       "      <td>36</td>\n",
       "      <td>36</td>\n",
       "      <td>36</td>\n",
       "      <td>37</td>\n",
       "      <td>37</td>\n",
       "      <td>39</td>\n",
       "      <td>39</td>\n",
       "      <td>39</td>\n",
       "      <td>39</td>\n",
       "      <td>39</td>\n",
       "    </tr>\n",
       "    <tr>\n",
       "      <th>1</th>\n",
       "      <td>84001003</td>\n",
       "      <td>US</td>\n",
       "      <td>USA</td>\n",
       "      <td>840</td>\n",
       "      <td>1003.0</td>\n",
       "      <td>Baldwin</td>\n",
       "      <td>Alabama</td>\n",
       "      <td>US</td>\n",
       "      <td>30.727750</td>\n",
       "      <td>-87.722071</td>\n",
       "      <td>...</td>\n",
       "      <td>84</td>\n",
       "      <td>84</td>\n",
       "      <td>84</td>\n",
       "      <td>84</td>\n",
       "      <td>84</td>\n",
       "      <td>84</td>\n",
       "      <td>84</td>\n",
       "      <td>84</td>\n",
       "      <td>84</td>\n",
       "      <td>84</td>\n",
       "    </tr>\n",
       "    <tr>\n",
       "      <th>2</th>\n",
       "      <td>84001005</td>\n",
       "      <td>US</td>\n",
       "      <td>USA</td>\n",
       "      <td>840</td>\n",
       "      <td>1005.0</td>\n",
       "      <td>Barbour</td>\n",
       "      <td>Alabama</td>\n",
       "      <td>US</td>\n",
       "      <td>31.868263</td>\n",
       "      <td>-85.387129</td>\n",
       "      <td>...</td>\n",
       "      <td>9</td>\n",
       "      <td>9</td>\n",
       "      <td>9</td>\n",
       "      <td>9</td>\n",
       "      <td>10</td>\n",
       "      <td>10</td>\n",
       "      <td>10</td>\n",
       "      <td>10</td>\n",
       "      <td>10</td>\n",
       "      <td>10</td>\n",
       "    </tr>\n",
       "  </tbody>\n",
       "</table>\n",
       "<p>3 rows × 319 columns</p>\n",
       "</div>"
      ],
      "text/plain": [
       "        UID iso2 iso3  code3    FIPS   Admin2 Province_State Country_Region  \\\n",
       "0  84001001   US  USA    840  1001.0  Autauga        Alabama             US   \n",
       "1  84001003   US  USA    840  1003.0  Baldwin        Alabama             US   \n",
       "2  84001005   US  USA    840  1005.0  Barbour        Alabama             US   \n",
       "\n",
       "         Lat      Long_  ... 11/14/20  11/15/20  11/16/20  11/17/20  11/18/20  \\\n",
       "0  32.539527 -86.644082  ...       36        36        36        37        37   \n",
       "1  30.727750 -87.722071  ...       84        84        84        84        84   \n",
       "2  31.868263 -85.387129  ...        9         9         9         9        10   \n",
       "\n",
       "   11/19/20  11/20/20  11/21/20  11/22/20  11/23/20  \n",
       "0        39        39        39        39        39  \n",
       "1        84        84        84        84        84  \n",
       "2        10        10        10        10        10  \n",
       "\n",
       "[3 rows x 319 columns]"
      ]
     },
     "execution_count": 14,
     "metadata": {},
     "output_type": "execute_result"
    }
   ],
   "source": [
    "jh_hist_uscounties_deaths = pd.read_csv('https://raw.githubusercontent.com/CSSEGISandData/COVID-19/master/csse_covid_19_data/csse_covid_19_time_series/time_series_covid19_deaths_US.csv')\n",
    "jh_hist_uscounties_deaths.head(3)"
   ]
  },
  {
   "cell_type": "code",
   "execution_count": 15,
   "metadata": {},
   "outputs": [],
   "source": [
    "filename = os.path.join(os.getcwd(), 'Datasets/JH/orig/jh_hist_uscounties_deaths_orig.csv')\n",
    "jh_hist_uscounties_deaths.to_csv(filename, index=False)"
   ]
  },
  {
   "cell_type": "markdown",
   "metadata": {},
   "source": [
    "#### 1B: Wrangle the data into more usable format"
   ]
  },
  {
   "cell_type": "markdown",
   "metadata": {},
   "source": [
    "For the JH live global data, it will be useful to group / subtotal by Country, by US State, and by US County.  \n",
    "\n",
    "For the historic time series data, these need to be rearranged so that the date is in \n",
    "datetime format and pivoted so the date is the index of the DataFrame."
   ]
  },
  {
   "cell_type": "code",
   "execution_count": 16,
   "metadata": {},
   "outputs": [
    {
     "data": {
      "text/html": [
       "<div>\n",
       "<style scoped>\n",
       "    .dataframe tbody tr th:only-of-type {\n",
       "        vertical-align: middle;\n",
       "    }\n",
       "\n",
       "    .dataframe tbody tr th {\n",
       "        vertical-align: top;\n",
       "    }\n",
       "\n",
       "    .dataframe thead th {\n",
       "        text-align: right;\n",
       "    }\n",
       "</style>\n",
       "<table border=\"1\" class=\"dataframe\">\n",
       "  <thead>\n",
       "    <tr style=\"text-align: right;\">\n",
       "      <th></th>\n",
       "      <th>FIPS</th>\n",
       "      <th>Admin2</th>\n",
       "      <th>Province_State</th>\n",
       "      <th>Country_Region</th>\n",
       "      <th>Last_Update</th>\n",
       "      <th>Lat</th>\n",
       "      <th>Long_</th>\n",
       "      <th>Confirmed</th>\n",
       "      <th>Deaths</th>\n",
       "      <th>Recovered</th>\n",
       "      <th>Active</th>\n",
       "      <th>Combined_Key</th>\n",
       "      <th>Incident_Rate</th>\n",
       "      <th>Case_Fatality_Ratio</th>\n",
       "    </tr>\n",
       "  </thead>\n",
       "  <tbody>\n",
       "    <tr>\n",
       "      <th>648</th>\n",
       "      <td>1001.0</td>\n",
       "      <td>Autauga</td>\n",
       "      <td>Alabama</td>\n",
       "      <td>US</td>\n",
       "      <td>2020-11-25 05:27:20</td>\n",
       "      <td>32.539527</td>\n",
       "      <td>-86.644082</td>\n",
       "      <td>2661</td>\n",
       "      <td>39</td>\n",
       "      <td>0</td>\n",
       "      <td>2622.0</td>\n",
       "      <td>Autauga, Alabama, US</td>\n",
       "      <td>4762.927563</td>\n",
       "      <td>1.465614</td>\n",
       "    </tr>\n",
       "    <tr>\n",
       "      <th>685</th>\n",
       "      <td>1075.0</td>\n",
       "      <td>Lamar</td>\n",
       "      <td>Alabama</td>\n",
       "      <td>US</td>\n",
       "      <td>2020-11-25 05:27:20</td>\n",
       "      <td>33.779950</td>\n",
       "      <td>-88.096680</td>\n",
       "      <td>633</td>\n",
       "      <td>7</td>\n",
       "      <td>0</td>\n",
       "      <td>626.0</td>\n",
       "      <td>Lamar, Alabama, US</td>\n",
       "      <td>4585.295183</td>\n",
       "      <td>1.105845</td>\n",
       "    </tr>\n",
       "    <tr>\n",
       "      <th>686</th>\n",
       "      <td>1077.0</td>\n",
       "      <td>Lauderdale</td>\n",
       "      <td>Alabama</td>\n",
       "      <td>US</td>\n",
       "      <td>2020-11-25 05:27:20</td>\n",
       "      <td>34.901719</td>\n",
       "      <td>-87.656247</td>\n",
       "      <td>3872</td>\n",
       "      <td>53</td>\n",
       "      <td>0</td>\n",
       "      <td>3819.0</td>\n",
       "      <td>Lauderdale, Alabama, US</td>\n",
       "      <td>4175.608494</td>\n",
       "      <td>1.368802</td>\n",
       "    </tr>\n",
       "  </tbody>\n",
       "</table>\n",
       "</div>"
      ],
      "text/plain": [
       "       FIPS      Admin2 Province_State Country_Region          Last_Update  \\\n",
       "648  1001.0     Autauga        Alabama             US  2020-11-25 05:27:20   \n",
       "685  1075.0       Lamar        Alabama             US  2020-11-25 05:27:20   \n",
       "686  1077.0  Lauderdale        Alabama             US  2020-11-25 05:27:20   \n",
       "\n",
       "           Lat      Long_  Confirmed  Deaths  Recovered  Active  \\\n",
       "648  32.539527 -86.644082       2661      39          0  2622.0   \n",
       "685  33.779950 -88.096680        633       7          0   626.0   \n",
       "686  34.901719 -87.656247       3872      53          0  3819.0   \n",
       "\n",
       "                Combined_Key  Incident_Rate  Case_Fatality_Ratio  \n",
       "648     Autauga, Alabama, US    4762.927563             1.465614  \n",
       "685       Lamar, Alabama, US    4585.295183             1.105845  \n",
       "686  Lauderdale, Alabama, US    4175.608494             1.368802  "
      ]
     },
     "execution_count": 16,
     "metadata": {},
     "output_type": "execute_result"
    }
   ],
   "source": [
    "jh_live_global[jh_live_global['Country_Region']=='US'].sort_values('Province_State').head(3)"
   ]
  },
  {
   "cell_type": "markdown",
   "metadata": {},
   "source": [
    "##### 1B-1: Pivot Table on the JH live global data, grouped / subtotalled by **Country**"
   ]
  },
  {
   "cell_type": "code",
   "execution_count": 17,
   "metadata": {},
   "outputs": [],
   "source": [
    "jh_live_countries = pd.pivot_table(jh_live_global, index=['Country_Region'], \n",
    "                                   values=['Confirmed', 'Deaths', 'Recovered'], aggfunc=np.sum)"
   ]
  },
  {
   "cell_type": "code",
   "execution_count": 18,
   "metadata": {},
   "outputs": [
    {
     "data": {
      "text/html": [
       "<div>\n",
       "<style scoped>\n",
       "    .dataframe tbody tr th:only-of-type {\n",
       "        vertical-align: middle;\n",
       "    }\n",
       "\n",
       "    .dataframe tbody tr th {\n",
       "        vertical-align: top;\n",
       "    }\n",
       "\n",
       "    .dataframe thead th {\n",
       "        text-align: right;\n",
       "    }\n",
       "</style>\n",
       "<table border=\"1\" class=\"dataframe\">\n",
       "  <thead>\n",
       "    <tr style=\"text-align: right;\">\n",
       "      <th></th>\n",
       "      <th>Confirmed</th>\n",
       "      <th>Deaths</th>\n",
       "      <th>Recovered</th>\n",
       "    </tr>\n",
       "    <tr>\n",
       "      <th>Country_Region</th>\n",
       "      <th></th>\n",
       "      <th></th>\n",
       "      <th></th>\n",
       "    </tr>\n",
       "  </thead>\n",
       "  <tbody>\n",
       "    <tr>\n",
       "      <th>US</th>\n",
       "      <td>12591163</td>\n",
       "      <td>259925</td>\n",
       "      <td>4696664</td>\n",
       "    </tr>\n",
       "    <tr>\n",
       "      <th>India</th>\n",
       "      <td>9222216</td>\n",
       "      <td>134699</td>\n",
       "      <td>8642771</td>\n",
       "    </tr>\n",
       "    <tr>\n",
       "      <th>Brazil</th>\n",
       "      <td>6118708</td>\n",
       "      <td>170115</td>\n",
       "      <td>5509645</td>\n",
       "    </tr>\n",
       "  </tbody>\n",
       "</table>\n",
       "</div>"
      ],
      "text/plain": [
       "                Confirmed  Deaths  Recovered\n",
       "Country_Region                              \n",
       "US               12591163  259925    4696664\n",
       "India             9222216  134699    8642771\n",
       "Brazil            6118708  170115    5509645"
      ]
     },
     "execution_count": 18,
     "metadata": {},
     "output_type": "execute_result"
    }
   ],
   "source": [
    "jh_live_countries.sort_values('Confirmed', ascending=False).head(3)"
   ]
  },
  {
   "cell_type": "code",
   "execution_count": 19,
   "metadata": {},
   "outputs": [],
   "source": [
    "jh_live_countries['Active'] = jh_live_countries['Confirmed'] - jh_live_countries['Deaths'] - jh_live_countries['Recovered']"
   ]
  },
  {
   "cell_type": "code",
   "execution_count": 20,
   "metadata": {},
   "outputs": [],
   "source": [
    "jh_live_countries['Last_Update'] = pd.pivot_table(jh_live_global, index=['Country_Region'], \n",
    "                                   values=['Last_Update'], aggfunc=np.max)\n",
    "jh_live_countries['Lat'] = pd.pivot_table(jh_live_global, index=['Country_Region'], \n",
    "                                   values=['Lat'], aggfunc=np.mean)\n",
    "jh_live_countries['Long'] = pd.pivot_table(jh_live_global, index=['Country_Region'], \n",
    "                                   values=['Long_'], aggfunc=np.mean)"
   ]
  },
  {
   "cell_type": "code",
   "execution_count": 21,
   "metadata": {},
   "outputs": [
    {
     "data": {
      "text/html": [
       "<div>\n",
       "<style scoped>\n",
       "    .dataframe tbody tr th:only-of-type {\n",
       "        vertical-align: middle;\n",
       "    }\n",
       "\n",
       "    .dataframe tbody tr th {\n",
       "        vertical-align: top;\n",
       "    }\n",
       "\n",
       "    .dataframe thead th {\n",
       "        text-align: right;\n",
       "    }\n",
       "</style>\n",
       "<table border=\"1\" class=\"dataframe\">\n",
       "  <thead>\n",
       "    <tr style=\"text-align: right;\">\n",
       "      <th></th>\n",
       "      <th>Confirmed</th>\n",
       "      <th>Deaths</th>\n",
       "      <th>Recovered</th>\n",
       "      <th>Active</th>\n",
       "      <th>Last_Update</th>\n",
       "      <th>Lat</th>\n",
       "      <th>Long</th>\n",
       "    </tr>\n",
       "    <tr>\n",
       "      <th>Country_Region</th>\n",
       "      <th></th>\n",
       "      <th></th>\n",
       "      <th></th>\n",
       "      <th></th>\n",
       "      <th></th>\n",
       "      <th></th>\n",
       "      <th></th>\n",
       "    </tr>\n",
       "  </thead>\n",
       "  <tbody>\n",
       "    <tr>\n",
       "      <th>US</th>\n",
       "      <td>12591163</td>\n",
       "      <td>259925</td>\n",
       "      <td>4696664</td>\n",
       "      <td>7634574</td>\n",
       "      <td>2020-11-25 05:27:20</td>\n",
       "      <td>37.936303</td>\n",
       "      <td>-91.379001</td>\n",
       "    </tr>\n",
       "    <tr>\n",
       "      <th>India</th>\n",
       "      <td>9222216</td>\n",
       "      <td>134699</td>\n",
       "      <td>8642771</td>\n",
       "      <td>444746</td>\n",
       "      <td>2020-11-25 05:27:20</td>\n",
       "      <td>23.088275</td>\n",
       "      <td>81.806127</td>\n",
       "    </tr>\n",
       "    <tr>\n",
       "      <th>Brazil</th>\n",
       "      <td>6118708</td>\n",
       "      <td>170115</td>\n",
       "      <td>5509645</td>\n",
       "      <td>438948</td>\n",
       "      <td>2020-11-25 05:27:20</td>\n",
       "      <td>-12.669522</td>\n",
       "      <td>-48.480493</td>\n",
       "    </tr>\n",
       "    <tr>\n",
       "      <th>France</th>\n",
       "      <td>2206126</td>\n",
       "      <td>50324</td>\n",
       "      <td>160257</td>\n",
       "      <td>1995545</td>\n",
       "      <td>2020-11-25 05:27:20</td>\n",
       "      <td>8.314863</td>\n",
       "      <td>-21.695174</td>\n",
       "    </tr>\n",
       "    <tr>\n",
       "      <th>Russia</th>\n",
       "      <td>2120836</td>\n",
       "      <td>36675</td>\n",
       "      <td>1621465</td>\n",
       "      <td>462696</td>\n",
       "      <td>2020-11-25 05:27:20</td>\n",
       "      <td>54.546312</td>\n",
       "      <td>62.120860</td>\n",
       "    </tr>\n",
       "  </tbody>\n",
       "</table>\n",
       "</div>"
      ],
      "text/plain": [
       "                Confirmed  Deaths  Recovered   Active          Last_Update  \\\n",
       "Country_Region                                                               \n",
       "US               12591163  259925    4696664  7634574  2020-11-25 05:27:20   \n",
       "India             9222216  134699    8642771   444746  2020-11-25 05:27:20   \n",
       "Brazil            6118708  170115    5509645   438948  2020-11-25 05:27:20   \n",
       "France            2206126   50324     160257  1995545  2020-11-25 05:27:20   \n",
       "Russia            2120836   36675    1621465   462696  2020-11-25 05:27:20   \n",
       "\n",
       "                      Lat       Long  \n",
       "Country_Region                        \n",
       "US              37.936303 -91.379001  \n",
       "India           23.088275  81.806127  \n",
       "Brazil         -12.669522 -48.480493  \n",
       "France           8.314863 -21.695174  \n",
       "Russia          54.546312  62.120860  "
      ]
     },
     "execution_count": 21,
     "metadata": {},
     "output_type": "execute_result"
    }
   ],
   "source": [
    "jh_live_countries.sort_values('Confirmed', ascending=False).head(5)"
   ]
  },
  {
   "cell_type": "markdown",
   "metadata": {},
   "source": [
    "##### 1B-2: Pivot Table on the JH live global data, grouped / subtotalled by **US State**"
   ]
  },
  {
   "cell_type": "code",
   "execution_count": 22,
   "metadata": {},
   "outputs": [],
   "source": [
    "jh_live_usstates = pd.pivot_table(jh_live_global[jh_live_global['Country_Region']=='US'], \n",
    "                                    index=['Province_State'], values=['Confirmed', 'Deaths', 'Recovered'], \n",
    "                                    aggfunc=np.sum)"
   ]
  },
  {
   "cell_type": "code",
   "execution_count": 23,
   "metadata": {},
   "outputs": [
    {
     "data": {
      "text/html": [
       "<div>\n",
       "<style scoped>\n",
       "    .dataframe tbody tr th:only-of-type {\n",
       "        vertical-align: middle;\n",
       "    }\n",
       "\n",
       "    .dataframe tbody tr th {\n",
       "        vertical-align: top;\n",
       "    }\n",
       "\n",
       "    .dataframe thead th {\n",
       "        text-align: right;\n",
       "    }\n",
       "</style>\n",
       "<table border=\"1\" class=\"dataframe\">\n",
       "  <thead>\n",
       "    <tr style=\"text-align: right;\">\n",
       "      <th></th>\n",
       "      <th>Confirmed</th>\n",
       "      <th>Deaths</th>\n",
       "      <th>Recovered</th>\n",
       "    </tr>\n",
       "    <tr>\n",
       "      <th>Province_State</th>\n",
       "      <th></th>\n",
       "      <th></th>\n",
       "      <th></th>\n",
       "    </tr>\n",
       "  </thead>\n",
       "  <tbody>\n",
       "    <tr>\n",
       "      <th>Texas</th>\n",
       "      <td>1181533</td>\n",
       "      <td>21245</td>\n",
       "      <td>0</td>\n",
       "    </tr>\n",
       "    <tr>\n",
       "      <th>California</th>\n",
       "      <td>1145209</td>\n",
       "      <td>18862</td>\n",
       "      <td>0</td>\n",
       "    </tr>\n",
       "    <tr>\n",
       "      <th>Florida</th>\n",
       "      <td>953300</td>\n",
       "      <td>18157</td>\n",
       "      <td>0</td>\n",
       "    </tr>\n",
       "  </tbody>\n",
       "</table>\n",
       "</div>"
      ],
      "text/plain": [
       "                Confirmed  Deaths  Recovered\n",
       "Province_State                              \n",
       "Texas             1181533   21245          0\n",
       "California        1145209   18862          0\n",
       "Florida            953300   18157          0"
      ]
     },
     "execution_count": 23,
     "metadata": {},
     "output_type": "execute_result"
    }
   ],
   "source": [
    "jh_live_usstates.sort_values('Confirmed', ascending=False).head(3)"
   ]
  },
  {
   "cell_type": "code",
   "execution_count": 24,
   "metadata": {},
   "outputs": [],
   "source": [
    "jh_live_usstates['Active'] = jh_live_usstates['Confirmed'] - jh_live_usstates['Deaths'] - jh_live_usstates['Recovered']"
   ]
  },
  {
   "cell_type": "code",
   "execution_count": 25,
   "metadata": {},
   "outputs": [],
   "source": [
    "jh_live_usstates['Last_Update'] = pd.pivot_table(jh_live_global[jh_live_global['Country_Region']=='US'], \n",
    "                                    index=['Province_State'], values=['Last_Update'], \n",
    "                                    aggfunc=np.max)\n",
    "jh_live_usstates['Lat'] = pd.pivot_table(jh_live_global[jh_live_global['Country_Region']=='US'], \n",
    "                                    index=['Province_State'], values=['Lat'], \n",
    "                                    aggfunc=np.mean)\n",
    "jh_live_usstates['Long'] = pd.pivot_table(jh_live_global[jh_live_global['Country_Region']=='US'], \n",
    "                                    index=['Province_State'], values=['Long_'], \n",
    "                                    aggfunc=np.mean)"
   ]
  },
  {
   "cell_type": "code",
   "execution_count": 26,
   "metadata": {},
   "outputs": [
    {
     "data": {
      "text/html": [
       "<div>\n",
       "<style scoped>\n",
       "    .dataframe tbody tr th:only-of-type {\n",
       "        vertical-align: middle;\n",
       "    }\n",
       "\n",
       "    .dataframe tbody tr th {\n",
       "        vertical-align: top;\n",
       "    }\n",
       "\n",
       "    .dataframe thead th {\n",
       "        text-align: right;\n",
       "    }\n",
       "</style>\n",
       "<table border=\"1\" class=\"dataframe\">\n",
       "  <thead>\n",
       "    <tr style=\"text-align: right;\">\n",
       "      <th></th>\n",
       "      <th>Confirmed</th>\n",
       "      <th>Deaths</th>\n",
       "      <th>Recovered</th>\n",
       "      <th>Active</th>\n",
       "      <th>Last_Update</th>\n",
       "      <th>Lat</th>\n",
       "      <th>Long</th>\n",
       "    </tr>\n",
       "    <tr>\n",
       "      <th>Province_State</th>\n",
       "      <th></th>\n",
       "      <th></th>\n",
       "      <th></th>\n",
       "      <th></th>\n",
       "      <th></th>\n",
       "      <th></th>\n",
       "      <th></th>\n",
       "    </tr>\n",
       "  </thead>\n",
       "  <tbody>\n",
       "    <tr>\n",
       "      <th>Texas</th>\n",
       "      <td>1181533</td>\n",
       "      <td>21245</td>\n",
       "      <td>0</td>\n",
       "      <td>1160288</td>\n",
       "      <td>2020-11-25 05:27:20</td>\n",
       "      <td>31.660643</td>\n",
       "      <td>-98.653069</td>\n",
       "    </tr>\n",
       "    <tr>\n",
       "      <th>California</th>\n",
       "      <td>1145209</td>\n",
       "      <td>18862</td>\n",
       "      <td>0</td>\n",
       "      <td>1126347</td>\n",
       "      <td>2020-11-25 05:27:20</td>\n",
       "      <td>37.843962</td>\n",
       "      <td>-120.728594</td>\n",
       "    </tr>\n",
       "    <tr>\n",
       "      <th>Florida</th>\n",
       "      <td>953300</td>\n",
       "      <td>18157</td>\n",
       "      <td>0</td>\n",
       "      <td>935143</td>\n",
       "      <td>2020-11-25 05:27:20</td>\n",
       "      <td>28.940755</td>\n",
       "      <td>-82.700744</td>\n",
       "    </tr>\n",
       "    <tr>\n",
       "      <th>Illinois</th>\n",
       "      <td>674089</td>\n",
       "      <td>12261</td>\n",
       "      <td>0</td>\n",
       "      <td>661828</td>\n",
       "      <td>2020-11-25 05:27:20</td>\n",
       "      <td>39.843618</td>\n",
       "      <td>-89.178330</td>\n",
       "    </tr>\n",
       "    <tr>\n",
       "      <th>New York</th>\n",
       "      <td>607001</td>\n",
       "      <td>34362</td>\n",
       "      <td>0</td>\n",
       "      <td>572639</td>\n",
       "      <td>2020-11-25 05:27:20</td>\n",
       "      <td>42.544151</td>\n",
       "      <td>-75.474183</td>\n",
       "    </tr>\n",
       "  </tbody>\n",
       "</table>\n",
       "</div>"
      ],
      "text/plain": [
       "                Confirmed  Deaths  Recovered   Active          Last_Update  \\\n",
       "Province_State                                                               \n",
       "Texas             1181533   21245          0  1160288  2020-11-25 05:27:20   \n",
       "California        1145209   18862          0  1126347  2020-11-25 05:27:20   \n",
       "Florida            953300   18157          0   935143  2020-11-25 05:27:20   \n",
       "Illinois           674089   12261          0   661828  2020-11-25 05:27:20   \n",
       "New York           607001   34362          0   572639  2020-11-25 05:27:20   \n",
       "\n",
       "                      Lat        Long  \n",
       "Province_State                         \n",
       "Texas           31.660643  -98.653069  \n",
       "California      37.843962 -120.728594  \n",
       "Florida         28.940755  -82.700744  \n",
       "Illinois        39.843618  -89.178330  \n",
       "New York        42.544151  -75.474183  "
      ]
     },
     "execution_count": 26,
     "metadata": {},
     "output_type": "execute_result"
    }
   ],
   "source": [
    "jh_live_usstates.sort_values('Confirmed', ascending=False).head(5)"
   ]
  },
  {
   "cell_type": "markdown",
   "metadata": {},
   "source": [
    "##### 1B-3: Pivot Table on the JH live global data, grouped / subtotalled by **US County**"
   ]
  },
  {
   "cell_type": "code",
   "execution_count": 27,
   "metadata": {},
   "outputs": [],
   "source": [
    "jh_live_uscounties = pd.pivot_table(jh_live_global[jh_live_global['Country_Region']=='US'], \n",
    "                                    index=['Province_State', 'Admin2'], values=['Confirmed', 'Deaths', 'Recovered'], \n",
    "                                    aggfunc=np.sum)"
   ]
  },
  {
   "cell_type": "code",
   "execution_count": 28,
   "metadata": {},
   "outputs": [
    {
     "data": {
      "text/html": [
       "<div>\n",
       "<style scoped>\n",
       "    .dataframe tbody tr th:only-of-type {\n",
       "        vertical-align: middle;\n",
       "    }\n",
       "\n",
       "    .dataframe tbody tr th {\n",
       "        vertical-align: top;\n",
       "    }\n",
       "\n",
       "    .dataframe thead th {\n",
       "        text-align: right;\n",
       "    }\n",
       "</style>\n",
       "<table border=\"1\" class=\"dataframe\">\n",
       "  <thead>\n",
       "    <tr style=\"text-align: right;\">\n",
       "      <th></th>\n",
       "      <th></th>\n",
       "      <th>Confirmed</th>\n",
       "      <th>Deaths</th>\n",
       "      <th>Recovered</th>\n",
       "    </tr>\n",
       "    <tr>\n",
       "      <th>Province_State</th>\n",
       "      <th>Admin2</th>\n",
       "      <th></th>\n",
       "      <th></th>\n",
       "      <th></th>\n",
       "    </tr>\n",
       "  </thead>\n",
       "  <tbody>\n",
       "    <tr>\n",
       "      <th>California</th>\n",
       "      <th>Los Angeles</th>\n",
       "      <td>374134</td>\n",
       "      <td>7497</td>\n",
       "      <td>0</td>\n",
       "    </tr>\n",
       "    <tr>\n",
       "      <th>Illinois</th>\n",
       "      <th>Cook</th>\n",
       "      <td>287124</td>\n",
       "      <td>6389</td>\n",
       "      <td>0</td>\n",
       "    </tr>\n",
       "    <tr>\n",
       "      <th>Florida</th>\n",
       "      <th>Miami-Dade</th>\n",
       "      <td>218294</td>\n",
       "      <td>3789</td>\n",
       "      <td>0</td>\n",
       "    </tr>\n",
       "    <tr>\n",
       "      <th>Arizona</th>\n",
       "      <th>Maricopa</th>\n",
       "      <td>194410</td>\n",
       "      <td>3922</td>\n",
       "      <td>0</td>\n",
       "    </tr>\n",
       "    <tr>\n",
       "      <th>Texas</th>\n",
       "      <th>Harris</th>\n",
       "      <td>185304</td>\n",
       "      <td>2974</td>\n",
       "      <td>0</td>\n",
       "    </tr>\n",
       "  </tbody>\n",
       "</table>\n",
       "</div>"
      ],
      "text/plain": [
       "                            Confirmed  Deaths  Recovered\n",
       "Province_State Admin2                                   \n",
       "California     Los Angeles     374134    7497          0\n",
       "Illinois       Cook            287124    6389          0\n",
       "Florida        Miami-Dade      218294    3789          0\n",
       "Arizona        Maricopa        194410    3922          0\n",
       "Texas          Harris          185304    2974          0"
      ]
     },
     "execution_count": 28,
     "metadata": {},
     "output_type": "execute_result"
    }
   ],
   "source": [
    "jh_live_uscounties.sort_values('Confirmed', ascending=False).head(5)"
   ]
  },
  {
   "cell_type": "code",
   "execution_count": 29,
   "metadata": {},
   "outputs": [],
   "source": [
    "jh_live_uscounties['Active'] = jh_live_uscounties['Confirmed'] - jh_live_uscounties['Deaths'] - jh_live_uscounties['Recovered']\n"
   ]
  },
  {
   "cell_type": "code",
   "execution_count": 30,
   "metadata": {},
   "outputs": [],
   "source": [
    "jh_live_uscounties['Last_Update'] = pd.pivot_table(jh_live_global[jh_live_global['Country_Region']=='US'], \n",
    "                                    index=['Province_State', 'Admin2'], values=['Last_Update'], \n",
    "                                    aggfunc=np.max)\n",
    "jh_live_uscounties['Lat'] = pd.pivot_table(jh_live_global[jh_live_global['Country_Region']=='US'], \n",
    "                                    index=['Province_State', 'Admin2'], values=['Lat'], \n",
    "                                    aggfunc=np.mean)\n",
    "jh_live_uscounties['Long'] = pd.pivot_table(jh_live_global[jh_live_global['Country_Region']=='US'], \n",
    "                                    index=['Province_State', 'Admin2'], values=['Long_'], \n",
    "                                    aggfunc=np.mean)\n",
    "jh_live_uscounties['FIPS'] = pd.pivot_table(jh_live_global[jh_live_global['Country_Region']=='US'], \n",
    "                                    index=['Province_State', 'Admin2'], values=['FIPS'], \n",
    "                                    aggfunc=np.max)"
   ]
  },
  {
   "cell_type": "code",
   "execution_count": 31,
   "metadata": {},
   "outputs": [
    {
     "data": {
      "text/html": [
       "<div>\n",
       "<style scoped>\n",
       "    .dataframe tbody tr th:only-of-type {\n",
       "        vertical-align: middle;\n",
       "    }\n",
       "\n",
       "    .dataframe tbody tr th {\n",
       "        vertical-align: top;\n",
       "    }\n",
       "\n",
       "    .dataframe thead th {\n",
       "        text-align: right;\n",
       "    }\n",
       "</style>\n",
       "<table border=\"1\" class=\"dataframe\">\n",
       "  <thead>\n",
       "    <tr style=\"text-align: right;\">\n",
       "      <th></th>\n",
       "      <th></th>\n",
       "      <th>Confirmed</th>\n",
       "      <th>Deaths</th>\n",
       "      <th>Recovered</th>\n",
       "      <th>Active</th>\n",
       "      <th>Last_Update</th>\n",
       "      <th>Lat</th>\n",
       "      <th>Long</th>\n",
       "      <th>FIPS</th>\n",
       "    </tr>\n",
       "    <tr>\n",
       "      <th>Province_State</th>\n",
       "      <th>Admin2</th>\n",
       "      <th></th>\n",
       "      <th></th>\n",
       "      <th></th>\n",
       "      <th></th>\n",
       "      <th></th>\n",
       "      <th></th>\n",
       "      <th></th>\n",
       "      <th></th>\n",
       "    </tr>\n",
       "  </thead>\n",
       "  <tbody>\n",
       "    <tr>\n",
       "      <th>California</th>\n",
       "      <th>Los Angeles</th>\n",
       "      <td>374134</td>\n",
       "      <td>7497</td>\n",
       "      <td>0</td>\n",
       "      <td>366637</td>\n",
       "      <td>2020-11-25 05:27:20</td>\n",
       "      <td>34.308284</td>\n",
       "      <td>-118.228241</td>\n",
       "      <td>6037.0</td>\n",
       "    </tr>\n",
       "    <tr>\n",
       "      <th>Illinois</th>\n",
       "      <th>Cook</th>\n",
       "      <td>287124</td>\n",
       "      <td>6389</td>\n",
       "      <td>0</td>\n",
       "      <td>280735</td>\n",
       "      <td>2020-11-25 05:27:20</td>\n",
       "      <td>41.841448</td>\n",
       "      <td>-87.816588</td>\n",
       "      <td>17031.0</td>\n",
       "    </tr>\n",
       "    <tr>\n",
       "      <th>Florida</th>\n",
       "      <th>Miami-Dade</th>\n",
       "      <td>218294</td>\n",
       "      <td>3789</td>\n",
       "      <td>0</td>\n",
       "      <td>214505</td>\n",
       "      <td>2020-11-25 05:27:20</td>\n",
       "      <td>25.611236</td>\n",
       "      <td>-80.551706</td>\n",
       "      <td>12086.0</td>\n",
       "    </tr>\n",
       "    <tr>\n",
       "      <th>Arizona</th>\n",
       "      <th>Maricopa</th>\n",
       "      <td>194410</td>\n",
       "      <td>3922</td>\n",
       "      <td>0</td>\n",
       "      <td>190488</td>\n",
       "      <td>2020-11-25 05:27:20</td>\n",
       "      <td>33.348359</td>\n",
       "      <td>-112.491815</td>\n",
       "      <td>4013.0</td>\n",
       "    </tr>\n",
       "    <tr>\n",
       "      <th>Texas</th>\n",
       "      <th>Harris</th>\n",
       "      <td>185304</td>\n",
       "      <td>2974</td>\n",
       "      <td>0</td>\n",
       "      <td>182330</td>\n",
       "      <td>2020-11-25 05:27:20</td>\n",
       "      <td>29.858649</td>\n",
       "      <td>-95.393395</td>\n",
       "      <td>48201.0</td>\n",
       "    </tr>\n",
       "  </tbody>\n",
       "</table>\n",
       "</div>"
      ],
      "text/plain": [
       "                            Confirmed  Deaths  Recovered  Active  \\\n",
       "Province_State Admin2                                              \n",
       "California     Los Angeles     374134    7497          0  366637   \n",
       "Illinois       Cook            287124    6389          0  280735   \n",
       "Florida        Miami-Dade      218294    3789          0  214505   \n",
       "Arizona        Maricopa        194410    3922          0  190488   \n",
       "Texas          Harris          185304    2974          0  182330   \n",
       "\n",
       "                                    Last_Update        Lat        Long  \\\n",
       "Province_State Admin2                                                    \n",
       "California     Los Angeles  2020-11-25 05:27:20  34.308284 -118.228241   \n",
       "Illinois       Cook         2020-11-25 05:27:20  41.841448  -87.816588   \n",
       "Florida        Miami-Dade   2020-11-25 05:27:20  25.611236  -80.551706   \n",
       "Arizona        Maricopa     2020-11-25 05:27:20  33.348359 -112.491815   \n",
       "Texas          Harris       2020-11-25 05:27:20  29.858649  -95.393395   \n",
       "\n",
       "                               FIPS  \n",
       "Province_State Admin2                \n",
       "California     Los Angeles   6037.0  \n",
       "Illinois       Cook         17031.0  \n",
       "Florida        Miami-Dade   12086.0  \n",
       "Arizona        Maricopa      4013.0  \n",
       "Texas          Harris       48201.0  "
      ]
     },
     "execution_count": 31,
     "metadata": {},
     "output_type": "execute_result"
    }
   ],
   "source": [
    "jh_live_uscounties.sort_values('Confirmed', ascending=False).head(5)"
   ]
  },
  {
   "cell_type": "markdown",
   "metadata": {},
   "source": [
    "##### 1B-4: Pivot Table on the JH historic **confirmed cases**, grouped / subtotalled by **Country**"
   ]
  },
  {
   "cell_type": "code",
   "execution_count": 32,
   "metadata": {},
   "outputs": [],
   "source": [
    "# First, isolate the date columns of the JH historic time series data to be used in the following 3 Pivot Tables\n",
    "date_columns = jh_hist_global_cases.iloc[:, 4:].columns"
   ]
  },
  {
   "cell_type": "code",
   "execution_count": 33,
   "metadata": {},
   "outputs": [],
   "source": [
    "jh_hist_countries_cases = pd.pivot_table(jh_hist_global_cases, index=['Country/Region'], \n",
    "                                            values=date_columns, aggfunc=np.sum)\n",
    "jh_hist_countries_cases = jh_hist_countries_cases.transpose()\n",
    "jh_hist_countries_cases.index = pd.to_datetime(jh_hist_countries_cases.index)\n",
    "jh_hist_countries_cases = jh_hist_countries_cases.sort_index()"
   ]
  },
  {
   "cell_type": "code",
   "execution_count": 34,
   "metadata": {},
   "outputs": [
    {
     "data": {
      "text/html": [
       "<div>\n",
       "<style scoped>\n",
       "    .dataframe tbody tr th:only-of-type {\n",
       "        vertical-align: middle;\n",
       "    }\n",
       "\n",
       "    .dataframe tbody tr th {\n",
       "        vertical-align: top;\n",
       "    }\n",
       "\n",
       "    .dataframe thead th {\n",
       "        text-align: right;\n",
       "    }\n",
       "</style>\n",
       "<table border=\"1\" class=\"dataframe\">\n",
       "  <thead>\n",
       "    <tr style=\"text-align: right;\">\n",
       "      <th>Country/Region</th>\n",
       "      <th>Afghanistan</th>\n",
       "      <th>Albania</th>\n",
       "      <th>Algeria</th>\n",
       "      <th>Andorra</th>\n",
       "      <th>Angola</th>\n",
       "      <th>Antigua and Barbuda</th>\n",
       "      <th>Argentina</th>\n",
       "      <th>Armenia</th>\n",
       "      <th>Australia</th>\n",
       "      <th>Austria</th>\n",
       "      <th>...</th>\n",
       "      <th>Uruguay</th>\n",
       "      <th>Uzbekistan</th>\n",
       "      <th>Vanuatu</th>\n",
       "      <th>Venezuela</th>\n",
       "      <th>Vietnam</th>\n",
       "      <th>West Bank and Gaza</th>\n",
       "      <th>Western Sahara</th>\n",
       "      <th>Yemen</th>\n",
       "      <th>Zambia</th>\n",
       "      <th>Zimbabwe</th>\n",
       "    </tr>\n",
       "  </thead>\n",
       "  <tbody>\n",
       "    <tr>\n",
       "      <th>2020-11-21</th>\n",
       "      <td>44503</td>\n",
       "      <td>32196</td>\n",
       "      <td>73774</td>\n",
       "      <td>6207</td>\n",
       "      <td>14413</td>\n",
       "      <td>139</td>\n",
       "      <td>1366182</td>\n",
       "      <td>124839</td>\n",
       "      <td>27821</td>\n",
       "      <td>241962</td>\n",
       "      <td>...</td>\n",
       "      <td>4564</td>\n",
       "      <td>71431</td>\n",
       "      <td>1</td>\n",
       "      <td>99435</td>\n",
       "      <td>1306</td>\n",
       "      <td>70254</td>\n",
       "      <td>10</td>\n",
       "      <td>2093</td>\n",
       "      <td>17394</td>\n",
       "      <td>9172</td>\n",
       "    </tr>\n",
       "    <tr>\n",
       "      <th>2020-11-22</th>\n",
       "      <td>44706</td>\n",
       "      <td>32761</td>\n",
       "      <td>74862</td>\n",
       "      <td>6256</td>\n",
       "      <td>14493</td>\n",
       "      <td>139</td>\n",
       "      <td>1370366</td>\n",
       "      <td>126224</td>\n",
       "      <td>27834</td>\n",
       "      <td>247188</td>\n",
       "      <td>...</td>\n",
       "      <td>4699</td>\n",
       "      <td>71617</td>\n",
       "      <td>1</td>\n",
       "      <td>99835</td>\n",
       "      <td>1307</td>\n",
       "      <td>71644</td>\n",
       "      <td>10</td>\n",
       "      <td>2099</td>\n",
       "      <td>17424</td>\n",
       "      <td>9220</td>\n",
       "    </tr>\n",
       "    <tr>\n",
       "      <th>2020-11-23</th>\n",
       "      <td>44988</td>\n",
       "      <td>33556</td>\n",
       "      <td>75867</td>\n",
       "      <td>6304</td>\n",
       "      <td>14634</td>\n",
       "      <td>139</td>\n",
       "      <td>1374631</td>\n",
       "      <td>126709</td>\n",
       "      <td>27843</td>\n",
       "      <td>250333</td>\n",
       "      <td>...</td>\n",
       "      <td>4763</td>\n",
       "      <td>71774</td>\n",
       "      <td>1</td>\n",
       "      <td>100143</td>\n",
       "      <td>1312</td>\n",
       "      <td>73196</td>\n",
       "      <td>10</td>\n",
       "      <td>2107</td>\n",
       "      <td>17454</td>\n",
       "      <td>9308</td>\n",
       "    </tr>\n",
       "  </tbody>\n",
       "</table>\n",
       "<p>3 rows × 191 columns</p>\n",
       "</div>"
      ],
      "text/plain": [
       "Country/Region  Afghanistan  Albania  Algeria  Andorra  Angola  \\\n",
       "2020-11-21            44503    32196    73774     6207   14413   \n",
       "2020-11-22            44706    32761    74862     6256   14493   \n",
       "2020-11-23            44988    33556    75867     6304   14634   \n",
       "\n",
       "Country/Region  Antigua and Barbuda  Argentina  Armenia  Australia  Austria  \\\n",
       "2020-11-21                      139    1366182   124839      27821   241962   \n",
       "2020-11-22                      139    1370366   126224      27834   247188   \n",
       "2020-11-23                      139    1374631   126709      27843   250333   \n",
       "\n",
       "Country/Region  ...  Uruguay  Uzbekistan  Vanuatu  Venezuela  Vietnam  \\\n",
       "2020-11-21      ...     4564       71431        1      99435     1306   \n",
       "2020-11-22      ...     4699       71617        1      99835     1307   \n",
       "2020-11-23      ...     4763       71774        1     100143     1312   \n",
       "\n",
       "Country/Region  West Bank and Gaza  Western Sahara  Yemen  Zambia  Zimbabwe  \n",
       "2020-11-21                   70254              10   2093   17394      9172  \n",
       "2020-11-22                   71644              10   2099   17424      9220  \n",
       "2020-11-23                   73196              10   2107   17454      9308  \n",
       "\n",
       "[3 rows x 191 columns]"
      ]
     },
     "execution_count": 34,
     "metadata": {},
     "output_type": "execute_result"
    }
   ],
   "source": [
    "jh_hist_countries_cases.tail(3)"
   ]
  },
  {
   "cell_type": "markdown",
   "metadata": {},
   "source": [
    "##### 1B-5: Pivot Table on the JH historic **deaths**, grouped / subtotalled by **Country**"
   ]
  },
  {
   "cell_type": "code",
   "execution_count": 35,
   "metadata": {},
   "outputs": [],
   "source": [
    "jh_hist_countries_deaths = pd.pivot_table(jh_hist_global_deaths, index=['Country/Region'], values=date_columns, aggfunc=np.sum)\n",
    "jh_hist_countries_deaths = jh_hist_countries_deaths.transpose()\n",
    "jh_hist_countries_deaths.index = pd.to_datetime(jh_hist_countries_deaths.index)\n",
    "jh_hist_countries_deaths = jh_hist_countries_deaths.sort_index()"
   ]
  },
  {
   "cell_type": "code",
   "execution_count": 36,
   "metadata": {},
   "outputs": [
    {
     "data": {
      "text/html": [
       "<div>\n",
       "<style scoped>\n",
       "    .dataframe tbody tr th:only-of-type {\n",
       "        vertical-align: middle;\n",
       "    }\n",
       "\n",
       "    .dataframe tbody tr th {\n",
       "        vertical-align: top;\n",
       "    }\n",
       "\n",
       "    .dataframe thead th {\n",
       "        text-align: right;\n",
       "    }\n",
       "</style>\n",
       "<table border=\"1\" class=\"dataframe\">\n",
       "  <thead>\n",
       "    <tr style=\"text-align: right;\">\n",
       "      <th>Country/Region</th>\n",
       "      <th>Afghanistan</th>\n",
       "      <th>Albania</th>\n",
       "      <th>Algeria</th>\n",
       "      <th>Andorra</th>\n",
       "      <th>Angola</th>\n",
       "      <th>Antigua and Barbuda</th>\n",
       "      <th>Argentina</th>\n",
       "      <th>Armenia</th>\n",
       "      <th>Australia</th>\n",
       "      <th>Austria</th>\n",
       "      <th>...</th>\n",
       "      <th>Uruguay</th>\n",
       "      <th>Uzbekistan</th>\n",
       "      <th>Vanuatu</th>\n",
       "      <th>Venezuela</th>\n",
       "      <th>Vietnam</th>\n",
       "      <th>West Bank and Gaza</th>\n",
       "      <th>Western Sahara</th>\n",
       "      <th>Yemen</th>\n",
       "      <th>Zambia</th>\n",
       "      <th>Zimbabwe</th>\n",
       "    </tr>\n",
       "  </thead>\n",
       "  <tbody>\n",
       "    <tr>\n",
       "      <th>2020-11-21</th>\n",
       "      <td>1675</td>\n",
       "      <td>685</td>\n",
       "      <td>2255</td>\n",
       "      <td>76</td>\n",
       "      <td>336</td>\n",
       "      <td>4</td>\n",
       "      <td>36902</td>\n",
       "      <td>1931</td>\n",
       "      <td>907</td>\n",
       "      <td>2328</td>\n",
       "      <td>...</td>\n",
       "      <td>69</td>\n",
       "      <td>603</td>\n",
       "      <td>0</td>\n",
       "      <td>869</td>\n",
       "      <td>35</td>\n",
       "      <td>620</td>\n",
       "      <td>1</td>\n",
       "      <td>608</td>\n",
       "      <td>356</td>\n",
       "      <td>265</td>\n",
       "    </tr>\n",
       "    <tr>\n",
       "      <th>2020-11-22</th>\n",
       "      <td>1687</td>\n",
       "      <td>699</td>\n",
       "      <td>2272</td>\n",
       "      <td>76</td>\n",
       "      <td>337</td>\n",
       "      <td>4</td>\n",
       "      <td>37002</td>\n",
       "      <td>1952</td>\n",
       "      <td>907</td>\n",
       "      <td>2388</td>\n",
       "      <td>...</td>\n",
       "      <td>71</td>\n",
       "      <td>603</td>\n",
       "      <td>0</td>\n",
       "      <td>871</td>\n",
       "      <td>35</td>\n",
       "      <td>636</td>\n",
       "      <td>1</td>\n",
       "      <td>608</td>\n",
       "      <td>357</td>\n",
       "      <td>268</td>\n",
       "    </tr>\n",
       "    <tr>\n",
       "      <th>2020-11-23</th>\n",
       "      <td>1695</td>\n",
       "      <td>716</td>\n",
       "      <td>2294</td>\n",
       "      <td>76</td>\n",
       "      <td>337</td>\n",
       "      <td>4</td>\n",
       "      <td>37122</td>\n",
       "      <td>1976</td>\n",
       "      <td>907</td>\n",
       "      <td>2459</td>\n",
       "      <td>...</td>\n",
       "      <td>71</td>\n",
       "      <td>604</td>\n",
       "      <td>0</td>\n",
       "      <td>873</td>\n",
       "      <td>35</td>\n",
       "      <td>645</td>\n",
       "      <td>1</td>\n",
       "      <td>609</td>\n",
       "      <td>357</td>\n",
       "      <td>273</td>\n",
       "    </tr>\n",
       "  </tbody>\n",
       "</table>\n",
       "<p>3 rows × 191 columns</p>\n",
       "</div>"
      ],
      "text/plain": [
       "Country/Region  Afghanistan  Albania  Algeria  Andorra  Angola  \\\n",
       "2020-11-21             1675      685     2255       76     336   \n",
       "2020-11-22             1687      699     2272       76     337   \n",
       "2020-11-23             1695      716     2294       76     337   \n",
       "\n",
       "Country/Region  Antigua and Barbuda  Argentina  Armenia  Australia  Austria  \\\n",
       "2020-11-21                        4      36902     1931        907     2328   \n",
       "2020-11-22                        4      37002     1952        907     2388   \n",
       "2020-11-23                        4      37122     1976        907     2459   \n",
       "\n",
       "Country/Region  ...  Uruguay  Uzbekistan  Vanuatu  Venezuela  Vietnam  \\\n",
       "2020-11-21      ...       69         603        0        869       35   \n",
       "2020-11-22      ...       71         603        0        871       35   \n",
       "2020-11-23      ...       71         604        0        873       35   \n",
       "\n",
       "Country/Region  West Bank and Gaza  Western Sahara  Yemen  Zambia  Zimbabwe  \n",
       "2020-11-21                     620               1    608     356       265  \n",
       "2020-11-22                     636               1    608     357       268  \n",
       "2020-11-23                     645               1    609     357       273  \n",
       "\n",
       "[3 rows x 191 columns]"
      ]
     },
     "execution_count": 36,
     "metadata": {},
     "output_type": "execute_result"
    }
   ],
   "source": [
    "jh_hist_countries_deaths.tail(3)"
   ]
  },
  {
   "cell_type": "markdown",
   "metadata": {},
   "source": [
    "##### 1B-6: Pivot Table on the JH historic **recoveries**, grouped / subtotalled by **Country**"
   ]
  },
  {
   "cell_type": "code",
   "execution_count": 37,
   "metadata": {},
   "outputs": [],
   "source": [
    "jh_hist_countries_recovered = pd.pivot_table(jh_hist_global_recovered, index=['Country/Region'], values=date_columns, aggfunc=np.sum)\n",
    "jh_hist_countries_recovered = jh_hist_countries_recovered.transpose()\n",
    "jh_hist_countries_recovered.index = pd.to_datetime(jh_hist_countries_recovered.index)\n",
    "jh_hist_countries_recovered = jh_hist_countries_recovered.sort_index()"
   ]
  },
  {
   "cell_type": "code",
   "execution_count": 38,
   "metadata": {},
   "outputs": [
    {
     "data": {
      "text/html": [
       "<div>\n",
       "<style scoped>\n",
       "    .dataframe tbody tr th:only-of-type {\n",
       "        vertical-align: middle;\n",
       "    }\n",
       "\n",
       "    .dataframe tbody tr th {\n",
       "        vertical-align: top;\n",
       "    }\n",
       "\n",
       "    .dataframe thead th {\n",
       "        text-align: right;\n",
       "    }\n",
       "</style>\n",
       "<table border=\"1\" class=\"dataframe\">\n",
       "  <thead>\n",
       "    <tr style=\"text-align: right;\">\n",
       "      <th>Country/Region</th>\n",
       "      <th>Afghanistan</th>\n",
       "      <th>Albania</th>\n",
       "      <th>Algeria</th>\n",
       "      <th>Andorra</th>\n",
       "      <th>Angola</th>\n",
       "      <th>Antigua and Barbuda</th>\n",
       "      <th>Argentina</th>\n",
       "      <th>Armenia</th>\n",
       "      <th>Australia</th>\n",
       "      <th>Austria</th>\n",
       "      <th>...</th>\n",
       "      <th>Uruguay</th>\n",
       "      <th>Uzbekistan</th>\n",
       "      <th>Vanuatu</th>\n",
       "      <th>Venezuela</th>\n",
       "      <th>Vietnam</th>\n",
       "      <th>West Bank and Gaza</th>\n",
       "      <th>Western Sahara</th>\n",
       "      <th>Yemen</th>\n",
       "      <th>Zambia</th>\n",
       "      <th>Zimbabwe</th>\n",
       "    </tr>\n",
       "  </thead>\n",
       "  <tbody>\n",
       "    <tr>\n",
       "      <th>2020-11-21</th>\n",
       "      <td>35422</td>\n",
       "      <td>15469</td>\n",
       "      <td>48183</td>\n",
       "      <td>5290</td>\n",
       "      <td>7273</td>\n",
       "      <td>128</td>\n",
       "      <td>1187053</td>\n",
       "      <td>92829</td>\n",
       "      <td>25522</td>\n",
       "      <td>162751</td>\n",
       "      <td>...</td>\n",
       "      <td>3621</td>\n",
       "      <td>68659</td>\n",
       "      <td>0</td>\n",
       "      <td>94355</td>\n",
       "      <td>1142</td>\n",
       "      <td>58383</td>\n",
       "      <td>8</td>\n",
       "      <td>1441</td>\n",
       "      <td>16659</td>\n",
       "      <td>8235</td>\n",
       "    </tr>\n",
       "    <tr>\n",
       "      <th>2020-11-22</th>\n",
       "      <td>35934</td>\n",
       "      <td>15842</td>\n",
       "      <td>48794</td>\n",
       "      <td>5358</td>\n",
       "      <td>7346</td>\n",
       "      <td>128</td>\n",
       "      <td>1195492</td>\n",
       "      <td>94090</td>\n",
       "      <td>25527</td>\n",
       "      <td>169260</td>\n",
       "      <td>...</td>\n",
       "      <td>3679</td>\n",
       "      <td>68827</td>\n",
       "      <td>0</td>\n",
       "      <td>94355</td>\n",
       "      <td>1142</td>\n",
       "      <td>59021</td>\n",
       "      <td>8</td>\n",
       "      <td>1448</td>\n",
       "      <td>16701</td>\n",
       "      <td>8250</td>\n",
       "    </tr>\n",
       "    <tr>\n",
       "      <th>2020-11-23</th>\n",
       "      <td>35976</td>\n",
       "      <td>16230</td>\n",
       "      <td>49421</td>\n",
       "      <td>5405</td>\n",
       "      <td>7351</td>\n",
       "      <td>128</td>\n",
       "      <td>1203800</td>\n",
       "      <td>95099</td>\n",
       "      <td>25533</td>\n",
       "      <td>175527</td>\n",
       "      <td>...</td>\n",
       "      <td>3764</td>\n",
       "      <td>69054</td>\n",
       "      <td>0</td>\n",
       "      <td>94985</td>\n",
       "      <td>1151</td>\n",
       "      <td>59538</td>\n",
       "      <td>8</td>\n",
       "      <td>1459</td>\n",
       "      <td>16701</td>\n",
       "      <td>8288</td>\n",
       "    </tr>\n",
       "  </tbody>\n",
       "</table>\n",
       "<p>3 rows × 191 columns</p>\n",
       "</div>"
      ],
      "text/plain": [
       "Country/Region  Afghanistan  Albania  Algeria  Andorra  Angola  \\\n",
       "2020-11-21            35422    15469    48183     5290    7273   \n",
       "2020-11-22            35934    15842    48794     5358    7346   \n",
       "2020-11-23            35976    16230    49421     5405    7351   \n",
       "\n",
       "Country/Region  Antigua and Barbuda  Argentina  Armenia  Australia  Austria  \\\n",
       "2020-11-21                      128    1187053    92829      25522   162751   \n",
       "2020-11-22                      128    1195492    94090      25527   169260   \n",
       "2020-11-23                      128    1203800    95099      25533   175527   \n",
       "\n",
       "Country/Region  ...  Uruguay  Uzbekistan  Vanuatu  Venezuela  Vietnam  \\\n",
       "2020-11-21      ...     3621       68659        0      94355     1142   \n",
       "2020-11-22      ...     3679       68827        0      94355     1142   \n",
       "2020-11-23      ...     3764       69054        0      94985     1151   \n",
       "\n",
       "Country/Region  West Bank and Gaza  Western Sahara  Yemen  Zambia  Zimbabwe  \n",
       "2020-11-21                   58383               8   1441   16659      8235  \n",
       "2020-11-22                   59021               8   1448   16701      8250  \n",
       "2020-11-23                   59538               8   1459   16701      8288  \n",
       "\n",
       "[3 rows x 191 columns]"
      ]
     },
     "execution_count": 38,
     "metadata": {},
     "output_type": "execute_result"
    }
   ],
   "source": [
    "jh_hist_countries_recovered.tail(3)"
   ]
  },
  {
   "cell_type": "markdown",
   "metadata": {},
   "source": [
    "##### 1B-7: Pivot Table on the JH historic **confirmed cases**, grouped / subtotalled by **US State**"
   ]
  },
  {
   "cell_type": "code",
   "execution_count": 39,
   "metadata": {},
   "outputs": [
    {
     "data": {
      "text/html": [
       "<div>\n",
       "<style scoped>\n",
       "    .dataframe tbody tr th:only-of-type {\n",
       "        vertical-align: middle;\n",
       "    }\n",
       "\n",
       "    .dataframe tbody tr th {\n",
       "        vertical-align: top;\n",
       "    }\n",
       "\n",
       "    .dataframe thead th {\n",
       "        text-align: right;\n",
       "    }\n",
       "</style>\n",
       "<table border=\"1\" class=\"dataframe\">\n",
       "  <thead>\n",
       "    <tr style=\"text-align: right;\">\n",
       "      <th></th>\n",
       "      <th>UID</th>\n",
       "      <th>iso2</th>\n",
       "      <th>iso3</th>\n",
       "      <th>code3</th>\n",
       "      <th>FIPS</th>\n",
       "      <th>Admin2</th>\n",
       "      <th>Province_State</th>\n",
       "      <th>Country_Region</th>\n",
       "      <th>Lat</th>\n",
       "      <th>Long_</th>\n",
       "      <th>...</th>\n",
       "      <th>11/15/20</th>\n",
       "      <th>11/16/20</th>\n",
       "      <th>11/17/20</th>\n",
       "      <th>11/18/20</th>\n",
       "      <th>11/19/20</th>\n",
       "      <th>11/20/20</th>\n",
       "      <th>11/21/20</th>\n",
       "      <th>11/22/20</th>\n",
       "      <th>11/23/20</th>\n",
       "      <th>11/24/20</th>\n",
       "    </tr>\n",
       "  </thead>\n",
       "  <tbody>\n",
       "    <tr>\n",
       "      <th>0</th>\n",
       "      <td>84001001</td>\n",
       "      <td>US</td>\n",
       "      <td>USA</td>\n",
       "      <td>840</td>\n",
       "      <td>1001.0</td>\n",
       "      <td>Autauga</td>\n",
       "      <td>Alabama</td>\n",
       "      <td>US</td>\n",
       "      <td>32.539527</td>\n",
       "      <td>-86.644082</td>\n",
       "      <td>...</td>\n",
       "      <td>2456</td>\n",
       "      <td>2481</td>\n",
       "      <td>2506</td>\n",
       "      <td>2529</td>\n",
       "      <td>2554</td>\n",
       "      <td>2580</td>\n",
       "      <td>2597</td>\n",
       "      <td>2617</td>\n",
       "      <td>2634</td>\n",
       "      <td>2661</td>\n",
       "    </tr>\n",
       "    <tr>\n",
       "      <th>37</th>\n",
       "      <td>84001075</td>\n",
       "      <td>US</td>\n",
       "      <td>USA</td>\n",
       "      <td>840</td>\n",
       "      <td>1075.0</td>\n",
       "      <td>Lamar</td>\n",
       "      <td>Alabama</td>\n",
       "      <td>US</td>\n",
       "      <td>33.779950</td>\n",
       "      <td>-88.096680</td>\n",
       "      <td>...</td>\n",
       "      <td>584</td>\n",
       "      <td>584</td>\n",
       "      <td>588</td>\n",
       "      <td>596</td>\n",
       "      <td>600</td>\n",
       "      <td>601</td>\n",
       "      <td>609</td>\n",
       "      <td>622</td>\n",
       "      <td>626</td>\n",
       "      <td>633</td>\n",
       "    </tr>\n",
       "    <tr>\n",
       "      <th>38</th>\n",
       "      <td>84001077</td>\n",
       "      <td>US</td>\n",
       "      <td>USA</td>\n",
       "      <td>840</td>\n",
       "      <td>1077.0</td>\n",
       "      <td>Lauderdale</td>\n",
       "      <td>Alabama</td>\n",
       "      <td>US</td>\n",
       "      <td>34.901719</td>\n",
       "      <td>-87.656247</td>\n",
       "      <td>...</td>\n",
       "      <td>3298</td>\n",
       "      <td>3360</td>\n",
       "      <td>3431</td>\n",
       "      <td>3487</td>\n",
       "      <td>3578</td>\n",
       "      <td>3653</td>\n",
       "      <td>3712</td>\n",
       "      <td>3783</td>\n",
       "      <td>3829</td>\n",
       "      <td>3872</td>\n",
       "    </tr>\n",
       "    <tr>\n",
       "      <th>39</th>\n",
       "      <td>84001079</td>\n",
       "      <td>US</td>\n",
       "      <td>USA</td>\n",
       "      <td>840</td>\n",
       "      <td>1079.0</td>\n",
       "      <td>Lawrence</td>\n",
       "      <td>Alabama</td>\n",
       "      <td>US</td>\n",
       "      <td>34.520415</td>\n",
       "      <td>-87.310695</td>\n",
       "      <td>...</td>\n",
       "      <td>1076</td>\n",
       "      <td>1080</td>\n",
       "      <td>1098</td>\n",
       "      <td>1124</td>\n",
       "      <td>1152</td>\n",
       "      <td>1179</td>\n",
       "      <td>1201</td>\n",
       "      <td>1214</td>\n",
       "      <td>1224</td>\n",
       "      <td>1239</td>\n",
       "    </tr>\n",
       "    <tr>\n",
       "      <th>40</th>\n",
       "      <td>84001081</td>\n",
       "      <td>US</td>\n",
       "      <td>USA</td>\n",
       "      <td>840</td>\n",
       "      <td>1081.0</td>\n",
       "      <td>Lee</td>\n",
       "      <td>Alabama</td>\n",
       "      <td>US</td>\n",
       "      <td>32.601549</td>\n",
       "      <td>-85.351322</td>\n",
       "      <td>...</td>\n",
       "      <td>7212</td>\n",
       "      <td>7240</td>\n",
       "      <td>7278</td>\n",
       "      <td>7331</td>\n",
       "      <td>7363</td>\n",
       "      <td>7421</td>\n",
       "      <td>7478</td>\n",
       "      <td>7504</td>\n",
       "      <td>7539</td>\n",
       "      <td>7597</td>\n",
       "    </tr>\n",
       "  </tbody>\n",
       "</table>\n",
       "<p>5 rows × 319 columns</p>\n",
       "</div>"
      ],
      "text/plain": [
       "         UID iso2 iso3  code3    FIPS      Admin2 Province_State  \\\n",
       "0   84001001   US  USA    840  1001.0     Autauga        Alabama   \n",
       "37  84001075   US  USA    840  1075.0       Lamar        Alabama   \n",
       "38  84001077   US  USA    840  1077.0  Lauderdale        Alabama   \n",
       "39  84001079   US  USA    840  1079.0    Lawrence        Alabama   \n",
       "40  84001081   US  USA    840  1081.0         Lee        Alabama   \n",
       "\n",
       "   Country_Region        Lat      Long_  ... 11/15/20  11/16/20  11/17/20  \\\n",
       "0              US  32.539527 -86.644082  ...     2456      2481      2506   \n",
       "37             US  33.779950 -88.096680  ...      584       584       588   \n",
       "38             US  34.901719 -87.656247  ...     3298      3360      3431   \n",
       "39             US  34.520415 -87.310695  ...     1076      1080      1098   \n",
       "40             US  32.601549 -85.351322  ...     7212      7240      7278   \n",
       "\n",
       "    11/18/20  11/19/20  11/20/20  11/21/20  11/22/20  11/23/20  11/24/20  \n",
       "0       2529      2554      2580      2597      2617      2634      2661  \n",
       "37       596       600       601       609       622       626       633  \n",
       "38      3487      3578      3653      3712      3783      3829      3872  \n",
       "39      1124      1152      1179      1201      1214      1224      1239  \n",
       "40      7331      7363      7421      7478      7504      7539      7597  \n",
       "\n",
       "[5 rows x 319 columns]"
      ]
     },
     "execution_count": 39,
     "metadata": {},
     "output_type": "execute_result"
    }
   ],
   "source": [
    "jh_hist_uscounties_cases.sort_values('Province_State').head()"
   ]
  },
  {
   "cell_type": "code",
   "execution_count": 40,
   "metadata": {},
   "outputs": [],
   "source": [
    "date_columns = jh_hist_uscounties_cases.iloc[:,11:].columns"
   ]
  },
  {
   "cell_type": "code",
   "execution_count": 41,
   "metadata": {},
   "outputs": [],
   "source": [
    "jh_hist_usstates_cases = pd.pivot_table(jh_hist_uscounties_cases, index=['Province_State'], \n",
    "                                           values=date_columns, aggfunc=np.sum)\n",
    "jh_hist_usstates_cases = jh_hist_usstates_cases.transpose()\n",
    "jh_hist_usstates_cases.index = pd.to_datetime(jh_hist_usstates_cases.index)\n",
    "jh_hist_usstates_cases = jh_hist_usstates_cases.sort_index()"
   ]
  },
  {
   "cell_type": "code",
   "execution_count": 42,
   "metadata": {},
   "outputs": [
    {
     "data": {
      "text/html": [
       "<div>\n",
       "<style scoped>\n",
       "    .dataframe tbody tr th:only-of-type {\n",
       "        vertical-align: middle;\n",
       "    }\n",
       "\n",
       "    .dataframe tbody tr th {\n",
       "        vertical-align: top;\n",
       "    }\n",
       "\n",
       "    .dataframe thead th {\n",
       "        text-align: right;\n",
       "    }\n",
       "</style>\n",
       "<table border=\"1\" class=\"dataframe\">\n",
       "  <thead>\n",
       "    <tr style=\"text-align: right;\">\n",
       "      <th>Province_State</th>\n",
       "      <th>Alabama</th>\n",
       "      <th>Alaska</th>\n",
       "      <th>American Samoa</th>\n",
       "      <th>Arizona</th>\n",
       "      <th>Arkansas</th>\n",
       "      <th>California</th>\n",
       "      <th>Colorado</th>\n",
       "      <th>Connecticut</th>\n",
       "      <th>Delaware</th>\n",
       "      <th>Diamond Princess</th>\n",
       "      <th>...</th>\n",
       "      <th>Tennessee</th>\n",
       "      <th>Texas</th>\n",
       "      <th>Utah</th>\n",
       "      <th>Vermont</th>\n",
       "      <th>Virgin Islands</th>\n",
       "      <th>Virginia</th>\n",
       "      <th>Washington</th>\n",
       "      <th>West Virginia</th>\n",
       "      <th>Wisconsin</th>\n",
       "      <th>Wyoming</th>\n",
       "    </tr>\n",
       "  </thead>\n",
       "  <tbody>\n",
       "    <tr>\n",
       "      <th>2020-11-22</th>\n",
       "      <td>232506</td>\n",
       "      <td>27773</td>\n",
       "      <td>0</td>\n",
       "      <td>299665</td>\n",
       "      <td>145173</td>\n",
       "      <td>1114524</td>\n",
       "      <td>198600</td>\n",
       "      <td>101469</td>\n",
       "      <td>31808</td>\n",
       "      <td>49</td>\n",
       "      <td>...</td>\n",
       "      <td>340476</td>\n",
       "      <td>1153529</td>\n",
       "      <td>177176</td>\n",
       "      <td>3629</td>\n",
       "      <td>1504</td>\n",
       "      <td>217796</td>\n",
       "      <td>141260</td>\n",
       "      <td>40478</td>\n",
       "      <td>376238</td>\n",
       "      <td>28169</td>\n",
       "    </tr>\n",
       "    <tr>\n",
       "      <th>2020-11-23</th>\n",
       "      <td>234080</td>\n",
       "      <td>28273</td>\n",
       "      <td>0</td>\n",
       "      <td>302324</td>\n",
       "      <td>146190</td>\n",
       "      <td>1128219</td>\n",
       "      <td>202289</td>\n",
       "      <td>106740</td>\n",
       "      <td>32211</td>\n",
       "      <td>49</td>\n",
       "      <td>...</td>\n",
       "      <td>344550</td>\n",
       "      <td>1162052</td>\n",
       "      <td>179420</td>\n",
       "      <td>3714</td>\n",
       "      <td>1507</td>\n",
       "      <td>221038</td>\n",
       "      <td>147537</td>\n",
       "      <td>41114</td>\n",
       "      <td>379693</td>\n",
       "      <td>29431</td>\n",
       "    </tr>\n",
       "    <tr>\n",
       "      <th>2020-11-24</th>\n",
       "      <td>236865</td>\n",
       "      <td>28863</td>\n",
       "      <td>0</td>\n",
       "      <td>306868</td>\n",
       "      <td>148312</td>\n",
       "      <td>1145209</td>\n",
       "      <td>206439</td>\n",
       "      <td>107280</td>\n",
       "      <td>32664</td>\n",
       "      <td>49</td>\n",
       "      <td>...</td>\n",
       "      <td>345916</td>\n",
       "      <td>1181533</td>\n",
       "      <td>182121</td>\n",
       "      <td>3762</td>\n",
       "      <td>1521</td>\n",
       "      <td>223582</td>\n",
       "      <td>151019</td>\n",
       "      <td>42083</td>\n",
       "      <td>386441</td>\n",
       "      <td>29959</td>\n",
       "    </tr>\n",
       "  </tbody>\n",
       "</table>\n",
       "<p>3 rows × 58 columns</p>\n",
       "</div>"
      ],
      "text/plain": [
       "Province_State  Alabama  Alaska  American Samoa  Arizona  Arkansas  \\\n",
       "2020-11-22       232506   27773               0   299665    145173   \n",
       "2020-11-23       234080   28273               0   302324    146190   \n",
       "2020-11-24       236865   28863               0   306868    148312   \n",
       "\n",
       "Province_State  California  Colorado  Connecticut  Delaware  Diamond Princess  \\\n",
       "2020-11-22         1114524    198600       101469     31808                49   \n",
       "2020-11-23         1128219    202289       106740     32211                49   \n",
       "2020-11-24         1145209    206439       107280     32664                49   \n",
       "\n",
       "Province_State  ...  Tennessee    Texas    Utah  Vermont  Virgin Islands  \\\n",
       "2020-11-22      ...     340476  1153529  177176     3629            1504   \n",
       "2020-11-23      ...     344550  1162052  179420     3714            1507   \n",
       "2020-11-24      ...     345916  1181533  182121     3762            1521   \n",
       "\n",
       "Province_State  Virginia  Washington  West Virginia  Wisconsin  Wyoming  \n",
       "2020-11-22        217796      141260          40478     376238    28169  \n",
       "2020-11-23        221038      147537          41114     379693    29431  \n",
       "2020-11-24        223582      151019          42083     386441    29959  \n",
       "\n",
       "[3 rows x 58 columns]"
      ]
     },
     "execution_count": 42,
     "metadata": {},
     "output_type": "execute_result"
    }
   ],
   "source": [
    "jh_hist_usstates_cases.tail(3)"
   ]
  },
  {
   "cell_type": "markdown",
   "metadata": {},
   "source": [
    "##### 1B-8: Pivot Table on the JH historic **confirmed cases**, grouped / subtotalled by **US County**"
   ]
  },
  {
   "cell_type": "code",
   "execution_count": 43,
   "metadata": {},
   "outputs": [],
   "source": [
    "jh_hist_uscounties_cases = pd.pivot_table(jh_hist_uscounties_cases, index=['Province_State', 'Admin2'], \n",
    "                                           values=date_columns, aggfunc=np.sum)\n",
    "jh_hist_uscounties_cases = jh_hist_uscounties_cases.transpose()\n",
    "jh_hist_uscounties_cases.index = pd.to_datetime(jh_hist_uscounties_cases.index)\n",
    "jh_hist_uscounties_cases = jh_hist_uscounties_cases.sort_index()"
   ]
  },
  {
   "cell_type": "code",
   "execution_count": 44,
   "metadata": {},
   "outputs": [
    {
     "data": {
      "text/html": [
       "<div>\n",
       "<style scoped>\n",
       "    .dataframe tbody tr th:only-of-type {\n",
       "        vertical-align: middle;\n",
       "    }\n",
       "\n",
       "    .dataframe tbody tr th {\n",
       "        vertical-align: top;\n",
       "    }\n",
       "\n",
       "    .dataframe thead tr th {\n",
       "        text-align: left;\n",
       "    }\n",
       "</style>\n",
       "<table border=\"1\" class=\"dataframe\">\n",
       "  <thead>\n",
       "    <tr>\n",
       "      <th>Province_State</th>\n",
       "      <th colspan=\"10\" halign=\"left\">Alabama</th>\n",
       "      <th>...</th>\n",
       "      <th colspan=\"10\" halign=\"left\">Wyoming</th>\n",
       "    </tr>\n",
       "    <tr>\n",
       "      <th>Admin2</th>\n",
       "      <th>Autauga</th>\n",
       "      <th>Baldwin</th>\n",
       "      <th>Barbour</th>\n",
       "      <th>Bibb</th>\n",
       "      <th>Blount</th>\n",
       "      <th>Bullock</th>\n",
       "      <th>Butler</th>\n",
       "      <th>Calhoun</th>\n",
       "      <th>Chambers</th>\n",
       "      <th>Cherokee</th>\n",
       "      <th>...</th>\n",
       "      <th>Park</th>\n",
       "      <th>Platte</th>\n",
       "      <th>Sheridan</th>\n",
       "      <th>Sublette</th>\n",
       "      <th>Sweetwater</th>\n",
       "      <th>Teton</th>\n",
       "      <th>Uinta</th>\n",
       "      <th>Unassigned</th>\n",
       "      <th>Washakie</th>\n",
       "      <th>Weston</th>\n",
       "    </tr>\n",
       "  </thead>\n",
       "  <tbody>\n",
       "    <tr>\n",
       "      <th>2020-11-22</th>\n",
       "      <td>2617</td>\n",
       "      <td>8199</td>\n",
       "      <td>1160</td>\n",
       "      <td>1136</td>\n",
       "      <td>2754</td>\n",
       "      <td>689</td>\n",
       "      <td>1133</td>\n",
       "      <td>5964</td>\n",
       "      <td>1675</td>\n",
       "      <td>985</td>\n",
       "      <td>...</td>\n",
       "      <td>1168</td>\n",
       "      <td>291</td>\n",
       "      <td>1652</td>\n",
       "      <td>374</td>\n",
       "      <td>1421</td>\n",
       "      <td>1371</td>\n",
       "      <td>920</td>\n",
       "      <td>0</td>\n",
       "      <td>315</td>\n",
       "      <td>372</td>\n",
       "    </tr>\n",
       "    <tr>\n",
       "      <th>2020-11-23</th>\n",
       "      <td>2634</td>\n",
       "      <td>8269</td>\n",
       "      <td>1161</td>\n",
       "      <td>1142</td>\n",
       "      <td>2763</td>\n",
       "      <td>690</td>\n",
       "      <td>1137</td>\n",
       "      <td>5997</td>\n",
       "      <td>1680</td>\n",
       "      <td>989</td>\n",
       "      <td>...</td>\n",
       "      <td>1199</td>\n",
       "      <td>298</td>\n",
       "      <td>1751</td>\n",
       "      <td>383</td>\n",
       "      <td>1548</td>\n",
       "      <td>1433</td>\n",
       "      <td>950</td>\n",
       "      <td>0</td>\n",
       "      <td>325</td>\n",
       "      <td>372</td>\n",
       "    </tr>\n",
       "    <tr>\n",
       "      <th>2020-11-24</th>\n",
       "      <td>2661</td>\n",
       "      <td>8376</td>\n",
       "      <td>1167</td>\n",
       "      <td>1157</td>\n",
       "      <td>2822</td>\n",
       "      <td>690</td>\n",
       "      <td>1143</td>\n",
       "      <td>6049</td>\n",
       "      <td>1714</td>\n",
       "      <td>996</td>\n",
       "      <td>...</td>\n",
       "      <td>1219</td>\n",
       "      <td>303</td>\n",
       "      <td>1791</td>\n",
       "      <td>405</td>\n",
       "      <td>1563</td>\n",
       "      <td>1442</td>\n",
       "      <td>982</td>\n",
       "      <td>0</td>\n",
       "      <td>339</td>\n",
       "      <td>383</td>\n",
       "    </tr>\n",
       "  </tbody>\n",
       "</table>\n",
       "<p>3 rows × 3334 columns</p>\n",
       "</div>"
      ],
      "text/plain": [
       "Province_State Alabama                                                      \\\n",
       "Admin2         Autauga Baldwin Barbour  Bibb Blount Bullock Butler Calhoun   \n",
       "2020-11-22        2617    8199    1160  1136   2754     689   1133    5964   \n",
       "2020-11-23        2634    8269    1161  1142   2763     690   1137    5997   \n",
       "2020-11-24        2661    8376    1167  1157   2822     690   1143    6049   \n",
       "\n",
       "Province_State                    ... Wyoming                           \\\n",
       "Admin2         Chambers Cherokee  ...    Park Platte Sheridan Sublette   \n",
       "2020-11-22         1675      985  ...    1168    291     1652      374   \n",
       "2020-11-23         1680      989  ...    1199    298     1751      383   \n",
       "2020-11-24         1714      996  ...    1219    303     1791      405   \n",
       "\n",
       "Province_State                                                    \n",
       "Admin2         Sweetwater Teton Uinta Unassigned Washakie Weston  \n",
       "2020-11-22           1421  1371   920          0      315    372  \n",
       "2020-11-23           1548  1433   950          0      325    372  \n",
       "2020-11-24           1563  1442   982          0      339    383  \n",
       "\n",
       "[3 rows x 3334 columns]"
      ]
     },
     "execution_count": 44,
     "metadata": {},
     "output_type": "execute_result"
    }
   ],
   "source": [
    "jh_hist_uscounties_cases.tail(3)"
   ]
  },
  {
   "cell_type": "markdown",
   "metadata": {},
   "source": [
    "##### 1B-9: Pivot Table on the JH historic **deaths**, grouped / subtotalled by **US State**"
   ]
  },
  {
   "cell_type": "code",
   "execution_count": 45,
   "metadata": {},
   "outputs": [
    {
     "ename": "KeyError",
     "evalue": "'11/24/20'",
     "output_type": "error",
     "traceback": [
      "\u001b[0;31m---------------------------------------------------------------------------\u001b[0m",
      "\u001b[0;31mKeyError\u001b[0m                                  Traceback (most recent call last)",
      "\u001b[0;32m<ipython-input-45-37b8b902ef54>\u001b[0m in \u001b[0;36m<module>\u001b[0;34m\u001b[0m\n\u001b[1;32m      1\u001b[0m jh_hist_usstates_deaths = pd.pivot_table(jh_hist_uscounties_deaths, index=['Province_State'], \n\u001b[0;32m----> 2\u001b[0;31m                                            values=date_columns, aggfunc=np.sum)\n\u001b[0m\u001b[1;32m      3\u001b[0m \u001b[0mjh_hist_usstates_deaths\u001b[0m \u001b[0;34m=\u001b[0m \u001b[0mjh_hist_usstates_deaths\u001b[0m\u001b[0;34m.\u001b[0m\u001b[0mtranspose\u001b[0m\u001b[0;34m(\u001b[0m\u001b[0;34m)\u001b[0m\u001b[0;34m\u001b[0m\u001b[0;34m\u001b[0m\u001b[0m\n\u001b[1;32m      4\u001b[0m \u001b[0mjh_hist_usstates_deaths\u001b[0m\u001b[0;34m.\u001b[0m\u001b[0mindex\u001b[0m \u001b[0;34m=\u001b[0m \u001b[0mpd\u001b[0m\u001b[0;34m.\u001b[0m\u001b[0mto_datetime\u001b[0m\u001b[0;34m(\u001b[0m\u001b[0mjh_hist_usstates_deaths\u001b[0m\u001b[0;34m.\u001b[0m\u001b[0mindex\u001b[0m\u001b[0;34m)\u001b[0m\u001b[0;34m\u001b[0m\u001b[0;34m\u001b[0m\u001b[0m\n\u001b[1;32m      5\u001b[0m \u001b[0mjh_hist_usstates_deaths\u001b[0m \u001b[0;34m=\u001b[0m \u001b[0mjh_hist_usstates_deaths\u001b[0m\u001b[0;34m.\u001b[0m\u001b[0msort_index\u001b[0m\u001b[0;34m(\u001b[0m\u001b[0;34m)\u001b[0m\u001b[0;34m\u001b[0m\u001b[0;34m\u001b[0m\u001b[0m\n",
      "\u001b[0;32m~/anaconda3/lib/python3.7/site-packages/pandas/core/reshape/pivot.py\u001b[0m in \u001b[0;36mpivot_table\u001b[0;34m(data, values, index, columns, aggfunc, fill_value, margins, dropna, margins_name, observed)\u001b[0m\n\u001b[1;32m     86\u001b[0m         \u001b[0;32mfor\u001b[0m \u001b[0mi\u001b[0m \u001b[0;32min\u001b[0m \u001b[0mvalues\u001b[0m\u001b[0;34m:\u001b[0m\u001b[0;34m\u001b[0m\u001b[0;34m\u001b[0m\u001b[0m\n\u001b[1;32m     87\u001b[0m             \u001b[0;32mif\u001b[0m \u001b[0mi\u001b[0m \u001b[0;32mnot\u001b[0m \u001b[0;32min\u001b[0m \u001b[0mdata\u001b[0m\u001b[0;34m:\u001b[0m\u001b[0;34m\u001b[0m\u001b[0;34m\u001b[0m\u001b[0m\n\u001b[0;32m---> 88\u001b[0;31m                 \u001b[0;32mraise\u001b[0m \u001b[0mKeyError\u001b[0m\u001b[0;34m(\u001b[0m\u001b[0mi\u001b[0m\u001b[0;34m)\u001b[0m\u001b[0;34m\u001b[0m\u001b[0;34m\u001b[0m\u001b[0m\n\u001b[0m\u001b[1;32m     89\u001b[0m \u001b[0;34m\u001b[0m\u001b[0m\n\u001b[1;32m     90\u001b[0m         \u001b[0mto_filter\u001b[0m \u001b[0;34m=\u001b[0m \u001b[0;34m[\u001b[0m\u001b[0;34m]\u001b[0m\u001b[0;34m\u001b[0m\u001b[0;34m\u001b[0m\u001b[0m\n",
      "\u001b[0;31mKeyError\u001b[0m: '11/24/20'"
     ]
    }
   ],
   "source": [
    "jh_hist_usstates_deaths = pd.pivot_table(jh_hist_uscounties_deaths, index=['Province_State'], \n",
    "                                           values=date_columns, aggfunc=np.sum)\n",
    "jh_hist_usstates_deaths = jh_hist_usstates_deaths.transpose()\n",
    "jh_hist_usstates_deaths.index = pd.to_datetime(jh_hist_usstates_deaths.index)\n",
    "jh_hist_usstates_deaths = jh_hist_usstates_deaths.sort_index()"
   ]
  },
  {
   "cell_type": "code",
   "execution_count": null,
   "metadata": {},
   "outputs": [],
   "source": [
    "jh_hist_usstates_deaths.tail(3)"
   ]
  },
  {
   "cell_type": "markdown",
   "metadata": {},
   "source": [
    "##### 1B-10: Pivot Table on the JH historic **deaths**, grouped / subtotalled by **US County**"
   ]
  },
  {
   "cell_type": "code",
   "execution_count": null,
   "metadata": {},
   "outputs": [],
   "source": [
    "jh_hist_uscounties_deaths = pd.pivot_table(jh_hist_uscounties_deaths, index=['Province_State', 'Admin2'], \n",
    "                                           values=date_columns, aggfunc=np.sum)\n",
    "jh_hist_uscounties_deaths = jh_hist_uscounties_deaths.transpose()\n",
    "jh_hist_uscounties_deaths.index = pd.to_datetime(jh_hist_uscounties_deaths.index)\n",
    "jh_hist_uscounties_deaths = jh_hist_uscounties_deaths.sort_index()"
   ]
  },
  {
   "cell_type": "code",
   "execution_count": null,
   "metadata": {},
   "outputs": [],
   "source": [
    "jh_hist_uscounties_deaths.tail(3)"
   ]
  },
  {
   "cell_type": "markdown",
   "metadata": {},
   "source": [
    "#### 1C: Export the data"
   ]
  },
  {
   "cell_type": "markdown",
   "metadata": {},
   "source": [
    "##### 1C-1: Export the JH live global data, grouped / subtotalled by **Country**"
   ]
  },
  {
   "cell_type": "code",
   "execution_count": null,
   "metadata": {},
   "outputs": [],
   "source": [
    "filename = os.path.join(os.getcwd(), 'Datasets/JH/jh_live_countries.csv')\n",
    "jh_live_countries.to_csv(filename, index=True)"
   ]
  },
  {
   "cell_type": "markdown",
   "metadata": {},
   "source": [
    "##### 1C-2: Export the JH live global data, grouped / subtotalled by **US State**"
   ]
  },
  {
   "cell_type": "code",
   "execution_count": null,
   "metadata": {},
   "outputs": [],
   "source": [
    "filename = os.path.join(os.getcwd(), 'Datasets/JH/jh_live_usstates.csv')\n",
    "jh_live_usstates.to_csv(filename, index=True)"
   ]
  },
  {
   "cell_type": "markdown",
   "metadata": {},
   "source": [
    "##### 1C-3: Export the JH live global data, grouped / subtotalled by **US County**"
   ]
  },
  {
   "cell_type": "code",
   "execution_count": null,
   "metadata": {},
   "outputs": [],
   "source": [
    "filename = os.path.join(os.getcwd(), 'Datasets/JH/jh_live_uscounties.csv')\n",
    "jh_live_uscounties.to_csv(filename, index=True)"
   ]
  },
  {
   "cell_type": "markdown",
   "metadata": {},
   "source": [
    "##### 1C-4: Export the JH historic **confirmed cases**, grouped / subtotalled by **Country**"
   ]
  },
  {
   "cell_type": "code",
   "execution_count": null,
   "metadata": {},
   "outputs": [],
   "source": [
    "filename = os.path.join(os.getcwd(), 'Datasets/JH/jh_hist_countries_cases.csv')\n",
    "jh_hist_countries_cases.to_csv(filename, index=True)"
   ]
  },
  {
   "cell_type": "markdown",
   "metadata": {},
   "source": [
    "##### 1C-5: Export the JH historic **deaths**, grouped / subtotalled by **Country**"
   ]
  },
  {
   "cell_type": "code",
   "execution_count": null,
   "metadata": {},
   "outputs": [],
   "source": [
    "filename = os.path.join(os.getcwd(), 'Datasets/JH/jh_hist_countries_deaths.csv')\n",
    "jh_hist_countries_deaths.to_csv(filename, index=True)"
   ]
  },
  {
   "cell_type": "markdown",
   "metadata": {},
   "source": [
    "##### 1C-6: Export the JH historic **recoveries**, grouped / subtotalled by **Country**"
   ]
  },
  {
   "cell_type": "code",
   "execution_count": null,
   "metadata": {},
   "outputs": [],
   "source": [
    "filename = os.path.join(os.getcwd(), 'Datasets/JH/jh_hist_countries_recovered.csv')\n",
    "jh_hist_countries_recovered.to_csv(filename, index=True)"
   ]
  },
  {
   "cell_type": "markdown",
   "metadata": {},
   "source": [
    "##### 1C-7: Export the JH historic **confirmed cases**, grouped / subtotalled by **US State**"
   ]
  },
  {
   "cell_type": "code",
   "execution_count": null,
   "metadata": {},
   "outputs": [],
   "source": [
    "filename = os.path.join(os.getcwd(), 'Datasets/JH/jh_hist_usstates_cases.csv')\n",
    "jh_hist_usstates_cases.to_csv(filename, index=True)"
   ]
  },
  {
   "cell_type": "markdown",
   "metadata": {},
   "source": [
    "##### 1C-8: Export the JH historic **confirmed cases**, grouped / subtotalled by **US County**"
   ]
  },
  {
   "cell_type": "code",
   "execution_count": null,
   "metadata": {},
   "outputs": [],
   "source": [
    "filename = os.path.join(os.getcwd(), 'Datasets/JH/jh_hist_uscounties_cases.csv')\n",
    "jh_hist_uscounties_cases.to_csv(filename, index=True)"
   ]
  },
  {
   "cell_type": "markdown",
   "metadata": {},
   "source": [
    "##### 1C-9: Export the JH historic **deaths**, grouped / subtotalled by **US State**"
   ]
  },
  {
   "cell_type": "code",
   "execution_count": null,
   "metadata": {},
   "outputs": [],
   "source": [
    "filename = os.path.join(os.getcwd(), 'Datasets/JH/jh_hist_usstates_deaths.csv')\n",
    "jh_hist_usstates_deaths.to_csv(filename, index=True)"
   ]
  },
  {
   "cell_type": "markdown",
   "metadata": {},
   "source": [
    "##### 1C-10: Export the JH historic **deaths**, grouped / subtotalled by **US County**"
   ]
  },
  {
   "cell_type": "code",
   "execution_count": null,
   "metadata": {},
   "outputs": [],
   "source": [
    "filename = os.path.join(os.getcwd(), 'Datasets/JH/jh_hist_uscounties_deaths.csv')\n",
    "jh_hist_uscounties_deaths.to_csv(filename, index=True)"
   ]
  },
  {
   "cell_type": "markdown",
   "metadata": {},
   "source": [
    "#### 1D: Calculate daily % change for each historic dataset (match numbering sequence, export as well)"
   ]
  },
  {
   "cell_type": "markdown",
   "metadata": {},
   "source": [
    "##### 1D-4: Daily % change JH historic **confirmed cases**, grouped / subtotalled by **Country**"
   ]
  },
  {
   "cell_type": "code",
   "execution_count": null,
   "metadata": {},
   "outputs": [],
   "source": [
    "jh_hist_countries_cases_pct = jh_hist_countries_cases.pct_change()"
   ]
  },
  {
   "cell_type": "code",
   "execution_count": null,
   "metadata": {},
   "outputs": [],
   "source": [
    "jh_hist_countries_cases_pct.tail(3)"
   ]
  },
  {
   "cell_type": "code",
   "execution_count": null,
   "metadata": {},
   "outputs": [],
   "source": [
    "filename = os.path.join(os.getcwd(), 'Datasets/JH/jh_hist_countries_cases_pct.csv')\n",
    "jh_hist_countries_cases_pct.to_csv(filename, index=True)"
   ]
  },
  {
   "cell_type": "markdown",
   "metadata": {},
   "source": [
    "##### 1D-5: Daily % change JH historic **deaths**, grouped / subtotalled by **Country**"
   ]
  },
  {
   "cell_type": "code",
   "execution_count": null,
   "metadata": {},
   "outputs": [],
   "source": [
    "jh_hist_countries_deaths_pct = jh_hist_countries_deaths.pct_change()"
   ]
  },
  {
   "cell_type": "code",
   "execution_count": null,
   "metadata": {},
   "outputs": [],
   "source": [
    "jh_hist_countries_deaths_pct.tail(3)"
   ]
  },
  {
   "cell_type": "code",
   "execution_count": null,
   "metadata": {},
   "outputs": [],
   "source": [
    "filename = os.path.join(os.getcwd(), 'Datasets/JH/jh_hist_countries_deaths_pct.csv')\n",
    "jh_hist_countries_deaths_pct.to_csv(filename, index=True)"
   ]
  },
  {
   "cell_type": "markdown",
   "metadata": {},
   "source": [
    "##### 1D-6: Daily % change Export the JH historic **recoveries**, grouped / subtotalled by **Country**"
   ]
  },
  {
   "cell_type": "code",
   "execution_count": null,
   "metadata": {},
   "outputs": [],
   "source": [
    "jh_hist_countries_recovered_pct = jh_hist_countries_recovered.pct_change()"
   ]
  },
  {
   "cell_type": "code",
   "execution_count": null,
   "metadata": {},
   "outputs": [],
   "source": [
    "jh_hist_countries_recovered_pct.tail(3)"
   ]
  },
  {
   "cell_type": "code",
   "execution_count": null,
   "metadata": {},
   "outputs": [],
   "source": [
    "filename = os.path.join(os.getcwd(), 'Datasets/JH/jh_hist_countries_recovered_pct.csv')\n",
    "jh_hist_countries_recovered_pct.to_csv(filename, index=True)"
   ]
  },
  {
   "cell_type": "markdown",
   "metadata": {},
   "source": [
    "##### 1D-7: Daily % change JH historic **confirmed cases**, grouped / subtotalled by **US State**"
   ]
  },
  {
   "cell_type": "code",
   "execution_count": null,
   "metadata": {},
   "outputs": [],
   "source": [
    "jh_hist_usstates_cases_pct = jh_hist_usstates_cases.pct_change()"
   ]
  },
  {
   "cell_type": "code",
   "execution_count": null,
   "metadata": {},
   "outputs": [],
   "source": [
    "jh_hist_usstates_cases_pct.tail(3)"
   ]
  },
  {
   "cell_type": "code",
   "execution_count": null,
   "metadata": {},
   "outputs": [],
   "source": [
    "filename = os.path.join(os.getcwd(), 'Datasets/JH/jh_hist_usstates_cases_pct.csv')\n",
    "jh_hist_usstates_cases_pct.to_csv(filename, index=True)"
   ]
  },
  {
   "cell_type": "markdown",
   "metadata": {},
   "source": [
    "##### 1D-8: Daily % change JH historic **confirmed cases**, grouped / subtotalled by **US County**"
   ]
  },
  {
   "cell_type": "code",
   "execution_count": null,
   "metadata": {},
   "outputs": [],
   "source": [
    "jh_hist_uscounties_cases_pct = jh_hist_uscounties_cases.pct_change()"
   ]
  },
  {
   "cell_type": "code",
   "execution_count": null,
   "metadata": {},
   "outputs": [],
   "source": [
    "jh_hist_uscounties_cases_pct.tail(3)"
   ]
  },
  {
   "cell_type": "code",
   "execution_count": null,
   "metadata": {},
   "outputs": [],
   "source": [
    "filename = os.path.join(os.getcwd(), 'Datasets/JH/jh_hist_uscounties_cases_pct.csv')\n",
    "jh_hist_uscounties_cases_pct.to_csv(filename, index=True)"
   ]
  },
  {
   "cell_type": "markdown",
   "metadata": {},
   "source": [
    "##### 1D-9: Daily % change JH historic **deaths**, grouped / subtotalled by **US State**"
   ]
  },
  {
   "cell_type": "code",
   "execution_count": null,
   "metadata": {},
   "outputs": [],
   "source": [
    "jh_hist_usstates_deaths_pct = jh_hist_usstates_deaths.pct_change()"
   ]
  },
  {
   "cell_type": "code",
   "execution_count": null,
   "metadata": {},
   "outputs": [],
   "source": [
    "jh_hist_usstates_deaths_pct.tail(3)"
   ]
  },
  {
   "cell_type": "code",
   "execution_count": null,
   "metadata": {},
   "outputs": [],
   "source": [
    "filename = os.path.join(os.getcwd(), 'Datasets/JH/jh_hist_usstates_deaths_pct.csv')\n",
    "jh_hist_usstates_deaths_pct.to_csv(filename, index=True)"
   ]
  },
  {
   "cell_type": "markdown",
   "metadata": {},
   "source": [
    "##### 1D-10: Daily % change JH historic **deaths**, grouped / subtotalled by **US County**"
   ]
  },
  {
   "cell_type": "code",
   "execution_count": null,
   "metadata": {},
   "outputs": [],
   "source": [
    "jh_hist_uscounties_deaths_pct = jh_hist_uscounties_deaths.pct_change()"
   ]
  },
  {
   "cell_type": "code",
   "execution_count": null,
   "metadata": {},
   "outputs": [],
   "source": [
    "jh_hist_uscounties_deaths_pct.tail(3)"
   ]
  },
  {
   "cell_type": "code",
   "execution_count": null,
   "metadata": {},
   "outputs": [],
   "source": [
    "filename = os.path.join(os.getcwd(), 'Datasets/JH/jh_hist_uscounties_deaths_pct.csv')\n",
    "jh_hist_uscounties_deaths_pct.to_csv(filename, index=True)"
   ]
  },
  {
   "cell_type": "markdown",
   "metadata": {},
   "source": [
    "#### 1E: Calculate exponential weighted moving average (3 day) for each historic dataset (match numbering sequence, export as well)"
   ]
  },
  {
   "cell_type": "markdown",
   "metadata": {},
   "source": [
    "This is useful to see which countries / states / counties are becoming hot spots or which are cooling down.  \n",
    "Exponential weighted moving averages (EWMA) blend the most recent x days, using a heavier weight for more recent data.  \n",
    "https://pandas.pydata.org/pandas-docs/stable/reference/api/pandas.DataFrame.ewm.html  \n",
    "Using the EWMA gives the best balance of minimizing erratic daily changes by using a moving avg, while giving more credence to recent data vs a simple moving avg.  "
   ]
  },
  {
   "cell_type": "markdown",
   "metadata": {},
   "source": [
    "##### 1E-4: EWMA of Daily % change JH historic **confirmed cases**, grouped / subtotalled by **Country**"
   ]
  },
  {
   "cell_type": "code",
   "execution_count": null,
   "metadata": {},
   "outputs": [],
   "source": [
    "jh_hist_countries_cases_pct_ewma = jh_hist_countries_cases_pct.ewm(span=3).mean()"
   ]
  },
  {
   "cell_type": "code",
   "execution_count": null,
   "metadata": {},
   "outputs": [],
   "source": [
    "jh_hist_countries_cases_pct_ewma.tail(3)"
   ]
  },
  {
   "cell_type": "code",
   "execution_count": null,
   "metadata": {},
   "outputs": [],
   "source": [
    "filename = os.path.join(os.getcwd(), 'Datasets/JH/jh_hist_countries_cases_pct_ewma.csv')\n",
    "jh_hist_countries_cases_pct_ewma.to_csv(filename, index=True)"
   ]
  },
  {
   "cell_type": "markdown",
   "metadata": {},
   "source": [
    "##### 1E-5: EWMA of Daily % change JH historic **deaths**, grouped / subtotalled by **Country**"
   ]
  },
  {
   "cell_type": "code",
   "execution_count": null,
   "metadata": {},
   "outputs": [],
   "source": [
    "jh_hist_countries_deaths_pct_ewma = jh_hist_countries_deaths_pct.ewm(span=3).mean()"
   ]
  },
  {
   "cell_type": "code",
   "execution_count": null,
   "metadata": {},
   "outputs": [],
   "source": [
    "jh_hist_countries_deaths_pct_ewma.tail(3)"
   ]
  },
  {
   "cell_type": "code",
   "execution_count": null,
   "metadata": {},
   "outputs": [],
   "source": [
    "filename = os.path.join(os.getcwd(), 'Datasets/JH/jh_hist_countries_deaths_pct_ewma.csv')\n",
    "jh_hist_countries_deaths_pct_ewma.to_csv(filename, index=True)"
   ]
  },
  {
   "cell_type": "markdown",
   "metadata": {},
   "source": [
    "##### 1E-6: EWMA of Daily % change Export the JH historic **recovered**, grouped / subtotalled by **Country**"
   ]
  },
  {
   "cell_type": "code",
   "execution_count": null,
   "metadata": {},
   "outputs": [],
   "source": [
    "jh_hist_countries_recovered_pct_ewma = jh_hist_countries_recovered_pct.ewm(span=3).mean()"
   ]
  },
  {
   "cell_type": "code",
   "execution_count": null,
   "metadata": {},
   "outputs": [],
   "source": [
    "jh_hist_countries_recovered_pct_ewma.tail(3)"
   ]
  },
  {
   "cell_type": "code",
   "execution_count": null,
   "metadata": {},
   "outputs": [],
   "source": [
    "filename = os.path.join(os.getcwd(), 'Datasets/JH/jh_hist_countries_recovered_pct_ewma.csv')\n",
    "jh_hist_countries_recovered_pct_ewma.to_csv(filename, index=True)"
   ]
  },
  {
   "cell_type": "markdown",
   "metadata": {},
   "source": [
    "##### 1E-7: EWMA of Daily % change JH historic **confirmed cases**, grouped / subtotalled by **US State**"
   ]
  },
  {
   "cell_type": "code",
   "execution_count": null,
   "metadata": {},
   "outputs": [],
   "source": [
    "jh_hist_usstates_cases_pct_ewma = jh_hist_usstates_cases_pct.ewm(span=3).mean()"
   ]
  },
  {
   "cell_type": "code",
   "execution_count": null,
   "metadata": {},
   "outputs": [],
   "source": [
    "jh_hist_usstates_cases_pct_ewma.tail(3)"
   ]
  },
  {
   "cell_type": "code",
   "execution_count": null,
   "metadata": {},
   "outputs": [],
   "source": [
    "filename = os.path.join(os.getcwd(), 'Datasets/JH/jh_hist_usstates_cases_pct_ewma.csv')\n",
    "jh_hist_usstates_cases_pct_ewma.to_csv(filename, index=True)"
   ]
  },
  {
   "cell_type": "markdown",
   "metadata": {},
   "source": [
    "##### 1E-8: EWMA of Daily % change JH historic **confirmed cases**, grouped / subtotalled by **US County**"
   ]
  },
  {
   "cell_type": "code",
   "execution_count": null,
   "metadata": {},
   "outputs": [],
   "source": [
    "jh_hist_uscounties_cases_pct_ewma = jh_hist_uscounties_cases_pct.ewm(span=3).mean()"
   ]
  },
  {
   "cell_type": "code",
   "execution_count": null,
   "metadata": {},
   "outputs": [],
   "source": [
    "jh_hist_uscounties_cases_pct_ewma.tail(3)"
   ]
  },
  {
   "cell_type": "code",
   "execution_count": null,
   "metadata": {},
   "outputs": [],
   "source": [
    "filename = os.path.join(os.getcwd(), 'Datasets/JH/jh_hist_uscounties_cases_pct_ewma.csv')\n",
    "jh_hist_uscounties_cases_pct_ewma.to_csv(filename, index=True)"
   ]
  },
  {
   "cell_type": "markdown",
   "metadata": {},
   "source": [
    "##### 1E-9: EWMA of Daily % change JH historic **deaths**, grouped / subtotalled by **US State**"
   ]
  },
  {
   "cell_type": "code",
   "execution_count": null,
   "metadata": {},
   "outputs": [],
   "source": [
    "jh_hist_usstates_deaths_pct_ewma = jh_hist_usstates_deaths_pct.ewm(span=3).mean()"
   ]
  },
  {
   "cell_type": "code",
   "execution_count": null,
   "metadata": {},
   "outputs": [],
   "source": [
    "jh_hist_usstates_deaths_pct_ewma.tail(3)"
   ]
  },
  {
   "cell_type": "code",
   "execution_count": null,
   "metadata": {},
   "outputs": [],
   "source": [
    "filename = os.path.join(os.getcwd(), 'Datasets/JH/jh_hist_usstates_deaths_pct_ewma.csv')\n",
    "jh_hist_usstates_deaths_pct_ewma.to_csv(filename, index=True)"
   ]
  },
  {
   "cell_type": "markdown",
   "metadata": {},
   "source": [
    "##### 1E-10: EWMA of Daily % change JH historic **deaths**, grouped / subtotalled by **US County**"
   ]
  },
  {
   "cell_type": "code",
   "execution_count": null,
   "metadata": {},
   "outputs": [],
   "source": [
    "jh_hist_uscounties_deaths_pct_ewma = jh_hist_uscounties_deaths_pct.ewm(span=3).mean()"
   ]
  },
  {
   "cell_type": "code",
   "execution_count": null,
   "metadata": {},
   "outputs": [],
   "source": [
    "jh_hist_uscounties_deaths_pct_ewma.tail(3)"
   ]
  },
  {
   "cell_type": "code",
   "execution_count": null,
   "metadata": {},
   "outputs": [],
   "source": [
    "filename = os.path.join(os.getcwd(), 'Datasets/JH/jh_hist_uscounties_deaths_pct_ewma.csv')\n",
    "jh_hist_uscounties_deaths_pct_ewma.to_csv(filename, index=True)"
   ]
  },
  {
   "cell_type": "markdown",
   "metadata": {},
   "source": [
    "### Dataset 2: US States - Covid Tracking Project"
   ]
  },
  {
   "cell_type": "markdown",
   "metadata": {},
   "source": [
    "The Covid Tracking Project stores data in both API (JSON) and CSV formats.  We'll be loading the CSV files into Pandas here.  \n",
    "https://covidtracking.com/api/  \n",
    "\n",
    "States current - /api/v1/states/current.csv | [CSV](https://covidtracking.com/api/v1/states/current.csv)  \n",
    "States historic - /api/v1/states/daily.csv | [CSV](https://covidtracking.com/api/v1/states/daily.csv)  \n",
    "States info - /api/v1/states/info.csv | [CSV](https://covidtracking.com/api/v1/states/info.csv)   "
   ]
  },
  {
   "cell_type": "markdown",
   "metadata": {},
   "source": [
    "#### 2A: Pull the Data from CT's API, immediately export as 'orig'"
   ]
  },
  {
   "cell_type": "code",
   "execution_count": null,
   "metadata": {},
   "outputs": [],
   "source": [
    "ct_live_usstates = pd.read_csv(\"https://covidtracking.com/api/v1/states/current.csv\")\n",
    "ct_live_usstates.head()"
   ]
  },
  {
   "cell_type": "code",
   "execution_count": null,
   "metadata": {},
   "outputs": [],
   "source": [
    "filename = os.path.join(os.getcwd(), 'Datasets/CT/orig/ct_live_usstates_orig.csv')\n",
    "ct_live_usstates.to_csv(filename, index=False)"
   ]
  },
  {
   "cell_type": "code",
   "execution_count": null,
   "metadata": {},
   "outputs": [],
   "source": [
    "ct_hist_usstates = pd.read_csv(\"https://covidtracking.com/api/v1/states/daily.csv\")\n",
    "ct_hist_usstates.head()"
   ]
  },
  {
   "cell_type": "code",
   "execution_count": null,
   "metadata": {},
   "outputs": [],
   "source": [
    "filename = os.path.join(os.getcwd(), 'Datasets/CT/orig/ct_hist_usstates_orig.csv')\n",
    "ct_hist_usstates.to_csv(filename, index=False)"
   ]
  },
  {
   "cell_type": "markdown",
   "metadata": {},
   "source": [
    "#### 2B: Change the dates to datetime format, make them the index for both datasets"
   ]
  },
  {
   "cell_type": "code",
   "execution_count": null,
   "metadata": {},
   "outputs": [],
   "source": [
    "ct_live_usstates['date'] = ct_live_usstates['date'].map(lambda d : str(d)[:4] + '-' + str(d)[4:6] + '-' + str(d)[6:])\n",
    "ct_live_usstates['date'] = pd.to_datetime(ct_live_usstates['date'])\n",
    "ct_live_usstates.set_index('date', inplace=True)\n",
    "ct_live_usstates.head()"
   ]
  },
  {
   "cell_type": "code",
   "execution_count": null,
   "metadata": {},
   "outputs": [],
   "source": [
    "ct_hist_usstates['date'] = ct_hist_usstates['date'].map(lambda d : str(d)[:4] + '-' + str(d)[4:6] + '-' + str(d)[6:])\n",
    "ct_hist_usstates['date'] = pd.to_datetime(ct_hist_usstates['date'])\n",
    "ct_hist_usstates.set_index('date', inplace=True)\n",
    "ct_hist_usstates.head()"
   ]
  },
  {
   "cell_type": "code",
   "execution_count": null,
   "metadata": {},
   "outputs": [],
   "source": []
  }
 ],
 "metadata": {
  "kernelspec": {
   "display_name": "Python 3",
   "language": "python",
   "name": "python3"
  },
  "language_info": {
   "codemirror_mode": {
    "name": "ipython",
    "version": 3
   },
   "file_extension": ".py",
   "mimetype": "text/x-python",
   "name": "python",
   "nbconvert_exporter": "python",
   "pygments_lexer": "ipython3",
   "version": "3.7.9"
  }
 },
 "nbformat": 4,
 "nbformat_minor": 4
}
