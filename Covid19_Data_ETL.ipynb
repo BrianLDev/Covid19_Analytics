{
 "cells": [
  {
   "cell_type": "markdown",
   "metadata": {},
   "source": [
    "# Covid-19 (Coronavirus): Data Extract, Transform, Load (ETL) Notebook\n",
    "This notebook pulls data from various sources, performs data wrangling to get it into more usable formats, and exports to CSV for use in other notebooks, as well as for future reference.  \n",
    "\n",
    "Feeds into the Covid19_Analytics notebook."
   ]
  },
  {
   "cell_type": "markdown",
   "metadata": {},
   "source": [
    "## Data Sources\n",
    "\n",
    "### Primary Data Source: Johns Hopkins CSSE Data Repository \n",
    "- Link: https://github.com/CSSEGISandData/COVID-19  \n",
    "- **Live data:**\n",
    "    - Countries (cases, deaths, recoveries, active)\n",
    "    - US States (cases, deaths)\n",
    "    - US County (cases, deaths)\n",
    "- **Historic time series data:**\n",
    "    - Countries (cases, deaths, recoveries, active)\n",
    "    - US States (cases, deaths)\n",
    "    - US Counties (cases, deaths)\n",
    "\n",
    "### US State Testing and Hospitalizations: Covid Tracking Project \n",
    "- Link: https://covidtracking.com/data/ \n",
    "- **Live data:**\n",
    "    - US State testing and hospitalization, ICU stats\n",
    "- **Historic time series data:**\n",
    "    - US State testing and hospitalization, ICU stats"
   ]
  },
  {
   "cell_type": "markdown",
   "metadata": {},
   "source": [
    "## Import Libraries"
   ]
  },
  {
   "cell_type": "code",
   "execution_count": 1,
   "metadata": {},
   "outputs": [],
   "source": [
    "import pandas as pd\n",
    "import numpy as np\n",
    "from matplotlib import pyplot as plt\n",
    "from datetime import datetime\n",
    "import os"
   ]
  },
  {
   "cell_type": "markdown",
   "metadata": {},
   "source": [
    "## Get the Datasets"
   ]
  },
  {
   "cell_type": "markdown",
   "metadata": {},
   "source": [
    "### Dataset 1: John Hopkins"
   ]
  },
  {
   "cell_type": "markdown",
   "metadata": {},
   "source": [
    "Live data is stored in files named MM-DD-YYYY.csv, so get the current date for live data updates.  \n",
    "https://github.com/CSSEGISandData/COVID-19/tree/master/csse_covid_19_data/csse_covid_19_daily_reports"
   ]
  },
  {
   "cell_type": "markdown",
   "metadata": {},
   "source": [
    "#### 1A: Pull the Data from JH's github repo, immediately export as 'orig'"
   ]
  },
  {
   "cell_type": "code",
   "execution_count": 2,
   "metadata": {},
   "outputs": [
    {
     "data": {
      "text/plain": [
       "'07-07-2021'"
      ]
     },
     "execution_count": 2,
     "metadata": {},
     "output_type": "execute_result"
    }
   ],
   "source": [
    "# Create the filename to load based on today's date\n",
    "\n",
    "day = str(datetime.now().day) if datetime.now().day >= 10 else \"0\" + str(datetime.now().day)\n",
    "month = str(datetime.now().month) if datetime.now().month >= 10 else \"0\" + str(datetime.now().month)\n",
    "year = str(datetime.now().year)\n",
    "\n",
    "jh_live_date = month + \"-\" + day + \"-\" + year\n",
    "jh_live_date"
   ]
  },
  {
   "cell_type": "code",
   "execution_count": 3,
   "metadata": {},
   "outputs": [
    {
     "data": {
      "text/plain": [
       "'07-07-2021'"
      ]
     },
     "execution_count": 3,
     "metadata": {},
     "output_type": "execute_result"
    }
   ],
   "source": [
    "#  First try to pull today's data, but if it's not available yet, pull yesterday's data\n",
    "try:\n",
    "    fileURL = \"https://raw.githubusercontent.com/CSSEGISandData/COVID-19/master/csse_covid_19_data/csse_covid_19_daily_reports/\" + jh_live_date + \".csv\"\n",
    "    jh_live_global = pd.read_csv(fileURL)\n",
    "except:\n",
    "    day = str(datetime.now().day-1) if datetime.now().day-1 >= 10 else \"0\" + str(datetime.now().day-1)\n",
    "    jh_live_date = month + \"-\" + day + \"-\" + year\n",
    "    fileURL = \"https://raw.githubusercontent.com/CSSEGISandData/COVID-19/master/csse_covid_19_data/csse_covid_19_daily_reports/\" + jh_live_date + \".csv\"\n",
    "    jh_live_global = pd.read_csv(fileURL)\n",
    "    \n",
    "jh_live_date"
   ]
  },
  {
   "cell_type": "code",
   "execution_count": 4,
   "metadata": {},
   "outputs": [
    {
     "data": {
      "text/html": [
       "<div>\n",
       "<style scoped>\n",
       "    .dataframe tbody tr th:only-of-type {\n",
       "        vertical-align: middle;\n",
       "    }\n",
       "\n",
       "    .dataframe tbody tr th {\n",
       "        vertical-align: top;\n",
       "    }\n",
       "\n",
       "    .dataframe thead th {\n",
       "        text-align: right;\n",
       "    }\n",
       "</style>\n",
       "<table border=\"1\" class=\"dataframe\">\n",
       "  <thead>\n",
       "    <tr style=\"text-align: right;\">\n",
       "      <th></th>\n",
       "      <th>FIPS</th>\n",
       "      <th>Admin2</th>\n",
       "      <th>Province_State</th>\n",
       "      <th>Country_Region</th>\n",
       "      <th>Last_Update</th>\n",
       "      <th>Lat</th>\n",
       "      <th>Long_</th>\n",
       "      <th>Confirmed</th>\n",
       "      <th>Deaths</th>\n",
       "      <th>Recovered</th>\n",
       "      <th>Active</th>\n",
       "      <th>Combined_Key</th>\n",
       "      <th>Incident_Rate</th>\n",
       "      <th>Case_Fatality_Ratio</th>\n",
       "    </tr>\n",
       "  </thead>\n",
       "  <tbody>\n",
       "    <tr>\n",
       "      <th>0</th>\n",
       "      <td>NaN</td>\n",
       "      <td>NaN</td>\n",
       "      <td>NaN</td>\n",
       "      <td>Afghanistan</td>\n",
       "      <td>2021-07-08 04:21:26</td>\n",
       "      <td>33.93911</td>\n",
       "      <td>67.709953</td>\n",
       "      <td>129021</td>\n",
       "      <td>5415</td>\n",
       "      <td>77280.0</td>\n",
       "      <td>46326.0</td>\n",
       "      <td>Afghanistan</td>\n",
       "      <td>331.432054</td>\n",
       "      <td>4.196991</td>\n",
       "    </tr>\n",
       "    <tr>\n",
       "      <th>1</th>\n",
       "      <td>NaN</td>\n",
       "      <td>NaN</td>\n",
       "      <td>NaN</td>\n",
       "      <td>Albania</td>\n",
       "      <td>2021-07-08 04:21:26</td>\n",
       "      <td>41.15330</td>\n",
       "      <td>20.168300</td>\n",
       "      <td>132557</td>\n",
       "      <td>2456</td>\n",
       "      <td>130035.0</td>\n",
       "      <td>66.0</td>\n",
       "      <td>Albania</td>\n",
       "      <td>4606.192230</td>\n",
       "      <td>1.852788</td>\n",
       "    </tr>\n",
       "    <tr>\n",
       "      <th>2</th>\n",
       "      <td>NaN</td>\n",
       "      <td>NaN</td>\n",
       "      <td>NaN</td>\n",
       "      <td>Algeria</td>\n",
       "      <td>2021-07-08 04:21:26</td>\n",
       "      <td>28.03390</td>\n",
       "      <td>1.659600</td>\n",
       "      <td>143032</td>\n",
       "      <td>3786</td>\n",
       "      <td>99510.0</td>\n",
       "      <td>39736.0</td>\n",
       "      <td>Algeria</td>\n",
       "      <td>326.176962</td>\n",
       "      <td>2.646960</td>\n",
       "    </tr>\n",
       "    <tr>\n",
       "      <th>3</th>\n",
       "      <td>NaN</td>\n",
       "      <td>NaN</td>\n",
       "      <td>NaN</td>\n",
       "      <td>Andorra</td>\n",
       "      <td>2021-07-08 04:21:26</td>\n",
       "      <td>42.50630</td>\n",
       "      <td>1.521800</td>\n",
       "      <td>14021</td>\n",
       "      <td>127</td>\n",
       "      <td>13757.0</td>\n",
       "      <td>137.0</td>\n",
       "      <td>Andorra</td>\n",
       "      <td>18146.638193</td>\n",
       "      <td>0.905784</td>\n",
       "    </tr>\n",
       "    <tr>\n",
       "      <th>4</th>\n",
       "      <td>NaN</td>\n",
       "      <td>NaN</td>\n",
       "      <td>NaN</td>\n",
       "      <td>Angola</td>\n",
       "      <td>2021-07-08 04:21:26</td>\n",
       "      <td>-11.20270</td>\n",
       "      <td>17.873900</td>\n",
       "      <td>39491</td>\n",
       "      <td>925</td>\n",
       "      <td>34047.0</td>\n",
       "      <td>4519.0</td>\n",
       "      <td>Angola</td>\n",
       "      <td>120.156630</td>\n",
       "      <td>2.342306</td>\n",
       "    </tr>\n",
       "  </tbody>\n",
       "</table>\n",
       "</div>"
      ],
      "text/plain": [
       "   FIPS Admin2 Province_State Country_Region          Last_Update       Lat  \\\n",
       "0   NaN    NaN            NaN    Afghanistan  2021-07-08 04:21:26  33.93911   \n",
       "1   NaN    NaN            NaN        Albania  2021-07-08 04:21:26  41.15330   \n",
       "2   NaN    NaN            NaN        Algeria  2021-07-08 04:21:26  28.03390   \n",
       "3   NaN    NaN            NaN        Andorra  2021-07-08 04:21:26  42.50630   \n",
       "4   NaN    NaN            NaN         Angola  2021-07-08 04:21:26 -11.20270   \n",
       "\n",
       "       Long_  Confirmed  Deaths  Recovered   Active Combined_Key  \\\n",
       "0  67.709953     129021    5415    77280.0  46326.0  Afghanistan   \n",
       "1  20.168300     132557    2456   130035.0     66.0      Albania   \n",
       "2   1.659600     143032    3786    99510.0  39736.0      Algeria   \n",
       "3   1.521800      14021     127    13757.0    137.0      Andorra   \n",
       "4  17.873900      39491     925    34047.0   4519.0       Angola   \n",
       "\n",
       "   Incident_Rate  Case_Fatality_Ratio  \n",
       "0     331.432054             4.196991  \n",
       "1    4606.192230             1.852788  \n",
       "2     326.176962             2.646960  \n",
       "3   18146.638193             0.905784  \n",
       "4     120.156630             2.342306  "
      ]
     },
     "execution_count": 4,
     "metadata": {},
     "output_type": "execute_result"
    }
   ],
   "source": [
    "# Check out the first x rows to make sure the data loaded correctly\n",
    "jh_live_global.head()"
   ]
  },
  {
   "cell_type": "markdown",
   "metadata": {},
   "source": [
    "Now immediately export the original jh dataset before making any changes"
   ]
  },
  {
   "cell_type": "code",
   "execution_count": 5,
   "metadata": {},
   "outputs": [],
   "source": [
    "filename = os.path.join(os.getcwd(), 'Datasets/JH/orig/jh_live_global_orig.csv')\n",
    "jh_live_global.to_csv(filename, index=False)"
   ]
  },
  {
   "cell_type": "markdown",
   "metadata": {},
   "source": [
    "**Also pull the global historic time series data.  Note that it won't have live data from today until close to midnight PT.**"
   ]
  },
  {
   "cell_type": "code",
   "execution_count": 6,
   "metadata": {},
   "outputs": [
    {
     "data": {
      "text/html": [
       "<div>\n",
       "<style scoped>\n",
       "    .dataframe tbody tr th:only-of-type {\n",
       "        vertical-align: middle;\n",
       "    }\n",
       "\n",
       "    .dataframe tbody tr th {\n",
       "        vertical-align: top;\n",
       "    }\n",
       "\n",
       "    .dataframe thead th {\n",
       "        text-align: right;\n",
       "    }\n",
       "</style>\n",
       "<table border=\"1\" class=\"dataframe\">\n",
       "  <thead>\n",
       "    <tr style=\"text-align: right;\">\n",
       "      <th></th>\n",
       "      <th>Province/State</th>\n",
       "      <th>Country/Region</th>\n",
       "      <th>Lat</th>\n",
       "      <th>Long</th>\n",
       "      <th>1/22/20</th>\n",
       "      <th>1/23/20</th>\n",
       "      <th>1/24/20</th>\n",
       "      <th>1/25/20</th>\n",
       "      <th>1/26/20</th>\n",
       "      <th>1/27/20</th>\n",
       "      <th>...</th>\n",
       "      <th>6/28/21</th>\n",
       "      <th>6/29/21</th>\n",
       "      <th>6/30/21</th>\n",
       "      <th>7/1/21</th>\n",
       "      <th>7/2/21</th>\n",
       "      <th>7/3/21</th>\n",
       "      <th>7/4/21</th>\n",
       "      <th>7/5/21</th>\n",
       "      <th>7/6/21</th>\n",
       "      <th>7/7/21</th>\n",
       "    </tr>\n",
       "  </thead>\n",
       "  <tbody>\n",
       "    <tr>\n",
       "      <th>0</th>\n",
       "      <td>NaN</td>\n",
       "      <td>Afghanistan</td>\n",
       "      <td>33.93911</td>\n",
       "      <td>67.709953</td>\n",
       "      <td>0</td>\n",
       "      <td>0</td>\n",
       "      <td>0</td>\n",
       "      <td>0</td>\n",
       "      <td>0</td>\n",
       "      <td>0</td>\n",
       "      <td>...</td>\n",
       "      <td>115751</td>\n",
       "      <td>117158</td>\n",
       "      <td>118659</td>\n",
       "      <td>120216</td>\n",
       "      <td>120216</td>\n",
       "      <td>120216</td>\n",
       "      <td>120216</td>\n",
       "      <td>125937</td>\n",
       "      <td>127464</td>\n",
       "      <td>129021</td>\n",
       "    </tr>\n",
       "    <tr>\n",
       "      <th>1</th>\n",
       "      <td>NaN</td>\n",
       "      <td>Albania</td>\n",
       "      <td>41.15330</td>\n",
       "      <td>20.168300</td>\n",
       "      <td>0</td>\n",
       "      <td>0</td>\n",
       "      <td>0</td>\n",
       "      <td>0</td>\n",
       "      <td>0</td>\n",
       "      <td>0</td>\n",
       "      <td>...</td>\n",
       "      <td>132513</td>\n",
       "      <td>132514</td>\n",
       "      <td>132521</td>\n",
       "      <td>132523</td>\n",
       "      <td>132526</td>\n",
       "      <td>132534</td>\n",
       "      <td>132535</td>\n",
       "      <td>132537</td>\n",
       "      <td>132544</td>\n",
       "      <td>132557</td>\n",
       "    </tr>\n",
       "    <tr>\n",
       "      <th>2</th>\n",
       "      <td>NaN</td>\n",
       "      <td>Algeria</td>\n",
       "      <td>28.03390</td>\n",
       "      <td>1.659600</td>\n",
       "      <td>0</td>\n",
       "      <td>0</td>\n",
       "      <td>0</td>\n",
       "      <td>0</td>\n",
       "      <td>0</td>\n",
       "      <td>0</td>\n",
       "      <td>...</td>\n",
       "      <td>138840</td>\n",
       "      <td>139229</td>\n",
       "      <td>139626</td>\n",
       "      <td>140075</td>\n",
       "      <td>140550</td>\n",
       "      <td>141007</td>\n",
       "      <td>141471</td>\n",
       "      <td>141966</td>\n",
       "      <td>142447</td>\n",
       "      <td>143032</td>\n",
       "    </tr>\n",
       "  </tbody>\n",
       "</table>\n",
       "<p>3 rows × 537 columns</p>\n",
       "</div>"
      ],
      "text/plain": [
       "  Province/State Country/Region       Lat       Long  1/22/20  1/23/20  \\\n",
       "0            NaN    Afghanistan  33.93911  67.709953        0        0   \n",
       "1            NaN        Albania  41.15330  20.168300        0        0   \n",
       "2            NaN        Algeria  28.03390   1.659600        0        0   \n",
       "\n",
       "   1/24/20  1/25/20  1/26/20  1/27/20  ...  6/28/21  6/29/21  6/30/21  7/1/21  \\\n",
       "0        0        0        0        0  ...   115751   117158   118659  120216   \n",
       "1        0        0        0        0  ...   132513   132514   132521  132523   \n",
       "2        0        0        0        0  ...   138840   139229   139626  140075   \n",
       "\n",
       "   7/2/21  7/3/21  7/4/21  7/5/21  7/6/21  7/7/21  \n",
       "0  120216  120216  120216  125937  127464  129021  \n",
       "1  132526  132534  132535  132537  132544  132557  \n",
       "2  140550  141007  141471  141966  142447  143032  \n",
       "\n",
       "[3 rows x 537 columns]"
      ]
     },
     "execution_count": 6,
     "metadata": {},
     "output_type": "execute_result"
    }
   ],
   "source": [
    "jh_hist_global_cases = pd.read_csv('https://raw.githubusercontent.com/CSSEGISandData/COVID-19/master/csse_covid_19_data/csse_covid_19_time_series/time_series_covid19_confirmed_global.csv')\n",
    "jh_hist_global_cases.head(3)"
   ]
  },
  {
   "cell_type": "code",
   "execution_count": 7,
   "metadata": {},
   "outputs": [],
   "source": [
    "filename = os.path.join(os.getcwd(), 'Datasets/JH/orig/jh_hist_global_cases_orig.csv')\n",
    "jh_hist_global_cases.to_csv(filename, index=False)"
   ]
  },
  {
   "cell_type": "code",
   "execution_count": 8,
   "metadata": {},
   "outputs": [
    {
     "data": {
      "text/html": [
       "<div>\n",
       "<style scoped>\n",
       "    .dataframe tbody tr th:only-of-type {\n",
       "        vertical-align: middle;\n",
       "    }\n",
       "\n",
       "    .dataframe tbody tr th {\n",
       "        vertical-align: top;\n",
       "    }\n",
       "\n",
       "    .dataframe thead th {\n",
       "        text-align: right;\n",
       "    }\n",
       "</style>\n",
       "<table border=\"1\" class=\"dataframe\">\n",
       "  <thead>\n",
       "    <tr style=\"text-align: right;\">\n",
       "      <th></th>\n",
       "      <th>Province/State</th>\n",
       "      <th>Country/Region</th>\n",
       "      <th>Lat</th>\n",
       "      <th>Long</th>\n",
       "      <th>1/22/20</th>\n",
       "      <th>1/23/20</th>\n",
       "      <th>1/24/20</th>\n",
       "      <th>1/25/20</th>\n",
       "      <th>1/26/20</th>\n",
       "      <th>1/27/20</th>\n",
       "      <th>...</th>\n",
       "      <th>6/28/21</th>\n",
       "      <th>6/29/21</th>\n",
       "      <th>6/30/21</th>\n",
       "      <th>7/1/21</th>\n",
       "      <th>7/2/21</th>\n",
       "      <th>7/3/21</th>\n",
       "      <th>7/4/21</th>\n",
       "      <th>7/5/21</th>\n",
       "      <th>7/6/21</th>\n",
       "      <th>7/7/21</th>\n",
       "    </tr>\n",
       "  </thead>\n",
       "  <tbody>\n",
       "    <tr>\n",
       "      <th>0</th>\n",
       "      <td>NaN</td>\n",
       "      <td>Afghanistan</td>\n",
       "      <td>33.93911</td>\n",
       "      <td>67.709953</td>\n",
       "      <td>0</td>\n",
       "      <td>0</td>\n",
       "      <td>0</td>\n",
       "      <td>0</td>\n",
       "      <td>0</td>\n",
       "      <td>0</td>\n",
       "      <td>...</td>\n",
       "      <td>4730</td>\n",
       "      <td>4794</td>\n",
       "      <td>4871</td>\n",
       "      <td>4962</td>\n",
       "      <td>4962</td>\n",
       "      <td>4962</td>\n",
       "      <td>4962</td>\n",
       "      <td>5283</td>\n",
       "      <td>5360</td>\n",
       "      <td>5415</td>\n",
       "    </tr>\n",
       "    <tr>\n",
       "      <th>1</th>\n",
       "      <td>NaN</td>\n",
       "      <td>Albania</td>\n",
       "      <td>41.15330</td>\n",
       "      <td>20.168300</td>\n",
       "      <td>0</td>\n",
       "      <td>0</td>\n",
       "      <td>0</td>\n",
       "      <td>0</td>\n",
       "      <td>0</td>\n",
       "      <td>0</td>\n",
       "      <td>...</td>\n",
       "      <td>2456</td>\n",
       "      <td>2456</td>\n",
       "      <td>2456</td>\n",
       "      <td>2456</td>\n",
       "      <td>2456</td>\n",
       "      <td>2456</td>\n",
       "      <td>2456</td>\n",
       "      <td>2456</td>\n",
       "      <td>2456</td>\n",
       "      <td>2456</td>\n",
       "    </tr>\n",
       "    <tr>\n",
       "      <th>2</th>\n",
       "      <td>NaN</td>\n",
       "      <td>Algeria</td>\n",
       "      <td>28.03390</td>\n",
       "      <td>1.659600</td>\n",
       "      <td>0</td>\n",
       "      <td>0</td>\n",
       "      <td>0</td>\n",
       "      <td>0</td>\n",
       "      <td>0</td>\n",
       "      <td>0</td>\n",
       "      <td>...</td>\n",
       "      <td>3699</td>\n",
       "      <td>3708</td>\n",
       "      <td>3716</td>\n",
       "      <td>3726</td>\n",
       "      <td>3735</td>\n",
       "      <td>3745</td>\n",
       "      <td>3755</td>\n",
       "      <td>3765</td>\n",
       "      <td>3775</td>\n",
       "      <td>3786</td>\n",
       "    </tr>\n",
       "  </tbody>\n",
       "</table>\n",
       "<p>3 rows × 537 columns</p>\n",
       "</div>"
      ],
      "text/plain": [
       "  Province/State Country/Region       Lat       Long  1/22/20  1/23/20  \\\n",
       "0            NaN    Afghanistan  33.93911  67.709953        0        0   \n",
       "1            NaN        Albania  41.15330  20.168300        0        0   \n",
       "2            NaN        Algeria  28.03390   1.659600        0        0   \n",
       "\n",
       "   1/24/20  1/25/20  1/26/20  1/27/20  ...  6/28/21  6/29/21  6/30/21  7/1/21  \\\n",
       "0        0        0        0        0  ...     4730     4794     4871    4962   \n",
       "1        0        0        0        0  ...     2456     2456     2456    2456   \n",
       "2        0        0        0        0  ...     3699     3708     3716    3726   \n",
       "\n",
       "   7/2/21  7/3/21  7/4/21  7/5/21  7/6/21  7/7/21  \n",
       "0    4962    4962    4962    5283    5360    5415  \n",
       "1    2456    2456    2456    2456    2456    2456  \n",
       "2    3735    3745    3755    3765    3775    3786  \n",
       "\n",
       "[3 rows x 537 columns]"
      ]
     },
     "execution_count": 8,
     "metadata": {},
     "output_type": "execute_result"
    }
   ],
   "source": [
    "jh_hist_global_deaths = pd.read_csv('https://raw.githubusercontent.com/CSSEGISandData/COVID-19/master/csse_covid_19_data/csse_covid_19_time_series/time_series_covid19_deaths_global.csv')\n",
    "jh_hist_global_deaths.head(3)"
   ]
  },
  {
   "cell_type": "code",
   "execution_count": 9,
   "metadata": {},
   "outputs": [],
   "source": [
    "filename = os.path.join(os.getcwd(), 'Datasets/JH/orig/jh_hist_global_deaths_orig.csv')\n",
    "jh_hist_global_deaths.to_csv(filename, index=False)"
   ]
  },
  {
   "cell_type": "code",
   "execution_count": 10,
   "metadata": {},
   "outputs": [
    {
     "data": {
      "text/html": [
       "<div>\n",
       "<style scoped>\n",
       "    .dataframe tbody tr th:only-of-type {\n",
       "        vertical-align: middle;\n",
       "    }\n",
       "\n",
       "    .dataframe tbody tr th {\n",
       "        vertical-align: top;\n",
       "    }\n",
       "\n",
       "    .dataframe thead th {\n",
       "        text-align: right;\n",
       "    }\n",
       "</style>\n",
       "<table border=\"1\" class=\"dataframe\">\n",
       "  <thead>\n",
       "    <tr style=\"text-align: right;\">\n",
       "      <th></th>\n",
       "      <th>Province/State</th>\n",
       "      <th>Country/Region</th>\n",
       "      <th>Lat</th>\n",
       "      <th>Long</th>\n",
       "      <th>1/22/20</th>\n",
       "      <th>1/23/20</th>\n",
       "      <th>1/24/20</th>\n",
       "      <th>1/25/20</th>\n",
       "      <th>1/26/20</th>\n",
       "      <th>1/27/20</th>\n",
       "      <th>...</th>\n",
       "      <th>6/28/21</th>\n",
       "      <th>6/29/21</th>\n",
       "      <th>6/30/21</th>\n",
       "      <th>7/1/21</th>\n",
       "      <th>7/2/21</th>\n",
       "      <th>7/3/21</th>\n",
       "      <th>7/4/21</th>\n",
       "      <th>7/5/21</th>\n",
       "      <th>7/6/21</th>\n",
       "      <th>7/7/21</th>\n",
       "    </tr>\n",
       "  </thead>\n",
       "  <tbody>\n",
       "    <tr>\n",
       "      <th>0</th>\n",
       "      <td>NaN</td>\n",
       "      <td>Afghanistan</td>\n",
       "      <td>33.93911</td>\n",
       "      <td>67.709953</td>\n",
       "      <td>0</td>\n",
       "      <td>0</td>\n",
       "      <td>0</td>\n",
       "      <td>0</td>\n",
       "      <td>0</td>\n",
       "      <td>0</td>\n",
       "      <td>...</td>\n",
       "      <td>69205</td>\n",
       "      <td>70016</td>\n",
       "      <td>71012</td>\n",
       "      <td>71924</td>\n",
       "      <td>72700</td>\n",
       "      <td>73635</td>\n",
       "      <td>74480</td>\n",
       "      <td>75314</td>\n",
       "      <td>76218</td>\n",
       "      <td>77280</td>\n",
       "    </tr>\n",
       "    <tr>\n",
       "      <th>1</th>\n",
       "      <td>NaN</td>\n",
       "      <td>Albania</td>\n",
       "      <td>41.15330</td>\n",
       "      <td>20.168300</td>\n",
       "      <td>0</td>\n",
       "      <td>0</td>\n",
       "      <td>0</td>\n",
       "      <td>0</td>\n",
       "      <td>0</td>\n",
       "      <td>0</td>\n",
       "      <td>...</td>\n",
       "      <td>129994</td>\n",
       "      <td>130002</td>\n",
       "      <td>130009</td>\n",
       "      <td>130014</td>\n",
       "      <td>130018</td>\n",
       "      <td>130023</td>\n",
       "      <td>130027</td>\n",
       "      <td>130029</td>\n",
       "      <td>130033</td>\n",
       "      <td>130035</td>\n",
       "    </tr>\n",
       "    <tr>\n",
       "      <th>2</th>\n",
       "      <td>NaN</td>\n",
       "      <td>Algeria</td>\n",
       "      <td>28.03390</td>\n",
       "      <td>1.659600</td>\n",
       "      <td>0</td>\n",
       "      <td>0</td>\n",
       "      <td>0</td>\n",
       "      <td>0</td>\n",
       "      <td>0</td>\n",
       "      <td>0</td>\n",
       "      <td>...</td>\n",
       "      <td>96572</td>\n",
       "      <td>96815</td>\n",
       "      <td>97089</td>\n",
       "      <td>97380</td>\n",
       "      <td>97701</td>\n",
       "      <td>98031</td>\n",
       "      <td>98387</td>\n",
       "      <td>98748</td>\n",
       "      <td>99101</td>\n",
       "      <td>99510</td>\n",
       "    </tr>\n",
       "  </tbody>\n",
       "</table>\n",
       "<p>3 rows × 537 columns</p>\n",
       "</div>"
      ],
      "text/plain": [
       "  Province/State Country/Region       Lat       Long  1/22/20  1/23/20  \\\n",
       "0            NaN    Afghanistan  33.93911  67.709953        0        0   \n",
       "1            NaN        Albania  41.15330  20.168300        0        0   \n",
       "2            NaN        Algeria  28.03390   1.659600        0        0   \n",
       "\n",
       "   1/24/20  1/25/20  1/26/20  1/27/20  ...  6/28/21  6/29/21  6/30/21  7/1/21  \\\n",
       "0        0        0        0        0  ...    69205    70016    71012   71924   \n",
       "1        0        0        0        0  ...   129994   130002   130009  130014   \n",
       "2        0        0        0        0  ...    96572    96815    97089   97380   \n",
       "\n",
       "   7/2/21  7/3/21  7/4/21  7/5/21  7/6/21  7/7/21  \n",
       "0   72700   73635   74480   75314   76218   77280  \n",
       "1  130018  130023  130027  130029  130033  130035  \n",
       "2   97701   98031   98387   98748   99101   99510  \n",
       "\n",
       "[3 rows x 537 columns]"
      ]
     },
     "execution_count": 10,
     "metadata": {},
     "output_type": "execute_result"
    }
   ],
   "source": [
    "jh_hist_global_recovered = pd.read_csv('https://raw.githubusercontent.com/CSSEGISandData/COVID-19/master/csse_covid_19_data/csse_covid_19_time_series/time_series_covid19_recovered_global.csv')\n",
    "jh_hist_global_recovered.head(3)"
   ]
  },
  {
   "cell_type": "code",
   "execution_count": 11,
   "metadata": {},
   "outputs": [],
   "source": [
    "filename = os.path.join(os.getcwd(), 'Datasets/JH/orig/jh_hist_global_recovered_orig.csv')\n",
    "jh_hist_global_recovered.to_csv(filename, index=False)"
   ]
  },
  {
   "cell_type": "code",
   "execution_count": 12,
   "metadata": {},
   "outputs": [
    {
     "data": {
      "text/html": [
       "<div>\n",
       "<style scoped>\n",
       "    .dataframe tbody tr th:only-of-type {\n",
       "        vertical-align: middle;\n",
       "    }\n",
       "\n",
       "    .dataframe tbody tr th {\n",
       "        vertical-align: top;\n",
       "    }\n",
       "\n",
       "    .dataframe thead th {\n",
       "        text-align: right;\n",
       "    }\n",
       "</style>\n",
       "<table border=\"1\" class=\"dataframe\">\n",
       "  <thead>\n",
       "    <tr style=\"text-align: right;\">\n",
       "      <th></th>\n",
       "      <th>UID</th>\n",
       "      <th>iso2</th>\n",
       "      <th>iso3</th>\n",
       "      <th>code3</th>\n",
       "      <th>FIPS</th>\n",
       "      <th>Admin2</th>\n",
       "      <th>Province_State</th>\n",
       "      <th>Country_Region</th>\n",
       "      <th>Lat</th>\n",
       "      <th>Long_</th>\n",
       "      <th>...</th>\n",
       "      <th>6/28/21</th>\n",
       "      <th>6/29/21</th>\n",
       "      <th>6/30/21</th>\n",
       "      <th>7/1/21</th>\n",
       "      <th>7/2/21</th>\n",
       "      <th>7/3/21</th>\n",
       "      <th>7/4/21</th>\n",
       "      <th>7/5/21</th>\n",
       "      <th>7/6/21</th>\n",
       "      <th>7/7/21</th>\n",
       "    </tr>\n",
       "  </thead>\n",
       "  <tbody>\n",
       "    <tr>\n",
       "      <th>0</th>\n",
       "      <td>84001001</td>\n",
       "      <td>US</td>\n",
       "      <td>USA</td>\n",
       "      <td>840</td>\n",
       "      <td>1001.0</td>\n",
       "      <td>Autauga</td>\n",
       "      <td>Alabama</td>\n",
       "      <td>US</td>\n",
       "      <td>32.539527</td>\n",
       "      <td>-86.644082</td>\n",
       "      <td>...</td>\n",
       "      <td>7247</td>\n",
       "      <td>7247</td>\n",
       "      <td>7257</td>\n",
       "      <td>7257</td>\n",
       "      <td>7262</td>\n",
       "      <td>7262</td>\n",
       "      <td>7262</td>\n",
       "      <td>7262</td>\n",
       "      <td>7262</td>\n",
       "      <td>7277</td>\n",
       "    </tr>\n",
       "    <tr>\n",
       "      <th>1</th>\n",
       "      <td>84001003</td>\n",
       "      <td>US</td>\n",
       "      <td>USA</td>\n",
       "      <td>840</td>\n",
       "      <td>1003.0</td>\n",
       "      <td>Baldwin</td>\n",
       "      <td>Alabama</td>\n",
       "      <td>US</td>\n",
       "      <td>30.727750</td>\n",
       "      <td>-87.722071</td>\n",
       "      <td>...</td>\n",
       "      <td>21985</td>\n",
       "      <td>21985</td>\n",
       "      <td>22027</td>\n",
       "      <td>22027</td>\n",
       "      <td>22043</td>\n",
       "      <td>22043</td>\n",
       "      <td>22043</td>\n",
       "      <td>22043</td>\n",
       "      <td>22043</td>\n",
       "      <td>22154</td>\n",
       "    </tr>\n",
       "    <tr>\n",
       "      <th>2</th>\n",
       "      <td>84001005</td>\n",
       "      <td>US</td>\n",
       "      <td>USA</td>\n",
       "      <td>840</td>\n",
       "      <td>1005.0</td>\n",
       "      <td>Barbour</td>\n",
       "      <td>Alabama</td>\n",
       "      <td>US</td>\n",
       "      <td>31.868263</td>\n",
       "      <td>-85.387129</td>\n",
       "      <td>...</td>\n",
       "      <td>2345</td>\n",
       "      <td>2345</td>\n",
       "      <td>2346</td>\n",
       "      <td>2346</td>\n",
       "      <td>2347</td>\n",
       "      <td>2347</td>\n",
       "      <td>2347</td>\n",
       "      <td>2347</td>\n",
       "      <td>2347</td>\n",
       "      <td>2354</td>\n",
       "    </tr>\n",
       "  </tbody>\n",
       "</table>\n",
       "<p>3 rows × 544 columns</p>\n",
       "</div>"
      ],
      "text/plain": [
       "        UID iso2 iso3  code3    FIPS   Admin2 Province_State Country_Region  \\\n",
       "0  84001001   US  USA    840  1001.0  Autauga        Alabama             US   \n",
       "1  84001003   US  USA    840  1003.0  Baldwin        Alabama             US   \n",
       "2  84001005   US  USA    840  1005.0  Barbour        Alabama             US   \n",
       "\n",
       "         Lat      Long_  ... 6/28/21  6/29/21  6/30/21  7/1/21  7/2/21  \\\n",
       "0  32.539527 -86.644082  ...    7247     7247     7257    7257    7262   \n",
       "1  30.727750 -87.722071  ...   21985    21985    22027   22027   22043   \n",
       "2  31.868263 -85.387129  ...    2345     2345     2346    2346    2347   \n",
       "\n",
       "   7/3/21  7/4/21  7/5/21  7/6/21  7/7/21  \n",
       "0    7262    7262    7262    7262    7277  \n",
       "1   22043   22043   22043   22043   22154  \n",
       "2    2347    2347    2347    2347    2354  \n",
       "\n",
       "[3 rows x 544 columns]"
      ]
     },
     "execution_count": 12,
     "metadata": {},
     "output_type": "execute_result"
    }
   ],
   "source": [
    "jh_hist_uscounties_cases = pd.read_csv('https://raw.githubusercontent.com/CSSEGISandData/COVID-19/master/csse_covid_19_data/csse_covid_19_time_series/time_series_covid19_confirmed_US.csv')\n",
    "jh_hist_uscounties_cases.head(3)"
   ]
  },
  {
   "cell_type": "code",
   "execution_count": 13,
   "metadata": {},
   "outputs": [],
   "source": [
    "filename = os.path.join(os.getcwd(), 'Datasets/JH/orig/jh_hist_uscounties_cases_orig.csv')\n",
    "jh_hist_uscounties_cases.to_csv(filename, index=False)"
   ]
  },
  {
   "cell_type": "code",
   "execution_count": 14,
   "metadata": {},
   "outputs": [
    {
     "data": {
      "text/html": [
       "<div>\n",
       "<style scoped>\n",
       "    .dataframe tbody tr th:only-of-type {\n",
       "        vertical-align: middle;\n",
       "    }\n",
       "\n",
       "    .dataframe tbody tr th {\n",
       "        vertical-align: top;\n",
       "    }\n",
       "\n",
       "    .dataframe thead th {\n",
       "        text-align: right;\n",
       "    }\n",
       "</style>\n",
       "<table border=\"1\" class=\"dataframe\">\n",
       "  <thead>\n",
       "    <tr style=\"text-align: right;\">\n",
       "      <th></th>\n",
       "      <th>UID</th>\n",
       "      <th>iso2</th>\n",
       "      <th>iso3</th>\n",
       "      <th>code3</th>\n",
       "      <th>FIPS</th>\n",
       "      <th>Admin2</th>\n",
       "      <th>Province_State</th>\n",
       "      <th>Country_Region</th>\n",
       "      <th>Lat</th>\n",
       "      <th>Long_</th>\n",
       "      <th>...</th>\n",
       "      <th>6/27/21</th>\n",
       "      <th>6/28/21</th>\n",
       "      <th>6/29/21</th>\n",
       "      <th>6/30/21</th>\n",
       "      <th>7/1/21</th>\n",
       "      <th>7/2/21</th>\n",
       "      <th>7/3/21</th>\n",
       "      <th>7/4/21</th>\n",
       "      <th>7/5/21</th>\n",
       "      <th>7/6/21</th>\n",
       "    </tr>\n",
       "  </thead>\n",
       "  <tbody>\n",
       "    <tr>\n",
       "      <th>0</th>\n",
       "      <td>84001001</td>\n",
       "      <td>US</td>\n",
       "      <td>USA</td>\n",
       "      <td>840</td>\n",
       "      <td>1001.0</td>\n",
       "      <td>Autauga</td>\n",
       "      <td>Alabama</td>\n",
       "      <td>US</td>\n",
       "      <td>32.539527</td>\n",
       "      <td>-86.644082</td>\n",
       "      <td>...</td>\n",
       "      <td>113</td>\n",
       "      <td>113</td>\n",
       "      <td>113</td>\n",
       "      <td>113</td>\n",
       "      <td>113</td>\n",
       "      <td>113</td>\n",
       "      <td>113</td>\n",
       "      <td>113</td>\n",
       "      <td>113</td>\n",
       "      <td>113</td>\n",
       "    </tr>\n",
       "    <tr>\n",
       "      <th>1</th>\n",
       "      <td>84001003</td>\n",
       "      <td>US</td>\n",
       "      <td>USA</td>\n",
       "      <td>840</td>\n",
       "      <td>1003.0</td>\n",
       "      <td>Baldwin</td>\n",
       "      <td>Alabama</td>\n",
       "      <td>US</td>\n",
       "      <td>30.727750</td>\n",
       "      <td>-87.722071</td>\n",
       "      <td>...</td>\n",
       "      <td>314</td>\n",
       "      <td>314</td>\n",
       "      <td>314</td>\n",
       "      <td>315</td>\n",
       "      <td>315</td>\n",
       "      <td>315</td>\n",
       "      <td>315</td>\n",
       "      <td>315</td>\n",
       "      <td>315</td>\n",
       "      <td>315</td>\n",
       "    </tr>\n",
       "    <tr>\n",
       "      <th>2</th>\n",
       "      <td>84001005</td>\n",
       "      <td>US</td>\n",
       "      <td>USA</td>\n",
       "      <td>840</td>\n",
       "      <td>1005.0</td>\n",
       "      <td>Barbour</td>\n",
       "      <td>Alabama</td>\n",
       "      <td>US</td>\n",
       "      <td>31.868263</td>\n",
       "      <td>-85.387129</td>\n",
       "      <td>...</td>\n",
       "      <td>60</td>\n",
       "      <td>60</td>\n",
       "      <td>60</td>\n",
       "      <td>60</td>\n",
       "      <td>60</td>\n",
       "      <td>60</td>\n",
       "      <td>60</td>\n",
       "      <td>60</td>\n",
       "      <td>60</td>\n",
       "      <td>60</td>\n",
       "    </tr>\n",
       "  </tbody>\n",
       "</table>\n",
       "<p>3 rows × 544 columns</p>\n",
       "</div>"
      ],
      "text/plain": [
       "        UID iso2 iso3  code3    FIPS   Admin2 Province_State Country_Region  \\\n",
       "0  84001001   US  USA    840  1001.0  Autauga        Alabama             US   \n",
       "1  84001003   US  USA    840  1003.0  Baldwin        Alabama             US   \n",
       "2  84001005   US  USA    840  1005.0  Barbour        Alabama             US   \n",
       "\n",
       "         Lat      Long_  ... 6/27/21  6/28/21  6/29/21  6/30/21  7/1/21  \\\n",
       "0  32.539527 -86.644082  ...     113      113      113      113     113   \n",
       "1  30.727750 -87.722071  ...     314      314      314      315     315   \n",
       "2  31.868263 -85.387129  ...      60       60       60       60      60   \n",
       "\n",
       "   7/2/21  7/3/21  7/4/21  7/5/21  7/6/21  \n",
       "0     113     113     113     113     113  \n",
       "1     315     315     315     315     315  \n",
       "2      60      60      60      60      60  \n",
       "\n",
       "[3 rows x 544 columns]"
      ]
     },
     "execution_count": 14,
     "metadata": {},
     "output_type": "execute_result"
    }
   ],
   "source": [
    "jh_hist_uscounties_deaths = pd.read_csv('https://raw.githubusercontent.com/CSSEGISandData/COVID-19/master/csse_covid_19_data/csse_covid_19_time_series/time_series_covid19_deaths_US.csv')\n",
    "jh_hist_uscounties_deaths.head(3)"
   ]
  },
  {
   "cell_type": "code",
   "execution_count": 15,
   "metadata": {},
   "outputs": [],
   "source": [
    "filename = os.path.join(os.getcwd(), 'Datasets/JH/orig/jh_hist_uscounties_deaths_orig.csv')\n",
    "jh_hist_uscounties_deaths.to_csv(filename, index=False)"
   ]
  },
  {
   "cell_type": "markdown",
   "metadata": {},
   "source": [
    "#### 1B: Wrangle the data into more usable format"
   ]
  },
  {
   "cell_type": "markdown",
   "metadata": {},
   "source": [
    "For the JH live global data, it will be useful to group / subtotal by Country, by US State, and by US County.  \n",
    "\n",
    "For the historic time series data, these need to be rearranged so that the date is in \n",
    "datetime format and pivoted so the date is the index of the DataFrame."
   ]
  },
  {
   "cell_type": "code",
   "execution_count": 16,
   "metadata": {},
   "outputs": [
    {
     "data": {
      "text/html": [
       "<div>\n",
       "<style scoped>\n",
       "    .dataframe tbody tr th:only-of-type {\n",
       "        vertical-align: middle;\n",
       "    }\n",
       "\n",
       "    .dataframe tbody tr th {\n",
       "        vertical-align: top;\n",
       "    }\n",
       "\n",
       "    .dataframe thead th {\n",
       "        text-align: right;\n",
       "    }\n",
       "</style>\n",
       "<table border=\"1\" class=\"dataframe\">\n",
       "  <thead>\n",
       "    <tr style=\"text-align: right;\">\n",
       "      <th></th>\n",
       "      <th>FIPS</th>\n",
       "      <th>Admin2</th>\n",
       "      <th>Province_State</th>\n",
       "      <th>Country_Region</th>\n",
       "      <th>Last_Update</th>\n",
       "      <th>Lat</th>\n",
       "      <th>Long_</th>\n",
       "      <th>Confirmed</th>\n",
       "      <th>Deaths</th>\n",
       "      <th>Recovered</th>\n",
       "      <th>Active</th>\n",
       "      <th>Combined_Key</th>\n",
       "      <th>Incident_Rate</th>\n",
       "      <th>Case_Fatality_Ratio</th>\n",
       "    </tr>\n",
       "  </thead>\n",
       "  <tbody>\n",
       "    <tr>\n",
       "      <th>656</th>\n",
       "      <td>1001.0</td>\n",
       "      <td>Autauga</td>\n",
       "      <td>Alabama</td>\n",
       "      <td>US</td>\n",
       "      <td>2021-07-08 04:21:26</td>\n",
       "      <td>32.539527</td>\n",
       "      <td>-86.644082</td>\n",
       "      <td>7277</td>\n",
       "      <td>113</td>\n",
       "      <td>NaN</td>\n",
       "      <td>NaN</td>\n",
       "      <td>Autauga, Alabama, US</td>\n",
       "      <td>13025.112316</td>\n",
       "      <td>1.552838</td>\n",
       "    </tr>\n",
       "    <tr>\n",
       "      <th>693</th>\n",
       "      <td>1075.0</td>\n",
       "      <td>Lamar</td>\n",
       "      <td>Alabama</td>\n",
       "      <td>US</td>\n",
       "      <td>2021-07-08 04:21:26</td>\n",
       "      <td>33.779950</td>\n",
       "      <td>-88.096680</td>\n",
       "      <td>1478</td>\n",
       "      <td>38</td>\n",
       "      <td>NaN</td>\n",
       "      <td>NaN</td>\n",
       "      <td>Lamar, Alabama, US</td>\n",
       "      <td>10706.265846</td>\n",
       "      <td>2.571042</td>\n",
       "    </tr>\n",
       "    <tr>\n",
       "      <th>694</th>\n",
       "      <td>1077.0</td>\n",
       "      <td>Lauderdale</td>\n",
       "      <td>Alabama</td>\n",
       "      <td>US</td>\n",
       "      <td>2021-07-08 04:21:26</td>\n",
       "      <td>34.901719</td>\n",
       "      <td>-87.656247</td>\n",
       "      <td>9674</td>\n",
       "      <td>252</td>\n",
       "      <td>NaN</td>\n",
       "      <td>NaN</td>\n",
       "      <td>Lauderdale, Alabama, US</td>\n",
       "      <td>10432.550766</td>\n",
       "      <td>2.604920</td>\n",
       "    </tr>\n",
       "  </tbody>\n",
       "</table>\n",
       "</div>"
      ],
      "text/plain": [
       "       FIPS      Admin2 Province_State Country_Region          Last_Update  \\\n",
       "656  1001.0     Autauga        Alabama             US  2021-07-08 04:21:26   \n",
       "693  1075.0       Lamar        Alabama             US  2021-07-08 04:21:26   \n",
       "694  1077.0  Lauderdale        Alabama             US  2021-07-08 04:21:26   \n",
       "\n",
       "           Lat      Long_  Confirmed  Deaths  Recovered  Active  \\\n",
       "656  32.539527 -86.644082       7277     113        NaN     NaN   \n",
       "693  33.779950 -88.096680       1478      38        NaN     NaN   \n",
       "694  34.901719 -87.656247       9674     252        NaN     NaN   \n",
       "\n",
       "                Combined_Key  Incident_Rate  Case_Fatality_Ratio  \n",
       "656     Autauga, Alabama, US   13025.112316             1.552838  \n",
       "693       Lamar, Alabama, US   10706.265846             2.571042  \n",
       "694  Lauderdale, Alabama, US   10432.550766             2.604920  "
      ]
     },
     "execution_count": 16,
     "metadata": {},
     "output_type": "execute_result"
    }
   ],
   "source": [
    "jh_live_global[jh_live_global['Country_Region']=='US'].sort_values('Province_State').head(3)"
   ]
  },
  {
   "cell_type": "markdown",
   "metadata": {},
   "source": [
    "##### 1B-1: Pivot Table on the JH live global data, grouped / subtotalled by **Country**"
   ]
  },
  {
   "cell_type": "code",
   "execution_count": 17,
   "metadata": {},
   "outputs": [],
   "source": [
    "jh_live_countries = pd.pivot_table(jh_live_global, index=['Country_Region'], \n",
    "                                   values=['Confirmed', 'Deaths', 'Recovered'], aggfunc=np.sum)"
   ]
  },
  {
   "cell_type": "code",
   "execution_count": 18,
   "metadata": {},
   "outputs": [
    {
     "data": {
      "text/html": [
       "<div>\n",
       "<style scoped>\n",
       "    .dataframe tbody tr th:only-of-type {\n",
       "        vertical-align: middle;\n",
       "    }\n",
       "\n",
       "    .dataframe tbody tr th {\n",
       "        vertical-align: top;\n",
       "    }\n",
       "\n",
       "    .dataframe thead th {\n",
       "        text-align: right;\n",
       "    }\n",
       "</style>\n",
       "<table border=\"1\" class=\"dataframe\">\n",
       "  <thead>\n",
       "    <tr style=\"text-align: right;\">\n",
       "      <th></th>\n",
       "      <th>Confirmed</th>\n",
       "      <th>Deaths</th>\n",
       "      <th>Recovered</th>\n",
       "    </tr>\n",
       "    <tr>\n",
       "      <th>Country_Region</th>\n",
       "      <th></th>\n",
       "      <th></th>\n",
       "      <th></th>\n",
       "    </tr>\n",
       "  </thead>\n",
       "  <tbody>\n",
       "    <tr>\n",
       "      <th>US</th>\n",
       "      <td>33770444</td>\n",
       "      <td>606218</td>\n",
       "      <td>0.0</td>\n",
       "    </tr>\n",
       "    <tr>\n",
       "      <th>India</th>\n",
       "      <td>30663665</td>\n",
       "      <td>404211</td>\n",
       "      <td>29799534.0</td>\n",
       "    </tr>\n",
       "    <tr>\n",
       "      <th>Brazil</th>\n",
       "      <td>18909037</td>\n",
       "      <td>528540</td>\n",
       "      <td>16763522.0</td>\n",
       "    </tr>\n",
       "  </tbody>\n",
       "</table>\n",
       "</div>"
      ],
      "text/plain": [
       "                Confirmed  Deaths   Recovered\n",
       "Country_Region                               \n",
       "US               33770444  606218         0.0\n",
       "India            30663665  404211  29799534.0\n",
       "Brazil           18909037  528540  16763522.0"
      ]
     },
     "execution_count": 18,
     "metadata": {},
     "output_type": "execute_result"
    }
   ],
   "source": [
    "jh_live_countries.sort_values('Confirmed', ascending=False).head(3)"
   ]
  },
  {
   "cell_type": "code",
   "execution_count": 19,
   "metadata": {},
   "outputs": [],
   "source": [
    "jh_live_countries['Active'] = jh_live_countries['Confirmed'] - jh_live_countries['Deaths'] - jh_live_countries['Recovered']"
   ]
  },
  {
   "cell_type": "code",
   "execution_count": 20,
   "metadata": {},
   "outputs": [],
   "source": [
    "jh_live_countries['Last_Update'] = pd.pivot_table(jh_live_global, index=['Country_Region'], \n",
    "                                   values=['Last_Update'], aggfunc=np.max)\n",
    "jh_live_countries['Lat'] = pd.pivot_table(jh_live_global, index=['Country_Region'], \n",
    "                                   values=['Lat'], aggfunc=np.mean)\n",
    "jh_live_countries['Long'] = pd.pivot_table(jh_live_global, index=['Country_Region'], \n",
    "                                   values=['Long_'], aggfunc=np.mean)"
   ]
  },
  {
   "cell_type": "code",
   "execution_count": 21,
   "metadata": {},
   "outputs": [
    {
     "data": {
      "text/html": [
       "<div>\n",
       "<style scoped>\n",
       "    .dataframe tbody tr th:only-of-type {\n",
       "        vertical-align: middle;\n",
       "    }\n",
       "\n",
       "    .dataframe tbody tr th {\n",
       "        vertical-align: top;\n",
       "    }\n",
       "\n",
       "    .dataframe thead th {\n",
       "        text-align: right;\n",
       "    }\n",
       "</style>\n",
       "<table border=\"1\" class=\"dataframe\">\n",
       "  <thead>\n",
       "    <tr style=\"text-align: right;\">\n",
       "      <th></th>\n",
       "      <th>Confirmed</th>\n",
       "      <th>Deaths</th>\n",
       "      <th>Recovered</th>\n",
       "      <th>Active</th>\n",
       "      <th>Last_Update</th>\n",
       "      <th>Lat</th>\n",
       "      <th>Long</th>\n",
       "    </tr>\n",
       "    <tr>\n",
       "      <th>Country_Region</th>\n",
       "      <th></th>\n",
       "      <th></th>\n",
       "      <th></th>\n",
       "      <th></th>\n",
       "      <th></th>\n",
       "      <th></th>\n",
       "      <th></th>\n",
       "    </tr>\n",
       "  </thead>\n",
       "  <tbody>\n",
       "    <tr>\n",
       "      <th>US</th>\n",
       "      <td>33770444</td>\n",
       "      <td>606218</td>\n",
       "      <td>0.0</td>\n",
       "      <td>33164226.0</td>\n",
       "      <td>2021-07-08 04:21:26</td>\n",
       "      <td>37.950547</td>\n",
       "      <td>-91.419547</td>\n",
       "    </tr>\n",
       "    <tr>\n",
       "      <th>India</th>\n",
       "      <td>30663665</td>\n",
       "      <td>404211</td>\n",
       "      <td>29799534.0</td>\n",
       "      <td>459920.0</td>\n",
       "      <td>2021-07-08 04:21:26</td>\n",
       "      <td>23.088275</td>\n",
       "      <td>81.806127</td>\n",
       "    </tr>\n",
       "    <tr>\n",
       "      <th>Brazil</th>\n",
       "      <td>18909037</td>\n",
       "      <td>528540</td>\n",
       "      <td>16763522.0</td>\n",
       "      <td>1616975.0</td>\n",
       "      <td>2021-07-08 04:21:26</td>\n",
       "      <td>-12.669522</td>\n",
       "      <td>-48.480493</td>\n",
       "    </tr>\n",
       "    <tr>\n",
       "      <th>France</th>\n",
       "      <td>5856682</td>\n",
       "      <td>111448</td>\n",
       "      <td>406740.0</td>\n",
       "      <td>5338494.0</td>\n",
       "      <td>2021-07-08 04:21:26</td>\n",
       "      <td>6.430808</td>\n",
       "      <td>-34.730285</td>\n",
       "    </tr>\n",
       "    <tr>\n",
       "      <th>Russia</th>\n",
       "      <td>5614540</td>\n",
       "      <td>137718</td>\n",
       "      <td>5062325.0</td>\n",
       "      <td>414497.0</td>\n",
       "      <td>2021-07-08 04:21:26</td>\n",
       "      <td>54.546312</td>\n",
       "      <td>62.120860</td>\n",
       "    </tr>\n",
       "  </tbody>\n",
       "</table>\n",
       "</div>"
      ],
      "text/plain": [
       "                Confirmed  Deaths   Recovered      Active  \\\n",
       "Country_Region                                              \n",
       "US               33770444  606218         0.0  33164226.0   \n",
       "India            30663665  404211  29799534.0    459920.0   \n",
       "Brazil           18909037  528540  16763522.0   1616975.0   \n",
       "France            5856682  111448    406740.0   5338494.0   \n",
       "Russia            5614540  137718   5062325.0    414497.0   \n",
       "\n",
       "                        Last_Update        Lat       Long  \n",
       "Country_Region                                             \n",
       "US              2021-07-08 04:21:26  37.950547 -91.419547  \n",
       "India           2021-07-08 04:21:26  23.088275  81.806127  \n",
       "Brazil          2021-07-08 04:21:26 -12.669522 -48.480493  \n",
       "France          2021-07-08 04:21:26   6.430808 -34.730285  \n",
       "Russia          2021-07-08 04:21:26  54.546312  62.120860  "
      ]
     },
     "execution_count": 21,
     "metadata": {},
     "output_type": "execute_result"
    }
   ],
   "source": [
    "jh_live_countries.sort_values('Confirmed', ascending=False).head(5)"
   ]
  },
  {
   "cell_type": "markdown",
   "metadata": {},
   "source": [
    "##### 1B-2: Pivot Table on the JH live global data, grouped / subtotalled by **US State**"
   ]
  },
  {
   "cell_type": "code",
   "execution_count": 22,
   "metadata": {},
   "outputs": [],
   "source": [
    "jh_live_usstates = pd.pivot_table(jh_live_global[jh_live_global['Country_Region']=='US'], \n",
    "                                    index=['Province_State'], values=['Confirmed', 'Deaths', 'Recovered'], \n",
    "                                    aggfunc=np.sum)"
   ]
  },
  {
   "cell_type": "code",
   "execution_count": 23,
   "metadata": {},
   "outputs": [
    {
     "data": {
      "text/html": [
       "<div>\n",
       "<style scoped>\n",
       "    .dataframe tbody tr th:only-of-type {\n",
       "        vertical-align: middle;\n",
       "    }\n",
       "\n",
       "    .dataframe tbody tr th {\n",
       "        vertical-align: top;\n",
       "    }\n",
       "\n",
       "    .dataframe thead th {\n",
       "        text-align: right;\n",
       "    }\n",
       "</style>\n",
       "<table border=\"1\" class=\"dataframe\">\n",
       "  <thead>\n",
       "    <tr style=\"text-align: right;\">\n",
       "      <th></th>\n",
       "      <th>Confirmed</th>\n",
       "      <th>Deaths</th>\n",
       "      <th>Recovered</th>\n",
       "    </tr>\n",
       "    <tr>\n",
       "      <th>Province_State</th>\n",
       "      <th></th>\n",
       "      <th></th>\n",
       "      <th></th>\n",
       "    </tr>\n",
       "  </thead>\n",
       "  <tbody>\n",
       "    <tr>\n",
       "      <th>California</th>\n",
       "      <td>3826508</td>\n",
       "      <td>63747</td>\n",
       "      <td>0.0</td>\n",
       "    </tr>\n",
       "    <tr>\n",
       "      <th>Texas</th>\n",
       "      <td>3010929</td>\n",
       "      <td>52531</td>\n",
       "      <td>0.0</td>\n",
       "    </tr>\n",
       "    <tr>\n",
       "      <th>Florida</th>\n",
       "      <td>2381148</td>\n",
       "      <td>37985</td>\n",
       "      <td>0.0</td>\n",
       "    </tr>\n",
       "  </tbody>\n",
       "</table>\n",
       "</div>"
      ],
      "text/plain": [
       "                Confirmed  Deaths  Recovered\n",
       "Province_State                              \n",
       "California        3826508   63747        0.0\n",
       "Texas             3010929   52531        0.0\n",
       "Florida           2381148   37985        0.0"
      ]
     },
     "execution_count": 23,
     "metadata": {},
     "output_type": "execute_result"
    }
   ],
   "source": [
    "jh_live_usstates.sort_values('Confirmed', ascending=False).head(3)"
   ]
  },
  {
   "cell_type": "code",
   "execution_count": 24,
   "metadata": {},
   "outputs": [],
   "source": [
    "jh_live_usstates['Active'] = jh_live_usstates['Confirmed'] - jh_live_usstates['Deaths'] - jh_live_usstates['Recovered']"
   ]
  },
  {
   "cell_type": "code",
   "execution_count": 25,
   "metadata": {},
   "outputs": [],
   "source": [
    "jh_live_usstates['Last_Update'] = pd.pivot_table(jh_live_global[jh_live_global['Country_Region']=='US'], \n",
    "                                    index=['Province_State'], values=['Last_Update'], \n",
    "                                    aggfunc=np.max)\n",
    "jh_live_usstates['Lat'] = pd.pivot_table(jh_live_global[jh_live_global['Country_Region']=='US'], \n",
    "                                    index=['Province_State'], values=['Lat'], \n",
    "                                    aggfunc=np.mean)\n",
    "jh_live_usstates['Long'] = pd.pivot_table(jh_live_global[jh_live_global['Country_Region']=='US'], \n",
    "                                    index=['Province_State'], values=['Long_'], \n",
    "                                    aggfunc=np.mean)"
   ]
  },
  {
   "cell_type": "code",
   "execution_count": 26,
   "metadata": {},
   "outputs": [
    {
     "data": {
      "text/html": [
       "<div>\n",
       "<style scoped>\n",
       "    .dataframe tbody tr th:only-of-type {\n",
       "        vertical-align: middle;\n",
       "    }\n",
       "\n",
       "    .dataframe tbody tr th {\n",
       "        vertical-align: top;\n",
       "    }\n",
       "\n",
       "    .dataframe thead th {\n",
       "        text-align: right;\n",
       "    }\n",
       "</style>\n",
       "<table border=\"1\" class=\"dataframe\">\n",
       "  <thead>\n",
       "    <tr style=\"text-align: right;\">\n",
       "      <th></th>\n",
       "      <th>Confirmed</th>\n",
       "      <th>Deaths</th>\n",
       "      <th>Recovered</th>\n",
       "      <th>Active</th>\n",
       "      <th>Last_Update</th>\n",
       "      <th>Lat</th>\n",
       "      <th>Long</th>\n",
       "    </tr>\n",
       "    <tr>\n",
       "      <th>Province_State</th>\n",
       "      <th></th>\n",
       "      <th></th>\n",
       "      <th></th>\n",
       "      <th></th>\n",
       "      <th></th>\n",
       "      <th></th>\n",
       "      <th></th>\n",
       "    </tr>\n",
       "  </thead>\n",
       "  <tbody>\n",
       "    <tr>\n",
       "      <th>California</th>\n",
       "      <td>3826508</td>\n",
       "      <td>63747</td>\n",
       "      <td>0.0</td>\n",
       "      <td>3762761.0</td>\n",
       "      <td>2021-07-08 04:21:26</td>\n",
       "      <td>37.843962</td>\n",
       "      <td>-120.728594</td>\n",
       "    </tr>\n",
       "    <tr>\n",
       "      <th>Texas</th>\n",
       "      <td>3010929</td>\n",
       "      <td>52531</td>\n",
       "      <td>0.0</td>\n",
       "      <td>2958398.0</td>\n",
       "      <td>2021-07-08 04:21:26</td>\n",
       "      <td>31.660643</td>\n",
       "      <td>-98.653069</td>\n",
       "    </tr>\n",
       "    <tr>\n",
       "      <th>Florida</th>\n",
       "      <td>2381148</td>\n",
       "      <td>37985</td>\n",
       "      <td>0.0</td>\n",
       "      <td>2343163.0</td>\n",
       "      <td>2021-07-08 04:21:26</td>\n",
       "      <td>28.940755</td>\n",
       "      <td>-82.700744</td>\n",
       "    </tr>\n",
       "    <tr>\n",
       "      <th>New York</th>\n",
       "      <td>2117549</td>\n",
       "      <td>53717</td>\n",
       "      <td>0.0</td>\n",
       "      <td>2063832.0</td>\n",
       "      <td>2021-07-08 04:21:26</td>\n",
       "      <td>42.544151</td>\n",
       "      <td>-75.474183</td>\n",
       "    </tr>\n",
       "    <tr>\n",
       "      <th>Illinois</th>\n",
       "      <td>1394235</td>\n",
       "      <td>25711</td>\n",
       "      <td>0.0</td>\n",
       "      <td>1368524.0</td>\n",
       "      <td>2021-07-08 04:21:26</td>\n",
       "      <td>39.843618</td>\n",
       "      <td>-89.178330</td>\n",
       "    </tr>\n",
       "  </tbody>\n",
       "</table>\n",
       "</div>"
      ],
      "text/plain": [
       "                Confirmed  Deaths  Recovered     Active          Last_Update  \\\n",
       "Province_State                                                                 \n",
       "California        3826508   63747        0.0  3762761.0  2021-07-08 04:21:26   \n",
       "Texas             3010929   52531        0.0  2958398.0  2021-07-08 04:21:26   \n",
       "Florida           2381148   37985        0.0  2343163.0  2021-07-08 04:21:26   \n",
       "New York          2117549   53717        0.0  2063832.0  2021-07-08 04:21:26   \n",
       "Illinois          1394235   25711        0.0  1368524.0  2021-07-08 04:21:26   \n",
       "\n",
       "                      Lat        Long  \n",
       "Province_State                         \n",
       "California      37.843962 -120.728594  \n",
       "Texas           31.660643  -98.653069  \n",
       "Florida         28.940755  -82.700744  \n",
       "New York        42.544151  -75.474183  \n",
       "Illinois        39.843618  -89.178330  "
      ]
     },
     "execution_count": 26,
     "metadata": {},
     "output_type": "execute_result"
    }
   ],
   "source": [
    "jh_live_usstates.sort_values('Confirmed', ascending=False).head(5)"
   ]
  },
  {
   "cell_type": "markdown",
   "metadata": {},
   "source": [
    "##### 1B-3: Pivot Table on the JH live global data, grouped / subtotalled by **US County**"
   ]
  },
  {
   "cell_type": "code",
   "execution_count": 27,
   "metadata": {},
   "outputs": [],
   "source": [
    "jh_live_uscounties = pd.pivot_table(jh_live_global[jh_live_global['Country_Region']=='US'], \n",
    "                                    index=['Province_State', 'Admin2'], values=['Confirmed', 'Deaths', 'Recovered'], \n",
    "                                    aggfunc=np.sum)"
   ]
  },
  {
   "cell_type": "code",
   "execution_count": 28,
   "metadata": {},
   "outputs": [
    {
     "data": {
      "text/html": [
       "<div>\n",
       "<style scoped>\n",
       "    .dataframe tbody tr th:only-of-type {\n",
       "        vertical-align: middle;\n",
       "    }\n",
       "\n",
       "    .dataframe tbody tr th {\n",
       "        vertical-align: top;\n",
       "    }\n",
       "\n",
       "    .dataframe thead th {\n",
       "        text-align: right;\n",
       "    }\n",
       "</style>\n",
       "<table border=\"1\" class=\"dataframe\">\n",
       "  <thead>\n",
       "    <tr style=\"text-align: right;\">\n",
       "      <th></th>\n",
       "      <th></th>\n",
       "      <th>Confirmed</th>\n",
       "      <th>Deaths</th>\n",
       "      <th>Recovered</th>\n",
       "    </tr>\n",
       "    <tr>\n",
       "      <th>Province_State</th>\n",
       "      <th>Admin2</th>\n",
       "      <th></th>\n",
       "      <th></th>\n",
       "      <th></th>\n",
       "    </tr>\n",
       "  </thead>\n",
       "  <tbody>\n",
       "    <tr>\n",
       "      <th>California</th>\n",
       "      <th>Los Angeles</th>\n",
       "      <td>1253536</td>\n",
       "      <td>24525</td>\n",
       "      <td>0.0</td>\n",
       "    </tr>\n",
       "    <tr>\n",
       "      <th>Arizona</th>\n",
       "      <th>Maricopa</th>\n",
       "      <td>562492</td>\n",
       "      <td>10321</td>\n",
       "      <td>0.0</td>\n",
       "    </tr>\n",
       "    <tr>\n",
       "      <th>Illinois</th>\n",
       "      <th>Cook</th>\n",
       "      <td>557590</td>\n",
       "      <td>10515</td>\n",
       "      <td>0.0</td>\n",
       "    </tr>\n",
       "    <tr>\n",
       "      <th>Florida</th>\n",
       "      <th>Miami-Dade</th>\n",
       "      <td>511394</td>\n",
       "      <td>6472</td>\n",
       "      <td>0.0</td>\n",
       "    </tr>\n",
       "    <tr>\n",
       "      <th>Texas</th>\n",
       "      <th>Harris</th>\n",
       "      <td>404402</td>\n",
       "      <td>6610</td>\n",
       "      <td>0.0</td>\n",
       "    </tr>\n",
       "  </tbody>\n",
       "</table>\n",
       "</div>"
      ],
      "text/plain": [
       "                            Confirmed  Deaths  Recovered\n",
       "Province_State Admin2                                   \n",
       "California     Los Angeles    1253536   24525        0.0\n",
       "Arizona        Maricopa        562492   10321        0.0\n",
       "Illinois       Cook            557590   10515        0.0\n",
       "Florida        Miami-Dade      511394    6472        0.0\n",
       "Texas          Harris          404402    6610        0.0"
      ]
     },
     "execution_count": 28,
     "metadata": {},
     "output_type": "execute_result"
    }
   ],
   "source": [
    "jh_live_uscounties.sort_values('Confirmed', ascending=False).head(5)"
   ]
  },
  {
   "cell_type": "code",
   "execution_count": 29,
   "metadata": {},
   "outputs": [],
   "source": [
    "jh_live_uscounties['Active'] = jh_live_uscounties['Confirmed'] - jh_live_uscounties['Deaths'] - jh_live_uscounties['Recovered']\n"
   ]
  },
  {
   "cell_type": "code",
   "execution_count": 30,
   "metadata": {},
   "outputs": [],
   "source": [
    "jh_live_uscounties['Last_Update'] = pd.pivot_table(jh_live_global[jh_live_global['Country_Region']=='US'], \n",
    "                                    index=['Province_State', 'Admin2'], values=['Last_Update'], \n",
    "                                    aggfunc=np.max)\n",
    "jh_live_uscounties['Lat'] = pd.pivot_table(jh_live_global[jh_live_global['Country_Region']=='US'], \n",
    "                                    index=['Province_State', 'Admin2'], values=['Lat'], \n",
    "                                    aggfunc=np.mean)\n",
    "jh_live_uscounties['Long'] = pd.pivot_table(jh_live_global[jh_live_global['Country_Region']=='US'], \n",
    "                                    index=['Province_State', 'Admin2'], values=['Long_'], \n",
    "                                    aggfunc=np.mean)\n",
    "jh_live_uscounties['FIPS'] = pd.pivot_table(jh_live_global[jh_live_global['Country_Region']=='US'], \n",
    "                                    index=['Province_State', 'Admin2'], values=['FIPS'], \n",
    "                                    aggfunc=np.max)"
   ]
  },
  {
   "cell_type": "code",
   "execution_count": 31,
   "metadata": {},
   "outputs": [
    {
     "data": {
      "text/html": [
       "<div>\n",
       "<style scoped>\n",
       "    .dataframe tbody tr th:only-of-type {\n",
       "        vertical-align: middle;\n",
       "    }\n",
       "\n",
       "    .dataframe tbody tr th {\n",
       "        vertical-align: top;\n",
       "    }\n",
       "\n",
       "    .dataframe thead th {\n",
       "        text-align: right;\n",
       "    }\n",
       "</style>\n",
       "<table border=\"1\" class=\"dataframe\">\n",
       "  <thead>\n",
       "    <tr style=\"text-align: right;\">\n",
       "      <th></th>\n",
       "      <th></th>\n",
       "      <th>Confirmed</th>\n",
       "      <th>Deaths</th>\n",
       "      <th>Recovered</th>\n",
       "      <th>Active</th>\n",
       "      <th>Last_Update</th>\n",
       "      <th>Lat</th>\n",
       "      <th>Long</th>\n",
       "      <th>FIPS</th>\n",
       "    </tr>\n",
       "    <tr>\n",
       "      <th>Province_State</th>\n",
       "      <th>Admin2</th>\n",
       "      <th></th>\n",
       "      <th></th>\n",
       "      <th></th>\n",
       "      <th></th>\n",
       "      <th></th>\n",
       "      <th></th>\n",
       "      <th></th>\n",
       "      <th></th>\n",
       "    </tr>\n",
       "  </thead>\n",
       "  <tbody>\n",
       "    <tr>\n",
       "      <th>California</th>\n",
       "      <th>Los Angeles</th>\n",
       "      <td>1253536</td>\n",
       "      <td>24525</td>\n",
       "      <td>0.0</td>\n",
       "      <td>1229011.0</td>\n",
       "      <td>2021-07-08 04:21:26</td>\n",
       "      <td>34.308284</td>\n",
       "      <td>-118.228241</td>\n",
       "      <td>6037.0</td>\n",
       "    </tr>\n",
       "    <tr>\n",
       "      <th>Arizona</th>\n",
       "      <th>Maricopa</th>\n",
       "      <td>562492</td>\n",
       "      <td>10321</td>\n",
       "      <td>0.0</td>\n",
       "      <td>552171.0</td>\n",
       "      <td>2021-07-08 04:21:26</td>\n",
       "      <td>33.348359</td>\n",
       "      <td>-112.491815</td>\n",
       "      <td>4013.0</td>\n",
       "    </tr>\n",
       "    <tr>\n",
       "      <th>Illinois</th>\n",
       "      <th>Cook</th>\n",
       "      <td>557590</td>\n",
       "      <td>10515</td>\n",
       "      <td>0.0</td>\n",
       "      <td>547075.0</td>\n",
       "      <td>2021-07-08 04:21:26</td>\n",
       "      <td>41.841448</td>\n",
       "      <td>-87.816588</td>\n",
       "      <td>17031.0</td>\n",
       "    </tr>\n",
       "    <tr>\n",
       "      <th>Florida</th>\n",
       "      <th>Miami-Dade</th>\n",
       "      <td>511394</td>\n",
       "      <td>6472</td>\n",
       "      <td>0.0</td>\n",
       "      <td>504922.0</td>\n",
       "      <td>2021-07-08 04:21:26</td>\n",
       "      <td>25.611236</td>\n",
       "      <td>-80.551706</td>\n",
       "      <td>12086.0</td>\n",
       "    </tr>\n",
       "    <tr>\n",
       "      <th>Texas</th>\n",
       "      <th>Harris</th>\n",
       "      <td>404402</td>\n",
       "      <td>6610</td>\n",
       "      <td>0.0</td>\n",
       "      <td>397792.0</td>\n",
       "      <td>2021-07-08 04:21:26</td>\n",
       "      <td>29.858649</td>\n",
       "      <td>-95.393395</td>\n",
       "      <td>48201.0</td>\n",
       "    </tr>\n",
       "  </tbody>\n",
       "</table>\n",
       "</div>"
      ],
      "text/plain": [
       "                            Confirmed  Deaths  Recovered     Active  \\\n",
       "Province_State Admin2                                                 \n",
       "California     Los Angeles    1253536   24525        0.0  1229011.0   \n",
       "Arizona        Maricopa        562492   10321        0.0   552171.0   \n",
       "Illinois       Cook            557590   10515        0.0   547075.0   \n",
       "Florida        Miami-Dade      511394    6472        0.0   504922.0   \n",
       "Texas          Harris          404402    6610        0.0   397792.0   \n",
       "\n",
       "                                    Last_Update        Lat        Long  \\\n",
       "Province_State Admin2                                                    \n",
       "California     Los Angeles  2021-07-08 04:21:26  34.308284 -118.228241   \n",
       "Arizona        Maricopa     2021-07-08 04:21:26  33.348359 -112.491815   \n",
       "Illinois       Cook         2021-07-08 04:21:26  41.841448  -87.816588   \n",
       "Florida        Miami-Dade   2021-07-08 04:21:26  25.611236  -80.551706   \n",
       "Texas          Harris       2021-07-08 04:21:26  29.858649  -95.393395   \n",
       "\n",
       "                               FIPS  \n",
       "Province_State Admin2                \n",
       "California     Los Angeles   6037.0  \n",
       "Arizona        Maricopa      4013.0  \n",
       "Illinois       Cook         17031.0  \n",
       "Florida        Miami-Dade   12086.0  \n",
       "Texas          Harris       48201.0  "
      ]
     },
     "execution_count": 31,
     "metadata": {},
     "output_type": "execute_result"
    }
   ],
   "source": [
    "jh_live_uscounties.sort_values('Confirmed', ascending=False).head(5)"
   ]
  },
  {
   "cell_type": "markdown",
   "metadata": {},
   "source": [
    "##### 1B-4: Pivot Table on the JH historic **confirmed cases**, grouped / subtotalled by **Country**"
   ]
  },
  {
   "cell_type": "code",
   "execution_count": 32,
   "metadata": {},
   "outputs": [],
   "source": [
    "# First, isolate the date columns of the JH historic time series data to be used in the following 3 Pivot Tables\n",
    "date_columns = jh_hist_global_cases.iloc[:, 4:].columns"
   ]
  },
  {
   "cell_type": "code",
   "execution_count": 33,
   "metadata": {},
   "outputs": [],
   "source": [
    "jh_hist_countries_cases = pd.pivot_table(jh_hist_global_cases, index=['Country/Region'], \n",
    "                                            values=date_columns, aggfunc=np.sum)\n",
    "jh_hist_countries_cases = jh_hist_countries_cases.transpose()\n",
    "jh_hist_countries_cases.index = pd.to_datetime(jh_hist_countries_cases.index)\n",
    "jh_hist_countries_cases = jh_hist_countries_cases.sort_index()"
   ]
  },
  {
   "cell_type": "code",
   "execution_count": 34,
   "metadata": {},
   "outputs": [
    {
     "data": {
      "text/html": [
       "<div>\n",
       "<style scoped>\n",
       "    .dataframe tbody tr th:only-of-type {\n",
       "        vertical-align: middle;\n",
       "    }\n",
       "\n",
       "    .dataframe tbody tr th {\n",
       "        vertical-align: top;\n",
       "    }\n",
       "\n",
       "    .dataframe thead th {\n",
       "        text-align: right;\n",
       "    }\n",
       "</style>\n",
       "<table border=\"1\" class=\"dataframe\">\n",
       "  <thead>\n",
       "    <tr style=\"text-align: right;\">\n",
       "      <th>Country/Region</th>\n",
       "      <th>Afghanistan</th>\n",
       "      <th>Albania</th>\n",
       "      <th>Algeria</th>\n",
       "      <th>Andorra</th>\n",
       "      <th>Angola</th>\n",
       "      <th>Antigua and Barbuda</th>\n",
       "      <th>Argentina</th>\n",
       "      <th>Armenia</th>\n",
       "      <th>Australia</th>\n",
       "      <th>Austria</th>\n",
       "      <th>...</th>\n",
       "      <th>United Kingdom</th>\n",
       "      <th>Uruguay</th>\n",
       "      <th>Uzbekistan</th>\n",
       "      <th>Vanuatu</th>\n",
       "      <th>Venezuela</th>\n",
       "      <th>Vietnam</th>\n",
       "      <th>West Bank and Gaza</th>\n",
       "      <th>Yemen</th>\n",
       "      <th>Zambia</th>\n",
       "      <th>Zimbabwe</th>\n",
       "    </tr>\n",
       "  </thead>\n",
       "  <tbody>\n",
       "    <tr>\n",
       "      <th>2021-07-05</th>\n",
       "      <td>125937</td>\n",
       "      <td>132537</td>\n",
       "      <td>141966</td>\n",
       "      <td>13918</td>\n",
       "      <td>39300</td>\n",
       "      <td>1264</td>\n",
       "      <td>4552750</td>\n",
       "      <td>225606</td>\n",
       "      <td>30831</td>\n",
       "      <td>650817</td>\n",
       "      <td>...</td>\n",
       "      <td>4947274</td>\n",
       "      <td>373286</td>\n",
       "      <td>113072</td>\n",
       "      <td>4</td>\n",
       "      <td>278665</td>\n",
       "      <td>21312</td>\n",
       "      <td>314569</td>\n",
       "      <td>6929</td>\n",
       "      <td>165513</td>\n",
       "      <td>56014</td>\n",
       "    </tr>\n",
       "    <tr>\n",
       "      <th>2021-07-06</th>\n",
       "      <td>127464</td>\n",
       "      <td>132544</td>\n",
       "      <td>142447</td>\n",
       "      <td>13991</td>\n",
       "      <td>39375</td>\n",
       "      <td>1265</td>\n",
       "      <td>4574340</td>\n",
       "      <td>225661</td>\n",
       "      <td>30861</td>\n",
       "      <td>650901</td>\n",
       "      <td>...</td>\n",
       "      <td>4975903</td>\n",
       "      <td>374019</td>\n",
       "      <td>113568</td>\n",
       "      <td>4</td>\n",
       "      <td>279813</td>\n",
       "      <td>22341</td>\n",
       "      <td>314780</td>\n",
       "      <td>6931</td>\n",
       "      <td>167132</td>\n",
       "      <td>57963</td>\n",
       "    </tr>\n",
       "    <tr>\n",
       "      <th>2021-07-07</th>\n",
       "      <td>129021</td>\n",
       "      <td>132557</td>\n",
       "      <td>143032</td>\n",
       "      <td>14021</td>\n",
       "      <td>39491</td>\n",
       "      <td>1265</td>\n",
       "      <td>4593763</td>\n",
       "      <td>225801</td>\n",
       "      <td>30903</td>\n",
       "      <td>651008</td>\n",
       "      <td>...</td>\n",
       "      <td>5007964</td>\n",
       "      <td>374665</td>\n",
       "      <td>114039</td>\n",
       "      <td>4</td>\n",
       "      <td>280980</td>\n",
       "      <td>23385</td>\n",
       "      <td>314869</td>\n",
       "      <td>6934</td>\n",
       "      <td>169003</td>\n",
       "      <td>60227</td>\n",
       "    </tr>\n",
       "  </tbody>\n",
       "</table>\n",
       "<p>3 rows × 195 columns</p>\n",
       "</div>"
      ],
      "text/plain": [
       "Country/Region  Afghanistan  Albania  Algeria  Andorra  Angola  \\\n",
       "2021-07-05           125937   132537   141966    13918   39300   \n",
       "2021-07-06           127464   132544   142447    13991   39375   \n",
       "2021-07-07           129021   132557   143032    14021   39491   \n",
       "\n",
       "Country/Region  Antigua and Barbuda  Argentina  Armenia  Australia  Austria  \\\n",
       "2021-07-05                     1264    4552750   225606      30831   650817   \n",
       "2021-07-06                     1265    4574340   225661      30861   650901   \n",
       "2021-07-07                     1265    4593763   225801      30903   651008   \n",
       "\n",
       "Country/Region  ...  United Kingdom  Uruguay  Uzbekistan  Vanuatu  Venezuela  \\\n",
       "2021-07-05      ...         4947274   373286      113072        4     278665   \n",
       "2021-07-06      ...         4975903   374019      113568        4     279813   \n",
       "2021-07-07      ...         5007964   374665      114039        4     280980   \n",
       "\n",
       "Country/Region  Vietnam  West Bank and Gaza  Yemen  Zambia  Zimbabwe  \n",
       "2021-07-05        21312              314569   6929  165513     56014  \n",
       "2021-07-06        22341              314780   6931  167132     57963  \n",
       "2021-07-07        23385              314869   6934  169003     60227  \n",
       "\n",
       "[3 rows x 195 columns]"
      ]
     },
     "execution_count": 34,
     "metadata": {},
     "output_type": "execute_result"
    }
   ],
   "source": [
    "jh_hist_countries_cases.tail(3)"
   ]
  },
  {
   "cell_type": "markdown",
   "metadata": {},
   "source": [
    "##### 1B-5: Pivot Table on the JH historic **deaths**, grouped / subtotalled by **Country**"
   ]
  },
  {
   "cell_type": "code",
   "execution_count": 35,
   "metadata": {},
   "outputs": [],
   "source": [
    "jh_hist_countries_deaths = pd.pivot_table(jh_hist_global_deaths, index=['Country/Region'], values=date_columns, aggfunc=np.sum)\n",
    "jh_hist_countries_deaths = jh_hist_countries_deaths.transpose()\n",
    "jh_hist_countries_deaths.index = pd.to_datetime(jh_hist_countries_deaths.index)\n",
    "jh_hist_countries_deaths = jh_hist_countries_deaths.sort_index()"
   ]
  },
  {
   "cell_type": "code",
   "execution_count": 36,
   "metadata": {},
   "outputs": [
    {
     "data": {
      "text/html": [
       "<div>\n",
       "<style scoped>\n",
       "    .dataframe tbody tr th:only-of-type {\n",
       "        vertical-align: middle;\n",
       "    }\n",
       "\n",
       "    .dataframe tbody tr th {\n",
       "        vertical-align: top;\n",
       "    }\n",
       "\n",
       "    .dataframe thead th {\n",
       "        text-align: right;\n",
       "    }\n",
       "</style>\n",
       "<table border=\"1\" class=\"dataframe\">\n",
       "  <thead>\n",
       "    <tr style=\"text-align: right;\">\n",
       "      <th>Country/Region</th>\n",
       "      <th>Afghanistan</th>\n",
       "      <th>Albania</th>\n",
       "      <th>Algeria</th>\n",
       "      <th>Andorra</th>\n",
       "      <th>Angola</th>\n",
       "      <th>Antigua and Barbuda</th>\n",
       "      <th>Argentina</th>\n",
       "      <th>Armenia</th>\n",
       "      <th>Australia</th>\n",
       "      <th>Austria</th>\n",
       "      <th>...</th>\n",
       "      <th>United Kingdom</th>\n",
       "      <th>Uruguay</th>\n",
       "      <th>Uzbekistan</th>\n",
       "      <th>Vanuatu</th>\n",
       "      <th>Venezuela</th>\n",
       "      <th>Vietnam</th>\n",
       "      <th>West Bank and Gaza</th>\n",
       "      <th>Yemen</th>\n",
       "      <th>Zambia</th>\n",
       "      <th>Zimbabwe</th>\n",
       "    </tr>\n",
       "  </thead>\n",
       "  <tbody>\n",
       "    <tr>\n",
       "      <th>2021-07-05</th>\n",
       "      <td>5283</td>\n",
       "      <td>2456</td>\n",
       "      <td>3765</td>\n",
       "      <td>127</td>\n",
       "      <td>915</td>\n",
       "      <td>42</td>\n",
       "      <td>96521</td>\n",
       "      <td>4527</td>\n",
       "      <td>910</td>\n",
       "      <td>10713</td>\n",
       "      <td>...</td>\n",
       "      <td>128495</td>\n",
       "      <td>5711</td>\n",
       "      <td>751</td>\n",
       "      <td>1</td>\n",
       "      <td>3209</td>\n",
       "      <td>90</td>\n",
       "      <td>3573</td>\n",
       "      <td>1362</td>\n",
       "      <td>2492</td>\n",
       "      <td>1911</td>\n",
       "    </tr>\n",
       "    <tr>\n",
       "      <th>2021-07-06</th>\n",
       "      <td>5360</td>\n",
       "      <td>2456</td>\n",
       "      <td>3775</td>\n",
       "      <td>127</td>\n",
       "      <td>920</td>\n",
       "      <td>42</td>\n",
       "      <td>96983</td>\n",
       "      <td>4530</td>\n",
       "      <td>910</td>\n",
       "      <td>10718</td>\n",
       "      <td>...</td>\n",
       "      <td>128532</td>\n",
       "      <td>5735</td>\n",
       "      <td>754</td>\n",
       "      <td>1</td>\n",
       "      <td>3222</td>\n",
       "      <td>97</td>\n",
       "      <td>3576</td>\n",
       "      <td>1363</td>\n",
       "      <td>2559</td>\n",
       "      <td>1939</td>\n",
       "    </tr>\n",
       "    <tr>\n",
       "      <th>2021-07-07</th>\n",
       "      <td>5415</td>\n",
       "      <td>2456</td>\n",
       "      <td>3786</td>\n",
       "      <td>127</td>\n",
       "      <td>925</td>\n",
       "      <td>42</td>\n",
       "      <td>97439</td>\n",
       "      <td>4531</td>\n",
       "      <td>910</td>\n",
       "      <td>10719</td>\n",
       "      <td>...</td>\n",
       "      <td>128565</td>\n",
       "      <td>5758</td>\n",
       "      <td>758</td>\n",
       "      <td>1</td>\n",
       "      <td>3239</td>\n",
       "      <td>102</td>\n",
       "      <td>3577</td>\n",
       "      <td>1364</td>\n",
       "      <td>2618</td>\n",
       "      <td>1973</td>\n",
       "    </tr>\n",
       "  </tbody>\n",
       "</table>\n",
       "<p>3 rows × 195 columns</p>\n",
       "</div>"
      ],
      "text/plain": [
       "Country/Region  Afghanistan  Albania  Algeria  Andorra  Angola  \\\n",
       "2021-07-05             5283     2456     3765      127     915   \n",
       "2021-07-06             5360     2456     3775      127     920   \n",
       "2021-07-07             5415     2456     3786      127     925   \n",
       "\n",
       "Country/Region  Antigua and Barbuda  Argentina  Armenia  Australia  Austria  \\\n",
       "2021-07-05                       42      96521     4527        910    10713   \n",
       "2021-07-06                       42      96983     4530        910    10718   \n",
       "2021-07-07                       42      97439     4531        910    10719   \n",
       "\n",
       "Country/Region  ...  United Kingdom  Uruguay  Uzbekistan  Vanuatu  Venezuela  \\\n",
       "2021-07-05      ...          128495     5711         751        1       3209   \n",
       "2021-07-06      ...          128532     5735         754        1       3222   \n",
       "2021-07-07      ...          128565     5758         758        1       3239   \n",
       "\n",
       "Country/Region  Vietnam  West Bank and Gaza  Yemen  Zambia  Zimbabwe  \n",
       "2021-07-05           90                3573   1362    2492      1911  \n",
       "2021-07-06           97                3576   1363    2559      1939  \n",
       "2021-07-07          102                3577   1364    2618      1973  \n",
       "\n",
       "[3 rows x 195 columns]"
      ]
     },
     "execution_count": 36,
     "metadata": {},
     "output_type": "execute_result"
    }
   ],
   "source": [
    "jh_hist_countries_deaths.tail(3)"
   ]
  },
  {
   "cell_type": "markdown",
   "metadata": {},
   "source": [
    "##### 1B-6: Pivot Table on the JH historic **recoveries**, grouped / subtotalled by **Country**"
   ]
  },
  {
   "cell_type": "code",
   "execution_count": 37,
   "metadata": {},
   "outputs": [],
   "source": [
    "jh_hist_countries_recovered = pd.pivot_table(jh_hist_global_recovered, index=['Country/Region'], values=date_columns, aggfunc=np.sum)\n",
    "jh_hist_countries_recovered = jh_hist_countries_recovered.transpose()\n",
    "jh_hist_countries_recovered.index = pd.to_datetime(jh_hist_countries_recovered.index)\n",
    "jh_hist_countries_recovered = jh_hist_countries_recovered.sort_index()"
   ]
  },
  {
   "cell_type": "code",
   "execution_count": 38,
   "metadata": {},
   "outputs": [
    {
     "data": {
      "text/html": [
       "<div>\n",
       "<style scoped>\n",
       "    .dataframe tbody tr th:only-of-type {\n",
       "        vertical-align: middle;\n",
       "    }\n",
       "\n",
       "    .dataframe tbody tr th {\n",
       "        vertical-align: top;\n",
       "    }\n",
       "\n",
       "    .dataframe thead th {\n",
       "        text-align: right;\n",
       "    }\n",
       "</style>\n",
       "<table border=\"1\" class=\"dataframe\">\n",
       "  <thead>\n",
       "    <tr style=\"text-align: right;\">\n",
       "      <th>Country/Region</th>\n",
       "      <th>Afghanistan</th>\n",
       "      <th>Albania</th>\n",
       "      <th>Algeria</th>\n",
       "      <th>Andorra</th>\n",
       "      <th>Angola</th>\n",
       "      <th>Antigua and Barbuda</th>\n",
       "      <th>Argentina</th>\n",
       "      <th>Armenia</th>\n",
       "      <th>Australia</th>\n",
       "      <th>Austria</th>\n",
       "      <th>...</th>\n",
       "      <th>United Kingdom</th>\n",
       "      <th>Uruguay</th>\n",
       "      <th>Uzbekistan</th>\n",
       "      <th>Vanuatu</th>\n",
       "      <th>Venezuela</th>\n",
       "      <th>Vietnam</th>\n",
       "      <th>West Bank and Gaza</th>\n",
       "      <th>Yemen</th>\n",
       "      <th>Zambia</th>\n",
       "      <th>Zimbabwe</th>\n",
       "    </tr>\n",
       "  </thead>\n",
       "  <tbody>\n",
       "    <tr>\n",
       "      <th>2021-07-05</th>\n",
       "      <td>75314</td>\n",
       "      <td>130029</td>\n",
       "      <td>98748</td>\n",
       "      <td>13721</td>\n",
       "      <td>33739</td>\n",
       "      <td>1222</td>\n",
       "      <td>4175856</td>\n",
       "      <td>217198</td>\n",
       "      <td>23843</td>\n",
       "      <td>638378</td>\n",
       "      <td>...</td>\n",
       "      <td>15777</td>\n",
       "      <td>356929</td>\n",
       "      <td>109068</td>\n",
       "      <td>3</td>\n",
       "      <td>260224</td>\n",
       "      <td>8022</td>\n",
       "      <td>308774</td>\n",
       "      <td>4108</td>\n",
       "      <td>145908</td>\n",
       "      <td>41406</td>\n",
       "    </tr>\n",
       "    <tr>\n",
       "      <th>2021-07-06</th>\n",
       "      <td>76218</td>\n",
       "      <td>130033</td>\n",
       "      <td>99101</td>\n",
       "      <td>13752</td>\n",
       "      <td>34019</td>\n",
       "      <td>1222</td>\n",
       "      <td>4192546</td>\n",
       "      <td>217250</td>\n",
       "      <td>23846</td>\n",
       "      <td>638456</td>\n",
       "      <td>...</td>\n",
       "      <td>15867</td>\n",
       "      <td>358305</td>\n",
       "      <td>109349</td>\n",
       "      <td>3</td>\n",
       "      <td>261411</td>\n",
       "      <td>8077</td>\n",
       "      <td>309059</td>\n",
       "      <td>4111</td>\n",
       "      <td>147751</td>\n",
       "      <td>41624</td>\n",
       "    </tr>\n",
       "    <tr>\n",
       "      <th>2021-07-07</th>\n",
       "      <td>77280</td>\n",
       "      <td>130035</td>\n",
       "      <td>99510</td>\n",
       "      <td>13757</td>\n",
       "      <td>34047</td>\n",
       "      <td>1222</td>\n",
       "      <td>4206478</td>\n",
       "      <td>217303</td>\n",
       "      <td>23848</td>\n",
       "      <td>638566</td>\n",
       "      <td>...</td>\n",
       "      <td>15870</td>\n",
       "      <td>359275</td>\n",
       "      <td>109676</td>\n",
       "      <td>3</td>\n",
       "      <td>262677</td>\n",
       "      <td>8557</td>\n",
       "      <td>309251</td>\n",
       "      <td>4117</td>\n",
       "      <td>149421</td>\n",
       "      <td>42330</td>\n",
       "    </tr>\n",
       "  </tbody>\n",
       "</table>\n",
       "<p>3 rows × 195 columns</p>\n",
       "</div>"
      ],
      "text/plain": [
       "Country/Region  Afghanistan  Albania  Algeria  Andorra  Angola  \\\n",
       "2021-07-05            75314   130029    98748    13721   33739   \n",
       "2021-07-06            76218   130033    99101    13752   34019   \n",
       "2021-07-07            77280   130035    99510    13757   34047   \n",
       "\n",
       "Country/Region  Antigua and Barbuda  Argentina  Armenia  Australia  Austria  \\\n",
       "2021-07-05                     1222    4175856   217198      23843   638378   \n",
       "2021-07-06                     1222    4192546   217250      23846   638456   \n",
       "2021-07-07                     1222    4206478   217303      23848   638566   \n",
       "\n",
       "Country/Region  ...  United Kingdom  Uruguay  Uzbekistan  Vanuatu  Venezuela  \\\n",
       "2021-07-05      ...           15777   356929      109068        3     260224   \n",
       "2021-07-06      ...           15867   358305      109349        3     261411   \n",
       "2021-07-07      ...           15870   359275      109676        3     262677   \n",
       "\n",
       "Country/Region  Vietnam  West Bank and Gaza  Yemen  Zambia  Zimbabwe  \n",
       "2021-07-05         8022              308774   4108  145908     41406  \n",
       "2021-07-06         8077              309059   4111  147751     41624  \n",
       "2021-07-07         8557              309251   4117  149421     42330  \n",
       "\n",
       "[3 rows x 195 columns]"
      ]
     },
     "execution_count": 38,
     "metadata": {},
     "output_type": "execute_result"
    }
   ],
   "source": [
    "jh_hist_countries_recovered.tail(3)"
   ]
  },
  {
   "cell_type": "markdown",
   "metadata": {},
   "source": [
    "##### 1B-7: Pivot Table on the JH historic **confirmed cases**, grouped / subtotalled by **US State**"
   ]
  },
  {
   "cell_type": "code",
   "execution_count": 39,
   "metadata": {},
   "outputs": [
    {
     "data": {
      "text/html": [
       "<div>\n",
       "<style scoped>\n",
       "    .dataframe tbody tr th:only-of-type {\n",
       "        vertical-align: middle;\n",
       "    }\n",
       "\n",
       "    .dataframe tbody tr th {\n",
       "        vertical-align: top;\n",
       "    }\n",
       "\n",
       "    .dataframe thead th {\n",
       "        text-align: right;\n",
       "    }\n",
       "</style>\n",
       "<table border=\"1\" class=\"dataframe\">\n",
       "  <thead>\n",
       "    <tr style=\"text-align: right;\">\n",
       "      <th></th>\n",
       "      <th>UID</th>\n",
       "      <th>iso2</th>\n",
       "      <th>iso3</th>\n",
       "      <th>code3</th>\n",
       "      <th>FIPS</th>\n",
       "      <th>Admin2</th>\n",
       "      <th>Province_State</th>\n",
       "      <th>Country_Region</th>\n",
       "      <th>Lat</th>\n",
       "      <th>Long_</th>\n",
       "      <th>...</th>\n",
       "      <th>6/28/21</th>\n",
       "      <th>6/29/21</th>\n",
       "      <th>6/30/21</th>\n",
       "      <th>7/1/21</th>\n",
       "      <th>7/2/21</th>\n",
       "      <th>7/3/21</th>\n",
       "      <th>7/4/21</th>\n",
       "      <th>7/5/21</th>\n",
       "      <th>7/6/21</th>\n",
       "      <th>7/7/21</th>\n",
       "    </tr>\n",
       "  </thead>\n",
       "  <tbody>\n",
       "    <tr>\n",
       "      <th>0</th>\n",
       "      <td>84001001</td>\n",
       "      <td>US</td>\n",
       "      <td>USA</td>\n",
       "      <td>840</td>\n",
       "      <td>1001.0</td>\n",
       "      <td>Autauga</td>\n",
       "      <td>Alabama</td>\n",
       "      <td>US</td>\n",
       "      <td>32.539527</td>\n",
       "      <td>-86.644082</td>\n",
       "      <td>...</td>\n",
       "      <td>7247</td>\n",
       "      <td>7247</td>\n",
       "      <td>7257</td>\n",
       "      <td>7257</td>\n",
       "      <td>7262</td>\n",
       "      <td>7262</td>\n",
       "      <td>7262</td>\n",
       "      <td>7262</td>\n",
       "      <td>7262</td>\n",
       "      <td>7277</td>\n",
       "    </tr>\n",
       "    <tr>\n",
       "      <th>37</th>\n",
       "      <td>84001075</td>\n",
       "      <td>US</td>\n",
       "      <td>USA</td>\n",
       "      <td>840</td>\n",
       "      <td>1075.0</td>\n",
       "      <td>Lamar</td>\n",
       "      <td>Alabama</td>\n",
       "      <td>US</td>\n",
       "      <td>33.779950</td>\n",
       "      <td>-88.096680</td>\n",
       "      <td>...</td>\n",
       "      <td>1472</td>\n",
       "      <td>1472</td>\n",
       "      <td>1476</td>\n",
       "      <td>1476</td>\n",
       "      <td>1476</td>\n",
       "      <td>1476</td>\n",
       "      <td>1476</td>\n",
       "      <td>1476</td>\n",
       "      <td>1476</td>\n",
       "      <td>1478</td>\n",
       "    </tr>\n",
       "    <tr>\n",
       "      <th>38</th>\n",
       "      <td>84001077</td>\n",
       "      <td>US</td>\n",
       "      <td>USA</td>\n",
       "      <td>840</td>\n",
       "      <td>1077.0</td>\n",
       "      <td>Lauderdale</td>\n",
       "      <td>Alabama</td>\n",
       "      <td>US</td>\n",
       "      <td>34.901719</td>\n",
       "      <td>-87.656247</td>\n",
       "      <td>...</td>\n",
       "      <td>9640</td>\n",
       "      <td>9640</td>\n",
       "      <td>9645</td>\n",
       "      <td>9645</td>\n",
       "      <td>9653</td>\n",
       "      <td>9653</td>\n",
       "      <td>9653</td>\n",
       "      <td>9653</td>\n",
       "      <td>9653</td>\n",
       "      <td>9674</td>\n",
       "    </tr>\n",
       "    <tr>\n",
       "      <th>39</th>\n",
       "      <td>84001079</td>\n",
       "      <td>US</td>\n",
       "      <td>USA</td>\n",
       "      <td>840</td>\n",
       "      <td>1079.0</td>\n",
       "      <td>Lawrence</td>\n",
       "      <td>Alabama</td>\n",
       "      <td>US</td>\n",
       "      <td>34.520415</td>\n",
       "      <td>-87.310695</td>\n",
       "      <td>...</td>\n",
       "      <td>3136</td>\n",
       "      <td>3136</td>\n",
       "      <td>3144</td>\n",
       "      <td>3144</td>\n",
       "      <td>3144</td>\n",
       "      <td>3144</td>\n",
       "      <td>3144</td>\n",
       "      <td>3144</td>\n",
       "      <td>3144</td>\n",
       "      <td>3146</td>\n",
       "    </tr>\n",
       "    <tr>\n",
       "      <th>40</th>\n",
       "      <td>84001081</td>\n",
       "      <td>US</td>\n",
       "      <td>USA</td>\n",
       "      <td>840</td>\n",
       "      <td>1081.0</td>\n",
       "      <td>Lee</td>\n",
       "      <td>Alabama</td>\n",
       "      <td>US</td>\n",
       "      <td>32.601549</td>\n",
       "      <td>-85.351322</td>\n",
       "      <td>...</td>\n",
       "      <td>16319</td>\n",
       "      <td>16319</td>\n",
       "      <td>16332</td>\n",
       "      <td>16332</td>\n",
       "      <td>16343</td>\n",
       "      <td>16343</td>\n",
       "      <td>16343</td>\n",
       "      <td>16343</td>\n",
       "      <td>16343</td>\n",
       "      <td>16390</td>\n",
       "    </tr>\n",
       "  </tbody>\n",
       "</table>\n",
       "<p>5 rows × 544 columns</p>\n",
       "</div>"
      ],
      "text/plain": [
       "         UID iso2 iso3  code3    FIPS      Admin2 Province_State  \\\n",
       "0   84001001   US  USA    840  1001.0     Autauga        Alabama   \n",
       "37  84001075   US  USA    840  1075.0       Lamar        Alabama   \n",
       "38  84001077   US  USA    840  1077.0  Lauderdale        Alabama   \n",
       "39  84001079   US  USA    840  1079.0    Lawrence        Alabama   \n",
       "40  84001081   US  USA    840  1081.0         Lee        Alabama   \n",
       "\n",
       "   Country_Region        Lat      Long_  ... 6/28/21  6/29/21  6/30/21  \\\n",
       "0              US  32.539527 -86.644082  ...    7247     7247     7257   \n",
       "37             US  33.779950 -88.096680  ...    1472     1472     1476   \n",
       "38             US  34.901719 -87.656247  ...    9640     9640     9645   \n",
       "39             US  34.520415 -87.310695  ...    3136     3136     3144   \n",
       "40             US  32.601549 -85.351322  ...   16319    16319    16332   \n",
       "\n",
       "    7/1/21  7/2/21  7/3/21  7/4/21  7/5/21  7/6/21  7/7/21  \n",
       "0     7257    7262    7262    7262    7262    7262    7277  \n",
       "37    1476    1476    1476    1476    1476    1476    1478  \n",
       "38    9645    9653    9653    9653    9653    9653    9674  \n",
       "39    3144    3144    3144    3144    3144    3144    3146  \n",
       "40   16332   16343   16343   16343   16343   16343   16390  \n",
       "\n",
       "[5 rows x 544 columns]"
      ]
     },
     "execution_count": 39,
     "metadata": {},
     "output_type": "execute_result"
    }
   ],
   "source": [
    "jh_hist_uscounties_cases.sort_values('Province_State').head()"
   ]
  },
  {
   "cell_type": "code",
   "execution_count": 40,
   "metadata": {},
   "outputs": [],
   "source": [
    "date_columns = jh_hist_uscounties_cases.iloc[:,11:].columns"
   ]
  },
  {
   "cell_type": "code",
   "execution_count": 41,
   "metadata": {},
   "outputs": [],
   "source": [
    "jh_hist_usstates_cases = pd.pivot_table(jh_hist_uscounties_cases, index=['Province_State'], \n",
    "                                           values=date_columns, aggfunc=np.sum)\n",
    "jh_hist_usstates_cases = jh_hist_usstates_cases.transpose()\n",
    "jh_hist_usstates_cases.index = pd.to_datetime(jh_hist_usstates_cases.index)\n",
    "jh_hist_usstates_cases = jh_hist_usstates_cases.sort_index()"
   ]
  },
  {
   "cell_type": "code",
   "execution_count": 42,
   "metadata": {},
   "outputs": [
    {
     "data": {
      "text/html": [
       "<div>\n",
       "<style scoped>\n",
       "    .dataframe tbody tr th:only-of-type {\n",
       "        vertical-align: middle;\n",
       "    }\n",
       "\n",
       "    .dataframe tbody tr th {\n",
       "        vertical-align: top;\n",
       "    }\n",
       "\n",
       "    .dataframe thead th {\n",
       "        text-align: right;\n",
       "    }\n",
       "</style>\n",
       "<table border=\"1\" class=\"dataframe\">\n",
       "  <thead>\n",
       "    <tr style=\"text-align: right;\">\n",
       "      <th>Province_State</th>\n",
       "      <th>Alabama</th>\n",
       "      <th>Alaska</th>\n",
       "      <th>American Samoa</th>\n",
       "      <th>Arizona</th>\n",
       "      <th>Arkansas</th>\n",
       "      <th>California</th>\n",
       "      <th>Colorado</th>\n",
       "      <th>Connecticut</th>\n",
       "      <th>Delaware</th>\n",
       "      <th>Diamond Princess</th>\n",
       "      <th>...</th>\n",
       "      <th>Tennessee</th>\n",
       "      <th>Texas</th>\n",
       "      <th>Utah</th>\n",
       "      <th>Vermont</th>\n",
       "      <th>Virgin Islands</th>\n",
       "      <th>Virginia</th>\n",
       "      <th>Washington</th>\n",
       "      <th>West Virginia</th>\n",
       "      <th>Wisconsin</th>\n",
       "      <th>Wyoming</th>\n",
       "    </tr>\n",
       "  </thead>\n",
       "  <tbody>\n",
       "    <tr>\n",
       "      <th>2021-07-05</th>\n",
       "      <td>551298</td>\n",
       "      <td>71384</td>\n",
       "      <td>0</td>\n",
       "      <td>897010</td>\n",
       "      <td>351825</td>\n",
       "      <td>3821572</td>\n",
       "      <td>559704</td>\n",
       "      <td>349476</td>\n",
       "      <td>109891</td>\n",
       "      <td>49</td>\n",
       "      <td>...</td>\n",
       "      <td>867407</td>\n",
       "      <td>3005221</td>\n",
       "      <td>416110</td>\n",
       "      <td>24419</td>\n",
       "      <td>3895</td>\n",
       "      <td>681194</td>\n",
       "      <td>452483</td>\n",
       "      <td>164149</td>\n",
       "      <td>678008</td>\n",
       "      <td>62445</td>\n",
       "    </tr>\n",
       "    <tr>\n",
       "      <th>2021-07-06</th>\n",
       "      <td>551298</td>\n",
       "      <td>71384</td>\n",
       "      <td>0</td>\n",
       "      <td>897910</td>\n",
       "      <td>352095</td>\n",
       "      <td>3824369</td>\n",
       "      <td>559921</td>\n",
       "      <td>349651</td>\n",
       "      <td>109900</td>\n",
       "      <td>49</td>\n",
       "      <td>...</td>\n",
       "      <td>868322</td>\n",
       "      <td>3006541</td>\n",
       "      <td>417259</td>\n",
       "      <td>24433</td>\n",
       "      <td>3895</td>\n",
       "      <td>681326</td>\n",
       "      <td>453665</td>\n",
       "      <td>164279</td>\n",
       "      <td>678048</td>\n",
       "      <td>62642</td>\n",
       "    </tr>\n",
       "    <tr>\n",
       "      <th>2021-07-07</th>\n",
       "      <td>552911</td>\n",
       "      <td>71598</td>\n",
       "      <td>0</td>\n",
       "      <td>898283</td>\n",
       "      <td>353095</td>\n",
       "      <td>3826508</td>\n",
       "      <td>560419</td>\n",
       "      <td>349743</td>\n",
       "      <td>109900</td>\n",
       "      <td>49</td>\n",
       "      <td>...</td>\n",
       "      <td>868738</td>\n",
       "      <td>3010929</td>\n",
       "      <td>417653</td>\n",
       "      <td>24440</td>\n",
       "      <td>3970</td>\n",
       "      <td>681599</td>\n",
       "      <td>454068</td>\n",
       "      <td>164346</td>\n",
       "      <td>678232</td>\n",
       "      <td>62737</td>\n",
       "    </tr>\n",
       "  </tbody>\n",
       "</table>\n",
       "<p>3 rows × 58 columns</p>\n",
       "</div>"
      ],
      "text/plain": [
       "Province_State  Alabama  Alaska  American Samoa  Arizona  Arkansas  \\\n",
       "2021-07-05       551298   71384               0   897010    351825   \n",
       "2021-07-06       551298   71384               0   897910    352095   \n",
       "2021-07-07       552911   71598               0   898283    353095   \n",
       "\n",
       "Province_State  California  Colorado  Connecticut  Delaware  Diamond Princess  \\\n",
       "2021-07-05         3821572    559704       349476    109891                49   \n",
       "2021-07-06         3824369    559921       349651    109900                49   \n",
       "2021-07-07         3826508    560419       349743    109900                49   \n",
       "\n",
       "Province_State  ...  Tennessee    Texas    Utah  Vermont  Virgin Islands  \\\n",
       "2021-07-05      ...     867407  3005221  416110    24419            3895   \n",
       "2021-07-06      ...     868322  3006541  417259    24433            3895   \n",
       "2021-07-07      ...     868738  3010929  417653    24440            3970   \n",
       "\n",
       "Province_State  Virginia  Washington  West Virginia  Wisconsin  Wyoming  \n",
       "2021-07-05        681194      452483         164149     678008    62445  \n",
       "2021-07-06        681326      453665         164279     678048    62642  \n",
       "2021-07-07        681599      454068         164346     678232    62737  \n",
       "\n",
       "[3 rows x 58 columns]"
      ]
     },
     "execution_count": 42,
     "metadata": {},
     "output_type": "execute_result"
    }
   ],
   "source": [
    "jh_hist_usstates_cases.tail(3)"
   ]
  },
  {
   "cell_type": "markdown",
   "metadata": {},
   "source": [
    "##### 1B-8: Pivot Table on the JH historic **confirmed cases**, grouped / subtotalled by **US County**"
   ]
  },
  {
   "cell_type": "code",
   "execution_count": 43,
   "metadata": {},
   "outputs": [],
   "source": [
    "jh_hist_uscounties_cases = pd.pivot_table(jh_hist_uscounties_cases, index=['Province_State', 'Admin2'], \n",
    "                                           values=date_columns, aggfunc=np.sum)\n",
    "jh_hist_uscounties_cases = jh_hist_uscounties_cases.transpose()\n",
    "jh_hist_uscounties_cases.index = pd.to_datetime(jh_hist_uscounties_cases.index)\n",
    "jh_hist_uscounties_cases = jh_hist_uscounties_cases.sort_index()"
   ]
  },
  {
   "cell_type": "code",
   "execution_count": 44,
   "metadata": {},
   "outputs": [
    {
     "data": {
      "text/html": [
       "<div>\n",
       "<style scoped>\n",
       "    .dataframe tbody tr th:only-of-type {\n",
       "        vertical-align: middle;\n",
       "    }\n",
       "\n",
       "    .dataframe tbody tr th {\n",
       "        vertical-align: top;\n",
       "    }\n",
       "\n",
       "    .dataframe thead tr th {\n",
       "        text-align: left;\n",
       "    }\n",
       "</style>\n",
       "<table border=\"1\" class=\"dataframe\">\n",
       "  <thead>\n",
       "    <tr>\n",
       "      <th>Province_State</th>\n",
       "      <th colspan=\"10\" halign=\"left\">Alabama</th>\n",
       "      <th>...</th>\n",
       "      <th colspan=\"10\" halign=\"left\">Wyoming</th>\n",
       "    </tr>\n",
       "    <tr>\n",
       "      <th>Admin2</th>\n",
       "      <th>Autauga</th>\n",
       "      <th>Baldwin</th>\n",
       "      <th>Barbour</th>\n",
       "      <th>Bibb</th>\n",
       "      <th>Blount</th>\n",
       "      <th>Bullock</th>\n",
       "      <th>Butler</th>\n",
       "      <th>Calhoun</th>\n",
       "      <th>Chambers</th>\n",
       "      <th>Cherokee</th>\n",
       "      <th>...</th>\n",
       "      <th>Park</th>\n",
       "      <th>Platte</th>\n",
       "      <th>Sheridan</th>\n",
       "      <th>Sublette</th>\n",
       "      <th>Sweetwater</th>\n",
       "      <th>Teton</th>\n",
       "      <th>Uinta</th>\n",
       "      <th>Unassigned</th>\n",
       "      <th>Washakie</th>\n",
       "      <th>Weston</th>\n",
       "    </tr>\n",
       "  </thead>\n",
       "  <tbody>\n",
       "    <tr>\n",
       "      <th>2021-07-05</th>\n",
       "      <td>7262</td>\n",
       "      <td>22043</td>\n",
       "      <td>2347</td>\n",
       "      <td>2693</td>\n",
       "      <td>6988</td>\n",
       "      <td>1250</td>\n",
       "      <td>2264</td>\n",
       "      <td>14778</td>\n",
       "      <td>3738</td>\n",
       "      <td>1874</td>\n",
       "      <td>...</td>\n",
       "      <td>2903</td>\n",
       "      <td>684</td>\n",
       "      <td>3273</td>\n",
       "      <td>797</td>\n",
       "      <td>4788</td>\n",
       "      <td>3802</td>\n",
       "      <td>2321</td>\n",
       "      <td>0</td>\n",
       "      <td>927</td>\n",
       "      <td>661</td>\n",
       "    </tr>\n",
       "    <tr>\n",
       "      <th>2021-07-06</th>\n",
       "      <td>7262</td>\n",
       "      <td>22043</td>\n",
       "      <td>2347</td>\n",
       "      <td>2693</td>\n",
       "      <td>6988</td>\n",
       "      <td>1250</td>\n",
       "      <td>2264</td>\n",
       "      <td>14778</td>\n",
       "      <td>3738</td>\n",
       "      <td>1874</td>\n",
       "      <td>...</td>\n",
       "      <td>2903</td>\n",
       "      <td>688</td>\n",
       "      <td>3273</td>\n",
       "      <td>799</td>\n",
       "      <td>4801</td>\n",
       "      <td>3804</td>\n",
       "      <td>2325</td>\n",
       "      <td>0</td>\n",
       "      <td>927</td>\n",
       "      <td>661</td>\n",
       "    </tr>\n",
       "    <tr>\n",
       "      <th>2021-07-07</th>\n",
       "      <td>7277</td>\n",
       "      <td>22154</td>\n",
       "      <td>2354</td>\n",
       "      <td>2699</td>\n",
       "      <td>7013</td>\n",
       "      <td>1250</td>\n",
       "      <td>2270</td>\n",
       "      <td>14795</td>\n",
       "      <td>3751</td>\n",
       "      <td>1885</td>\n",
       "      <td>...</td>\n",
       "      <td>2903</td>\n",
       "      <td>693</td>\n",
       "      <td>3276</td>\n",
       "      <td>800</td>\n",
       "      <td>4805</td>\n",
       "      <td>3805</td>\n",
       "      <td>2327</td>\n",
       "      <td>0</td>\n",
       "      <td>927</td>\n",
       "      <td>663</td>\n",
       "    </tr>\n",
       "  </tbody>\n",
       "</table>\n",
       "<p>3 rows × 3336 columns</p>\n",
       "</div>"
      ],
      "text/plain": [
       "Province_State Alabama                                                      \\\n",
       "Admin2         Autauga Baldwin Barbour  Bibb Blount Bullock Butler Calhoun   \n",
       "2021-07-05        7262   22043    2347  2693   6988    1250   2264   14778   \n",
       "2021-07-06        7262   22043    2347  2693   6988    1250   2264   14778   \n",
       "2021-07-07        7277   22154    2354  2699   7013    1250   2270   14795   \n",
       "\n",
       "Province_State                    ... Wyoming                           \\\n",
       "Admin2         Chambers Cherokee  ...    Park Platte Sheridan Sublette   \n",
       "2021-07-05         3738     1874  ...    2903    684     3273      797   \n",
       "2021-07-06         3738     1874  ...    2903    688     3273      799   \n",
       "2021-07-07         3751     1885  ...    2903    693     3276      800   \n",
       "\n",
       "Province_State                                                    \n",
       "Admin2         Sweetwater Teton Uinta Unassigned Washakie Weston  \n",
       "2021-07-05           4788  3802  2321          0      927    661  \n",
       "2021-07-06           4801  3804  2325          0      927    661  \n",
       "2021-07-07           4805  3805  2327          0      927    663  \n",
       "\n",
       "[3 rows x 3336 columns]"
      ]
     },
     "execution_count": 44,
     "metadata": {},
     "output_type": "execute_result"
    }
   ],
   "source": [
    "jh_hist_uscounties_cases.tail(3)"
   ]
  },
  {
   "cell_type": "markdown",
   "metadata": {},
   "source": [
    "##### 1B-9: Pivot Table on the JH historic **deaths**, grouped / subtotalled by **US State**"
   ]
  },
  {
   "cell_type": "code",
   "execution_count": 45,
   "metadata": {},
   "outputs": [
    {
     "ename": "KeyError",
     "evalue": "'7/7/21'",
     "output_type": "error",
     "traceback": [
      "\u001b[0;31m---------------------------------------------------------------------------\u001b[0m",
      "\u001b[0;31mKeyError\u001b[0m                                  Traceback (most recent call last)",
      "\u001b[0;32m<ipython-input-45-37b8b902ef54>\u001b[0m in \u001b[0;36m<module>\u001b[0;34m\u001b[0m\n\u001b[0;32m----> 1\u001b[0;31m jh_hist_usstates_deaths = pd.pivot_table(jh_hist_uscounties_deaths, index=['Province_State'], \n\u001b[0m\u001b[1;32m      2\u001b[0m                                            values=date_columns, aggfunc=np.sum)\n\u001b[1;32m      3\u001b[0m \u001b[0mjh_hist_usstates_deaths\u001b[0m \u001b[0;34m=\u001b[0m \u001b[0mjh_hist_usstates_deaths\u001b[0m\u001b[0;34m.\u001b[0m\u001b[0mtranspose\u001b[0m\u001b[0;34m(\u001b[0m\u001b[0;34m)\u001b[0m\u001b[0;34m\u001b[0m\u001b[0;34m\u001b[0m\u001b[0m\n\u001b[1;32m      4\u001b[0m \u001b[0mjh_hist_usstates_deaths\u001b[0m\u001b[0;34m.\u001b[0m\u001b[0mindex\u001b[0m \u001b[0;34m=\u001b[0m \u001b[0mpd\u001b[0m\u001b[0;34m.\u001b[0m\u001b[0mto_datetime\u001b[0m\u001b[0;34m(\u001b[0m\u001b[0mjh_hist_usstates_deaths\u001b[0m\u001b[0;34m.\u001b[0m\u001b[0mindex\u001b[0m\u001b[0;34m)\u001b[0m\u001b[0;34m\u001b[0m\u001b[0;34m\u001b[0m\u001b[0m\n\u001b[1;32m      5\u001b[0m \u001b[0mjh_hist_usstates_deaths\u001b[0m \u001b[0;34m=\u001b[0m \u001b[0mjh_hist_usstates_deaths\u001b[0m\u001b[0;34m.\u001b[0m\u001b[0msort_index\u001b[0m\u001b[0;34m(\u001b[0m\u001b[0;34m)\u001b[0m\u001b[0;34m\u001b[0m\u001b[0;34m\u001b[0m\u001b[0m\n",
      "\u001b[0;32m~/anaconda3/lib/python3.8/site-packages/pandas/core/reshape/pivot.py\u001b[0m in \u001b[0;36mpivot_table\u001b[0;34m(data, values, index, columns, aggfunc, fill_value, margins, dropna, margins_name, observed)\u001b[0m\n\u001b[1;32m     87\u001b[0m         \u001b[0;32mfor\u001b[0m \u001b[0mi\u001b[0m \u001b[0;32min\u001b[0m \u001b[0mvalues\u001b[0m\u001b[0;34m:\u001b[0m\u001b[0;34m\u001b[0m\u001b[0;34m\u001b[0m\u001b[0m\n\u001b[1;32m     88\u001b[0m             \u001b[0;32mif\u001b[0m \u001b[0mi\u001b[0m \u001b[0;32mnot\u001b[0m \u001b[0;32min\u001b[0m \u001b[0mdata\u001b[0m\u001b[0;34m:\u001b[0m\u001b[0;34m\u001b[0m\u001b[0;34m\u001b[0m\u001b[0m\n\u001b[0;32m---> 89\u001b[0;31m                 \u001b[0;32mraise\u001b[0m \u001b[0mKeyError\u001b[0m\u001b[0;34m(\u001b[0m\u001b[0mi\u001b[0m\u001b[0;34m)\u001b[0m\u001b[0;34m\u001b[0m\u001b[0;34m\u001b[0m\u001b[0m\n\u001b[0m\u001b[1;32m     90\u001b[0m \u001b[0;34m\u001b[0m\u001b[0m\n\u001b[1;32m     91\u001b[0m         \u001b[0mto_filter\u001b[0m \u001b[0;34m=\u001b[0m \u001b[0;34m[\u001b[0m\u001b[0;34m]\u001b[0m\u001b[0;34m\u001b[0m\u001b[0;34m\u001b[0m\u001b[0m\n",
      "\u001b[0;31mKeyError\u001b[0m: '7/7/21'"
     ]
    }
   ],
   "source": [
    "jh_hist_usstates_deaths = pd.pivot_table(jh_hist_uscounties_deaths, index=['Province_State'], \n",
    "                                           values=date_columns, aggfunc=np.sum)\n",
    "jh_hist_usstates_deaths = jh_hist_usstates_deaths.transpose()\n",
    "jh_hist_usstates_deaths.index = pd.to_datetime(jh_hist_usstates_deaths.index)\n",
    "jh_hist_usstates_deaths = jh_hist_usstates_deaths.sort_index()"
   ]
  },
  {
   "cell_type": "code",
   "execution_count": null,
   "metadata": {},
   "outputs": [],
   "source": [
    "jh_hist_usstates_deaths.tail(3)"
   ]
  },
  {
   "cell_type": "markdown",
   "metadata": {},
   "source": [
    "##### 1B-10: Pivot Table on the JH historic **deaths**, grouped / subtotalled by **US County**"
   ]
  },
  {
   "cell_type": "code",
   "execution_count": null,
   "metadata": {},
   "outputs": [],
   "source": [
    "jh_hist_uscounties_deaths = pd.pivot_table(jh_hist_uscounties_deaths, index=['Province_State', 'Admin2'], \n",
    "                                           values=date_columns, aggfunc=np.sum)\n",
    "jh_hist_uscounties_deaths = jh_hist_uscounties_deaths.transpose()\n",
    "jh_hist_uscounties_deaths.index = pd.to_datetime(jh_hist_uscounties_deaths.index)\n",
    "jh_hist_uscounties_deaths = jh_hist_uscounties_deaths.sort_index()"
   ]
  },
  {
   "cell_type": "code",
   "execution_count": null,
   "metadata": {},
   "outputs": [],
   "source": [
    "jh_hist_uscounties_deaths.tail(3)"
   ]
  },
  {
   "cell_type": "markdown",
   "metadata": {},
   "source": [
    "#### 1C: Export the data"
   ]
  },
  {
   "cell_type": "markdown",
   "metadata": {},
   "source": [
    "##### 1C-1: Export the JH live global data, grouped / subtotalled by **Country**"
   ]
  },
  {
   "cell_type": "code",
   "execution_count": null,
   "metadata": {},
   "outputs": [],
   "source": [
    "filename = os.path.join(os.getcwd(), 'Datasets/JH/jh_live_countries.csv')\n",
    "jh_live_countries.to_csv(filename, index=True)"
   ]
  },
  {
   "cell_type": "markdown",
   "metadata": {},
   "source": [
    "##### 1C-2: Export the JH live global data, grouped / subtotalled by **US State**"
   ]
  },
  {
   "cell_type": "code",
   "execution_count": null,
   "metadata": {},
   "outputs": [],
   "source": [
    "filename = os.path.join(os.getcwd(), 'Datasets/JH/jh_live_usstates.csv')\n",
    "jh_live_usstates.to_csv(filename, index=True)"
   ]
  },
  {
   "cell_type": "markdown",
   "metadata": {},
   "source": [
    "##### 1C-3: Export the JH live global data, grouped / subtotalled by **US County**"
   ]
  },
  {
   "cell_type": "code",
   "execution_count": null,
   "metadata": {},
   "outputs": [],
   "source": [
    "filename = os.path.join(os.getcwd(), 'Datasets/JH/jh_live_uscounties.csv')\n",
    "jh_live_uscounties.to_csv(filename, index=True)"
   ]
  },
  {
   "cell_type": "markdown",
   "metadata": {},
   "source": [
    "##### 1C-4: Export the JH historic **confirmed cases**, grouped / subtotalled by **Country**"
   ]
  },
  {
   "cell_type": "code",
   "execution_count": null,
   "metadata": {},
   "outputs": [],
   "source": [
    "filename = os.path.join(os.getcwd(), 'Datasets/JH/jh_hist_countries_cases.csv')\n",
    "jh_hist_countries_cases.to_csv(filename, index=True)"
   ]
  },
  {
   "cell_type": "markdown",
   "metadata": {},
   "source": [
    "##### 1C-5: Export the JH historic **deaths**, grouped / subtotalled by **Country**"
   ]
  },
  {
   "cell_type": "code",
   "execution_count": null,
   "metadata": {},
   "outputs": [],
   "source": [
    "filename = os.path.join(os.getcwd(), 'Datasets/JH/jh_hist_countries_deaths.csv')\n",
    "jh_hist_countries_deaths.to_csv(filename, index=True)"
   ]
  },
  {
   "cell_type": "markdown",
   "metadata": {},
   "source": [
    "##### 1C-6: Export the JH historic **recoveries**, grouped / subtotalled by **Country**"
   ]
  },
  {
   "cell_type": "code",
   "execution_count": null,
   "metadata": {},
   "outputs": [],
   "source": [
    "filename = os.path.join(os.getcwd(), 'Datasets/JH/jh_hist_countries_recovered.csv')\n",
    "jh_hist_countries_recovered.to_csv(filename, index=True)"
   ]
  },
  {
   "cell_type": "markdown",
   "metadata": {},
   "source": [
    "##### 1C-7: Export the JH historic **confirmed cases**, grouped / subtotalled by **US State**"
   ]
  },
  {
   "cell_type": "code",
   "execution_count": null,
   "metadata": {},
   "outputs": [],
   "source": [
    "filename = os.path.join(os.getcwd(), 'Datasets/JH/jh_hist_usstates_cases.csv')\n",
    "jh_hist_usstates_cases.to_csv(filename, index=True)"
   ]
  },
  {
   "cell_type": "markdown",
   "metadata": {},
   "source": [
    "##### 1C-8: Export the JH historic **confirmed cases**, grouped / subtotalled by **US County**"
   ]
  },
  {
   "cell_type": "code",
   "execution_count": null,
   "metadata": {},
   "outputs": [],
   "source": [
    "filename = os.path.join(os.getcwd(), 'Datasets/JH/jh_hist_uscounties_cases.csv')\n",
    "jh_hist_uscounties_cases.to_csv(filename, index=True)"
   ]
  },
  {
   "cell_type": "markdown",
   "metadata": {},
   "source": [
    "##### 1C-9: Export the JH historic **deaths**, grouped / subtotalled by **US State**"
   ]
  },
  {
   "cell_type": "code",
   "execution_count": null,
   "metadata": {},
   "outputs": [],
   "source": [
    "filename = os.path.join(os.getcwd(), 'Datasets/JH/jh_hist_usstates_deaths.csv')\n",
    "jh_hist_usstates_deaths.to_csv(filename, index=True)"
   ]
  },
  {
   "cell_type": "markdown",
   "metadata": {},
   "source": [
    "##### 1C-10: Export the JH historic **deaths**, grouped / subtotalled by **US County**"
   ]
  },
  {
   "cell_type": "code",
   "execution_count": null,
   "metadata": {},
   "outputs": [],
   "source": [
    "filename = os.path.join(os.getcwd(), 'Datasets/JH/jh_hist_uscounties_deaths.csv')\n",
    "jh_hist_uscounties_deaths.to_csv(filename, index=True)"
   ]
  },
  {
   "cell_type": "markdown",
   "metadata": {},
   "source": [
    "#### 1D: Calculate daily % change for each historic dataset (match numbering sequence, export as well)"
   ]
  },
  {
   "cell_type": "markdown",
   "metadata": {},
   "source": [
    "##### 1D-4: Daily % change JH historic **confirmed cases**, grouped / subtotalled by **Country**"
   ]
  },
  {
   "cell_type": "code",
   "execution_count": null,
   "metadata": {},
   "outputs": [],
   "source": [
    "jh_hist_countries_cases_pct = jh_hist_countries_cases.pct_change()"
   ]
  },
  {
   "cell_type": "code",
   "execution_count": null,
   "metadata": {},
   "outputs": [],
   "source": [
    "jh_hist_countries_cases_pct.tail(3)"
   ]
  },
  {
   "cell_type": "code",
   "execution_count": null,
   "metadata": {},
   "outputs": [],
   "source": [
    "filename = os.path.join(os.getcwd(), 'Datasets/JH/jh_hist_countries_cases_pct.csv')\n",
    "jh_hist_countries_cases_pct.to_csv(filename, index=True)"
   ]
  },
  {
   "cell_type": "markdown",
   "metadata": {},
   "source": [
    "##### 1D-5: Daily % change JH historic **deaths**, grouped / subtotalled by **Country**"
   ]
  },
  {
   "cell_type": "code",
   "execution_count": null,
   "metadata": {},
   "outputs": [],
   "source": [
    "jh_hist_countries_deaths_pct = jh_hist_countries_deaths.pct_change()"
   ]
  },
  {
   "cell_type": "code",
   "execution_count": null,
   "metadata": {},
   "outputs": [],
   "source": [
    "jh_hist_countries_deaths_pct.tail(3)"
   ]
  },
  {
   "cell_type": "code",
   "execution_count": null,
   "metadata": {},
   "outputs": [],
   "source": [
    "filename = os.path.join(os.getcwd(), 'Datasets/JH/jh_hist_countries_deaths_pct.csv')\n",
    "jh_hist_countries_deaths_pct.to_csv(filename, index=True)"
   ]
  },
  {
   "cell_type": "markdown",
   "metadata": {},
   "source": [
    "##### 1D-6: Daily % change Export the JH historic **recoveries**, grouped / subtotalled by **Country**"
   ]
  },
  {
   "cell_type": "code",
   "execution_count": null,
   "metadata": {},
   "outputs": [],
   "source": [
    "jh_hist_countries_recovered_pct = jh_hist_countries_recovered.pct_change()"
   ]
  },
  {
   "cell_type": "code",
   "execution_count": null,
   "metadata": {},
   "outputs": [],
   "source": [
    "jh_hist_countries_recovered_pct.tail(3)"
   ]
  },
  {
   "cell_type": "code",
   "execution_count": null,
   "metadata": {},
   "outputs": [],
   "source": [
    "filename = os.path.join(os.getcwd(), 'Datasets/JH/jh_hist_countries_recovered_pct.csv')\n",
    "jh_hist_countries_recovered_pct.to_csv(filename, index=True)"
   ]
  },
  {
   "cell_type": "markdown",
   "metadata": {},
   "source": [
    "##### 1D-7: Daily % change JH historic **confirmed cases**, grouped / subtotalled by **US State**"
   ]
  },
  {
   "cell_type": "code",
   "execution_count": null,
   "metadata": {},
   "outputs": [],
   "source": [
    "jh_hist_usstates_cases_pct = jh_hist_usstates_cases.pct_change()"
   ]
  },
  {
   "cell_type": "code",
   "execution_count": null,
   "metadata": {},
   "outputs": [],
   "source": [
    "jh_hist_usstates_cases_pct.tail(3)"
   ]
  },
  {
   "cell_type": "code",
   "execution_count": null,
   "metadata": {},
   "outputs": [],
   "source": [
    "filename = os.path.join(os.getcwd(), 'Datasets/JH/jh_hist_usstates_cases_pct.csv')\n",
    "jh_hist_usstates_cases_pct.to_csv(filename, index=True)"
   ]
  },
  {
   "cell_type": "markdown",
   "metadata": {},
   "source": [
    "##### 1D-8: Daily % change JH historic **confirmed cases**, grouped / subtotalled by **US County**"
   ]
  },
  {
   "cell_type": "code",
   "execution_count": null,
   "metadata": {},
   "outputs": [],
   "source": [
    "jh_hist_uscounties_cases_pct = jh_hist_uscounties_cases.pct_change()"
   ]
  },
  {
   "cell_type": "code",
   "execution_count": null,
   "metadata": {},
   "outputs": [],
   "source": [
    "jh_hist_uscounties_cases_pct.tail(3)"
   ]
  },
  {
   "cell_type": "code",
   "execution_count": null,
   "metadata": {},
   "outputs": [],
   "source": [
    "filename = os.path.join(os.getcwd(), 'Datasets/JH/jh_hist_uscounties_cases_pct.csv')\n",
    "jh_hist_uscounties_cases_pct.to_csv(filename, index=True)"
   ]
  },
  {
   "cell_type": "markdown",
   "metadata": {},
   "source": [
    "##### 1D-9: Daily % change JH historic **deaths**, grouped / subtotalled by **US State**"
   ]
  },
  {
   "cell_type": "code",
   "execution_count": null,
   "metadata": {},
   "outputs": [],
   "source": [
    "jh_hist_usstates_deaths_pct = jh_hist_usstates_deaths.pct_change()"
   ]
  },
  {
   "cell_type": "code",
   "execution_count": null,
   "metadata": {},
   "outputs": [],
   "source": [
    "jh_hist_usstates_deaths_pct.tail(3)"
   ]
  },
  {
   "cell_type": "code",
   "execution_count": null,
   "metadata": {},
   "outputs": [],
   "source": [
    "filename = os.path.join(os.getcwd(), 'Datasets/JH/jh_hist_usstates_deaths_pct.csv')\n",
    "jh_hist_usstates_deaths_pct.to_csv(filename, index=True)"
   ]
  },
  {
   "cell_type": "markdown",
   "metadata": {},
   "source": [
    "##### 1D-10: Daily % change JH historic **deaths**, grouped / subtotalled by **US County**"
   ]
  },
  {
   "cell_type": "code",
   "execution_count": null,
   "metadata": {},
   "outputs": [],
   "source": [
    "jh_hist_uscounties_deaths_pct = jh_hist_uscounties_deaths.pct_change()"
   ]
  },
  {
   "cell_type": "code",
   "execution_count": null,
   "metadata": {},
   "outputs": [],
   "source": [
    "jh_hist_uscounties_deaths_pct.tail(3)"
   ]
  },
  {
   "cell_type": "code",
   "execution_count": null,
   "metadata": {},
   "outputs": [],
   "source": [
    "filename = os.path.join(os.getcwd(), 'Datasets/JH/jh_hist_uscounties_deaths_pct.csv')\n",
    "jh_hist_uscounties_deaths_pct.to_csv(filename, index=True)"
   ]
  },
  {
   "cell_type": "markdown",
   "metadata": {},
   "source": [
    "#### 1E: Calculate exponential weighted moving average (3 day) for each historic dataset (match numbering sequence, export as well)"
   ]
  },
  {
   "cell_type": "markdown",
   "metadata": {},
   "source": [
    "This is useful to see which countries / states / counties are becoming hot spots or which are cooling down.  \n",
    "Exponential weighted moving averages (EWMA) blend the most recent x days, using a heavier weight for more recent data.  \n",
    "https://pandas.pydata.org/pandas-docs/stable/reference/api/pandas.DataFrame.ewm.html  \n",
    "Using the EWMA gives the best balance of minimizing erratic daily changes by using a moving avg, while giving more credence to recent data vs a simple moving avg.  "
   ]
  },
  {
   "cell_type": "markdown",
   "metadata": {},
   "source": [
    "##### 1E-4: EWMA of Daily % change JH historic **confirmed cases**, grouped / subtotalled by **Country**"
   ]
  },
  {
   "cell_type": "code",
   "execution_count": null,
   "metadata": {},
   "outputs": [],
   "source": [
    "jh_hist_countries_cases_pct_ewma = jh_hist_countries_cases_pct.ewm(span=3).mean()"
   ]
  },
  {
   "cell_type": "code",
   "execution_count": null,
   "metadata": {},
   "outputs": [],
   "source": [
    "jh_hist_countries_cases_pct_ewma.tail(3)"
   ]
  },
  {
   "cell_type": "code",
   "execution_count": null,
   "metadata": {},
   "outputs": [],
   "source": [
    "filename = os.path.join(os.getcwd(), 'Datasets/JH/jh_hist_countries_cases_pct_ewma.csv')\n",
    "jh_hist_countries_cases_pct_ewma.to_csv(filename, index=True)"
   ]
  },
  {
   "cell_type": "markdown",
   "metadata": {},
   "source": [
    "##### 1E-5: EWMA of Daily % change JH historic **deaths**, grouped / subtotalled by **Country**"
   ]
  },
  {
   "cell_type": "code",
   "execution_count": null,
   "metadata": {},
   "outputs": [],
   "source": [
    "jh_hist_countries_deaths_pct_ewma = jh_hist_countries_deaths_pct.ewm(span=3).mean()"
   ]
  },
  {
   "cell_type": "code",
   "execution_count": null,
   "metadata": {},
   "outputs": [],
   "source": [
    "jh_hist_countries_deaths_pct_ewma.tail(3)"
   ]
  },
  {
   "cell_type": "code",
   "execution_count": null,
   "metadata": {},
   "outputs": [],
   "source": [
    "filename = os.path.join(os.getcwd(), 'Datasets/JH/jh_hist_countries_deaths_pct_ewma.csv')\n",
    "jh_hist_countries_deaths_pct_ewma.to_csv(filename, index=True)"
   ]
  },
  {
   "cell_type": "markdown",
   "metadata": {},
   "source": [
    "##### 1E-6: EWMA of Daily % change Export the JH historic **recovered**, grouped / subtotalled by **Country**"
   ]
  },
  {
   "cell_type": "code",
   "execution_count": null,
   "metadata": {},
   "outputs": [],
   "source": [
    "jh_hist_countries_recovered_pct_ewma = jh_hist_countries_recovered_pct.ewm(span=3).mean()"
   ]
  },
  {
   "cell_type": "code",
   "execution_count": null,
   "metadata": {},
   "outputs": [],
   "source": [
    "jh_hist_countries_recovered_pct_ewma.tail(3)"
   ]
  },
  {
   "cell_type": "code",
   "execution_count": null,
   "metadata": {},
   "outputs": [],
   "source": [
    "filename = os.path.join(os.getcwd(), 'Datasets/JH/jh_hist_countries_recovered_pct_ewma.csv')\n",
    "jh_hist_countries_recovered_pct_ewma.to_csv(filename, index=True)"
   ]
  },
  {
   "cell_type": "markdown",
   "metadata": {},
   "source": [
    "##### 1E-7: EWMA of Daily % change JH historic **confirmed cases**, grouped / subtotalled by **US State**"
   ]
  },
  {
   "cell_type": "code",
   "execution_count": null,
   "metadata": {},
   "outputs": [],
   "source": [
    "jh_hist_usstates_cases_pct_ewma = jh_hist_usstates_cases_pct.ewm(span=3).mean()"
   ]
  },
  {
   "cell_type": "code",
   "execution_count": null,
   "metadata": {},
   "outputs": [],
   "source": [
    "jh_hist_usstates_cases_pct_ewma.tail(3)"
   ]
  },
  {
   "cell_type": "code",
   "execution_count": null,
   "metadata": {},
   "outputs": [],
   "source": [
    "filename = os.path.join(os.getcwd(), 'Datasets/JH/jh_hist_usstates_cases_pct_ewma.csv')\n",
    "jh_hist_usstates_cases_pct_ewma.to_csv(filename, index=True)"
   ]
  },
  {
   "cell_type": "markdown",
   "metadata": {},
   "source": [
    "##### 1E-8: EWMA of Daily % change JH historic **confirmed cases**, grouped / subtotalled by **US County**"
   ]
  },
  {
   "cell_type": "code",
   "execution_count": null,
   "metadata": {},
   "outputs": [],
   "source": [
    "jh_hist_uscounties_cases_pct_ewma = jh_hist_uscounties_cases_pct.ewm(span=3).mean()"
   ]
  },
  {
   "cell_type": "code",
   "execution_count": null,
   "metadata": {},
   "outputs": [],
   "source": [
    "jh_hist_uscounties_cases_pct_ewma.tail(3)"
   ]
  },
  {
   "cell_type": "code",
   "execution_count": null,
   "metadata": {},
   "outputs": [],
   "source": [
    "filename = os.path.join(os.getcwd(), 'Datasets/JH/jh_hist_uscounties_cases_pct_ewma.csv')\n",
    "jh_hist_uscounties_cases_pct_ewma.to_csv(filename, index=True)"
   ]
  },
  {
   "cell_type": "markdown",
   "metadata": {},
   "source": [
    "##### 1E-9: EWMA of Daily % change JH historic **deaths**, grouped / subtotalled by **US State**"
   ]
  },
  {
   "cell_type": "code",
   "execution_count": null,
   "metadata": {},
   "outputs": [],
   "source": [
    "jh_hist_usstates_deaths_pct_ewma = jh_hist_usstates_deaths_pct.ewm(span=3).mean()"
   ]
  },
  {
   "cell_type": "code",
   "execution_count": null,
   "metadata": {},
   "outputs": [],
   "source": [
    "jh_hist_usstates_deaths_pct_ewma.tail(3)"
   ]
  },
  {
   "cell_type": "code",
   "execution_count": null,
   "metadata": {},
   "outputs": [],
   "source": [
    "filename = os.path.join(os.getcwd(), 'Datasets/JH/jh_hist_usstates_deaths_pct_ewma.csv')\n",
    "jh_hist_usstates_deaths_pct_ewma.to_csv(filename, index=True)"
   ]
  },
  {
   "cell_type": "markdown",
   "metadata": {},
   "source": [
    "##### 1E-10: EWMA of Daily % change JH historic **deaths**, grouped / subtotalled by **US County**"
   ]
  },
  {
   "cell_type": "code",
   "execution_count": null,
   "metadata": {},
   "outputs": [],
   "source": [
    "jh_hist_uscounties_deaths_pct_ewma = jh_hist_uscounties_deaths_pct.ewm(span=3).mean()"
   ]
  },
  {
   "cell_type": "code",
   "execution_count": null,
   "metadata": {},
   "outputs": [],
   "source": [
    "jh_hist_uscounties_deaths_pct_ewma.tail(3)"
   ]
  },
  {
   "cell_type": "code",
   "execution_count": null,
   "metadata": {},
   "outputs": [],
   "source": [
    "filename = os.path.join(os.getcwd(), 'Datasets/JH/jh_hist_uscounties_deaths_pct_ewma.csv')\n",
    "jh_hist_uscounties_deaths_pct_ewma.to_csv(filename, index=True)"
   ]
  },
  {
   "cell_type": "markdown",
   "metadata": {},
   "source": [
    "### Dataset 2: US States - Covid Tracking Project"
   ]
  },
  {
   "cell_type": "markdown",
   "metadata": {},
   "source": [
    "The Covid Tracking Project stores data in both API (JSON) and CSV formats.  We'll be loading the CSV files into Pandas here.  \n",
    "https://covidtracking.com/api/  \n",
    "\n",
    "States current - /api/v1/states/current.csv | [CSV](https://covidtracking.com/api/v1/states/current.csv)  \n",
    "States historic - /api/v1/states/daily.csv | [CSV](https://covidtracking.com/api/v1/states/daily.csv)  \n",
    "States info - /api/v1/states/info.csv | [CSV](https://covidtracking.com/api/v1/states/info.csv)   "
   ]
  },
  {
   "cell_type": "markdown",
   "metadata": {},
   "source": [
    "#### 2A: Pull the Data from CT's API, immediately export as 'orig'"
   ]
  },
  {
   "cell_type": "code",
   "execution_count": null,
   "metadata": {},
   "outputs": [],
   "source": [
    "ct_live_usstates = pd.read_csv(\"https://covidtracking.com/api/v1/states/current.csv\")\n",
    "ct_live_usstates.head()"
   ]
  },
  {
   "cell_type": "code",
   "execution_count": null,
   "metadata": {},
   "outputs": [],
   "source": [
    "filename = os.path.join(os.getcwd(), 'Datasets/CT/orig/ct_live_usstates_orig.csv')\n",
    "ct_live_usstates.to_csv(filename, index=False)"
   ]
  },
  {
   "cell_type": "code",
   "execution_count": null,
   "metadata": {},
   "outputs": [],
   "source": [
    "ct_hist_usstates = pd.read_csv(\"https://covidtracking.com/api/v1/states/daily.csv\")\n",
    "ct_hist_usstates.head()"
   ]
  },
  {
   "cell_type": "code",
   "execution_count": null,
   "metadata": {},
   "outputs": [],
   "source": [
    "filename = os.path.join(os.getcwd(), 'Datasets/CT/orig/ct_hist_usstates_orig.csv')\n",
    "ct_hist_usstates.to_csv(filename, index=False)"
   ]
  },
  {
   "cell_type": "markdown",
   "metadata": {},
   "source": [
    "#### 2B: Change the dates to datetime format, make them the index for both datasets"
   ]
  },
  {
   "cell_type": "code",
   "execution_count": null,
   "metadata": {},
   "outputs": [],
   "source": [
    "ct_live_usstates['date'] = ct_live_usstates['date'].map(lambda d : str(d)[:4] + '-' + str(d)[4:6] + '-' + str(d)[6:])\n",
    "ct_live_usstates['date'] = pd.to_datetime(ct_live_usstates['date'])\n",
    "ct_live_usstates.set_index('date', inplace=True)\n",
    "ct_live_usstates.head()"
   ]
  },
  {
   "cell_type": "code",
   "execution_count": null,
   "metadata": {},
   "outputs": [],
   "source": [
    "ct_hist_usstates['date'] = ct_hist_usstates['date'].map(lambda d : str(d)[:4] + '-' + str(d)[4:6] + '-' + str(d)[6:])\n",
    "ct_hist_usstates['date'] = pd.to_datetime(ct_hist_usstates['date'])\n",
    "ct_hist_usstates.set_index('date', inplace=True)\n",
    "ct_hist_usstates.head()"
   ]
  },
  {
   "cell_type": "code",
   "execution_count": null,
   "metadata": {},
   "outputs": [],
   "source": []
  }
 ],
 "metadata": {
  "kernelspec": {
   "display_name": "Python 3",
   "language": "python",
   "name": "python3"
  },
  "language_info": {
   "codemirror_mode": {
    "name": "ipython",
    "version": 3
   },
   "file_extension": ".py",
   "mimetype": "text/x-python",
   "name": "python",
   "nbconvert_exporter": "python",
   "pygments_lexer": "ipython3",
   "version": "3.8.8"
  }
 },
 "nbformat": 4,
 "nbformat_minor": 4
}
